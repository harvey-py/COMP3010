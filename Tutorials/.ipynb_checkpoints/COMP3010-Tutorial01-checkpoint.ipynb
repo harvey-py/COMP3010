{
 "cells": [
  {
   "cell_type": "markdown",
   "metadata": {
    "id": "fWNvAif9LqB4"
   },
   "source": [
    "# **COMP3010 - Machine Learning**\n",
    "\n",
    "The tutorial contains two parts: (theoretical) discussion and (practical) coding. The discussion part consists of important concepts, advanced topics, or open-ended questions, for which we want an in-depth discussion. The coding part contains programming exercises for you to gain hands on experience.\n",
    "\n",
    "## **Tutorial 01**\n",
    "Learning outcomes:\n",
    "\n",
    "*   Familiar Google Colab\n",
    "*   Understand basic concepts of machine learning (ML)\n",
    "*   Get to know commonly used python ML libraries, including\n",
    "    *   Numpy\n",
    "    *   Pandas\n",
    "    *   Scikit-learn\n",
    "    *   Matplotlib\n"
   ]
  },
  {
   "cell_type": "markdown",
   "metadata": {
    "id": "i3BdVmSk1QFu"
   },
   "source": [
    "## **Discussion**\n",
    "\n",
    "\n",
    "1.   Describe what is AI? what is machine learning (ML)?\n",
    "\n",
    "* ML = subset of AI, focused on the \"thinking\" side of things\n",
    "\n",
    "2.   Is the subject of ML Science or Engineering?\n",
    "\n",
    "# Both\n",
    "\n",
    "3.   Explore the role of machine learning in other scientific fields, such as biology, medical, or social sciences. How can machine learning contribute to advancements in these areas?\n",
    "\n",
    "*  ...\n",
    "\n",
    "4.   How important is it for machine learning models to be transparent and explainable? Discuss the trade-offs between model complexity and interpretability.\n",
    "\n",
    "*  E.g. deep learning = \"black box\", don't actually know how it works\n",
    "*  E.g. SLR = very simple model, low learning capacity, but v easy to explain\n",
    "*  Generally trade-off complexity for interpretability\n",
    "\n",
    "5.   Describe supervised learning with the iterative framework.\n",
    "\n",
    "*  4 parts:\n",
    "    * Data\n",
    "        * We'll mostly use tabular data\n",
    "    * Model\n",
    "    * Loss\n",
    "        * Compare predicted value to \"ground truth\"\n",
    "    * Optimisation\n",
    "        * Majority of ML models use gradient descent"
   ]
  },
  {
   "cell_type": "markdown",
   "metadata": {
    "id": "5oGmB1yK-qIS"
   },
   "source": [
    "## **Coding**\n",
    "\n",
    "Machine learning code often involves several popular python libraries, including (but not limited to)\n",
    "\n",
    "*   [Numpy](https://numpy.org/)\n",
    "*   [Pandas](https://pandas.pydata.org/)\n",
    "*   [Scikit-learn](https://scikit-learn.org/stable/)\n",
    "*   [Matplotlib](https://matplotlib.org/)\n",
    "*   ...\n",
    "\n",
    "Familiar the usage of them will significantly speed-up coding in machine learning."
   ]
  },
  {
   "cell_type": "markdown",
   "metadata": {
    "id": "6K8zKJX6JQP1"
   },
   "source": [
    "### [Numpy](https://numpy.org/)\n",
    "\n",
    "\n",
    "The fundamental package for scientific computing with Python. If you are an absolute beginner for numpy, you can check out [this tutorial](https://numpy.org/doc/stable/user/absolute_beginners.html). Otherwise, you can go on for some numpy practice."
   ]
  },
  {
   "cell_type": "code",
   "execution_count": 24,
   "metadata": {},
   "outputs": [],
   "source": [
    "a = np.random.random(10)\n",
    "# a[a.argmax()] = 0\n",
    "# print(a)"
   ]
  },
  {
   "cell_type": "code",
   "execution_count": 25,
   "metadata": {},
   "outputs": [
    {
     "name": "stdout",
     "output_type": "stream",
     "text": [
      "0.9260095424168178\n"
     ]
    }
   ],
   "source": [
    "print(a[a.argmax()])"
   ]
  },
  {
   "cell_type": "code",
   "execution_count": 26,
   "metadata": {
    "id": "Nzr2-NqkMdJh"
   },
   "outputs": [
    {
     "name": "stdout",
     "output_type": "stream",
     "text": [
      "1.24.3\n",
      "[0. 0. 0. 0. 0. 0. 0. 0. 0. 0.]\n",
      "[0. 0. 0. 0. 1. 0. 0. 0. 0. 0.]\n",
      "[10 11 12 13 14 15 16 17 18 19 20 21 22 23 24 25 26 27 28 29 30 31 32 33\n",
      " 34 35 36 37 38 39 40 41 42 43 44 45 46 47 48 49]\n",
      "[[[0.90004602 0.15744556 0.52816513]\n",
      "  [0.70505459 0.17551163 0.24519758]\n",
      "  [0.06656999 0.15900251 0.11816207]]\n",
      "\n",
      " [[0.29064243 0.75057342 0.69368447]\n",
      "  [0.76260242 0.65966394 0.7942342 ]\n",
      "  [0.14895631 0.55431359 0.02145975]]\n",
      "\n",
      " [[0.4916639  0.84341685 0.47228712]\n",
      "  [0.29558598 0.274655   0.39354144]\n",
      "  [0.913823   0.97429606 0.74838304]]]\n",
      "[[1. 1. 1. 1. 1. 1. 1. 1. 1. 1.]\n",
      " [1. 0. 0. 0. 0. 0. 0. 0. 0. 1.]\n",
      " [1. 0. 0. 0. 0. 0. 0. 0. 0. 1.]\n",
      " [1. 0. 0. 0. 0. 0. 0. 0. 0. 1.]\n",
      " [1. 0. 0. 0. 0. 0. 0. 0. 0. 1.]\n",
      " [1. 0. 0. 0. 0. 0. 0. 0. 0. 1.]\n",
      " [1. 0. 0. 0. 0. 0. 0. 0. 0. 1.]\n",
      " [1. 0. 0. 0. 0. 0. 0. 0. 0. 1.]\n",
      " [1. 0. 0. 0. 0. 0. 0. 0. 0. 1.]\n",
      " [1. 1. 1. 1. 1. 1. 1. 1. 1. 1.]]\n",
      "[[1.33741673 0.38541287]\n",
      " [1.16728043 0.65350611]\n",
      " [0.86643589 0.22130113]\n",
      " [1.55636818 0.71115369]\n",
      " [0.80080485 0.49435074]]\n",
      "[[1.33741673 0.38541287]\n",
      " [1.16728043 0.65350611]\n",
      " [0.86643589 0.22130113]\n",
      " [1.55636818 0.71115369]\n",
      " [0.80080485 0.49435074]]\n",
      "[ 0  1  2  3 -4 -5 -6 -7  8  9]\n",
      "[0.46191825 0.70663586 0.         0.09324758 0.56267606 0.67596105\n",
      " 0.63321858 0.26225231 0.87495379 0.24553116]\n"
     ]
    }
   ],
   "source": [
    "# numpy exercises (https://github.com/rougier/numpy-100)\n",
    "\n",
    "# 001: Import the numpy package under the name np\n",
    "import numpy as np\n",
    "\n",
    "# 002: Print the numpy version\n",
    "print(np.__version__)\n",
    "\n",
    "# 003: Create a null vector of size 10\n",
    "a = np.zeros(10)\n",
    "print(a)\n",
    "\n",
    "# 004: Create a null vector of size 10 but the fifth value which is 1\n",
    "a = np.zeros(10)\n",
    "a[4] = 1\n",
    "print(a)\n",
    "\n",
    "# 005: Create a vector with values ranging from 10 to 49\n",
    "a = np.arange(10, 50)\n",
    "print(a)\n",
    "\n",
    "# 006: Create a 3x3x3 array with random values\n",
    "a = np.random.random((3,3,3))\n",
    "print(a)\n",
    "\n",
    "# 007: Create a 2d array with 1 on the border and 0 inside\n",
    "a = np.ones((10,10))\n",
    "a[1:-1, 1:-1] = 0\n",
    "print(a)\n",
    "\n",
    "# 008: Multiply a 5x3 matrix by a 3x2 matrix (real matrix product)\n",
    "a = np.random.random((5,3))\n",
    "b = np.random.random((3,2))\n",
    "c = np.dot(a, b)\n",
    "d = a @ b\n",
    "print(c)\n",
    "print(d)\n",
    "\n",
    "# 009: Given a 1D array, negate all elements which are between 3 and 8, in place.\n",
    "a = np.arange(10)\n",
    "a[(a > 3) & (a < 8)] *= -1\n",
    "print(a)\n",
    "\n",
    "# 010: Create random vector of size 10 and replace the maximum value by 0\n",
    "a = np.random.random(10)\n",
    "a[a.argmax()] = 0\n",
    "print(a)"
   ]
  },
  {
   "cell_type": "markdown",
   "metadata": {
    "id": "FuH7ZrCkO5wC"
   },
   "source": [
    "More numpy exercise can be found [here](https://github.com/rougier/numpy-100/blob/master/100_Numpy_exercises.ipynb)."
   ]
  },
  {
   "cell_type": "markdown",
   "metadata": {
    "id": "LbanhbOcPNs-"
   },
   "source": [
    "## [Pandas](https://pandas.pydata.org/)\n",
    "\n",
    "Pandas is commonly used to access and manipulate data. A beginner's guide is [here](https://pandas.pydata.org/docs/getting_started/index.html#getting-started). Below are some pandas exercise."
   ]
  },
  {
   "cell_type": "code",
   "execution_count": 27,
   "metadata": {
    "id": "axySotGSLaRS"
   },
   "outputs": [
    {
     "name": "stdout",
     "output_type": "stream",
     "text": [
      "2.1.3\n"
     ]
    }
   ],
   "source": [
    "# 001: import pandas under the alias pd\n",
    "import pandas as pd\n",
    "\n",
    "# 002: print the version of pandas\n",
    "print(pd.__version__)\n",
    "\n",
    "# 003: create a DataFrame for the following data:\n",
    "data = {'animal': ['cat', 'cat', 'snake', 'dog', 'dog', 'cat', 'snake', 'cat', 'dog', 'dog'],\n",
    "        'age': [2.5, 3, 0.5, np.nan, 5, 2, 4.5, np.nan, 7, 3],\n",
    "        'visits': [1, 3, 2, 3, 2, 3, 1, 1, 2, 1],\n",
    "        'priority': ['yes', 'yes', 'no', 'yes', 'no', 'no', 'no', 'yes', 'no', 'no']}"
   ]
  },
  {
   "cell_type": "code",
   "execution_count": 28,
   "metadata": {},
   "outputs": [
    {
     "data": {
      "text/html": [
       "<div>\n",
       "<style scoped>\n",
       "    .dataframe tbody tr th:only-of-type {\n",
       "        vertical-align: middle;\n",
       "    }\n",
       "\n",
       "    .dataframe tbody tr th {\n",
       "        vertical-align: top;\n",
       "    }\n",
       "\n",
       "    .dataframe thead th {\n",
       "        text-align: right;\n",
       "    }\n",
       "</style>\n",
       "<table border=\"1\" class=\"dataframe\">\n",
       "  <thead>\n",
       "    <tr style=\"text-align: right;\">\n",
       "      <th></th>\n",
       "      <th>animal</th>\n",
       "      <th>age</th>\n",
       "      <th>visits</th>\n",
       "      <th>priority</th>\n",
       "    </tr>\n",
       "  </thead>\n",
       "  <tbody>\n",
       "    <tr>\n",
       "      <th>0</th>\n",
       "      <td>cat</td>\n",
       "      <td>2.5</td>\n",
       "      <td>1</td>\n",
       "      <td>yes</td>\n",
       "    </tr>\n",
       "    <tr>\n",
       "      <th>1</th>\n",
       "      <td>cat</td>\n",
       "      <td>3.0</td>\n",
       "      <td>3</td>\n",
       "      <td>yes</td>\n",
       "    </tr>\n",
       "    <tr>\n",
       "      <th>2</th>\n",
       "      <td>snake</td>\n",
       "      <td>0.5</td>\n",
       "      <td>2</td>\n",
       "      <td>no</td>\n",
       "    </tr>\n",
       "    <tr>\n",
       "      <th>3</th>\n",
       "      <td>dog</td>\n",
       "      <td>NaN</td>\n",
       "      <td>3</td>\n",
       "      <td>yes</td>\n",
       "    </tr>\n",
       "    <tr>\n",
       "      <th>4</th>\n",
       "      <td>dog</td>\n",
       "      <td>5.0</td>\n",
       "      <td>2</td>\n",
       "      <td>no</td>\n",
       "    </tr>\n",
       "    <tr>\n",
       "      <th>5</th>\n",
       "      <td>cat</td>\n",
       "      <td>2.0</td>\n",
       "      <td>3</td>\n",
       "      <td>no</td>\n",
       "    </tr>\n",
       "    <tr>\n",
       "      <th>6</th>\n",
       "      <td>snake</td>\n",
       "      <td>4.5</td>\n",
       "      <td>1</td>\n",
       "      <td>no</td>\n",
       "    </tr>\n",
       "    <tr>\n",
       "      <th>7</th>\n",
       "      <td>cat</td>\n",
       "      <td>NaN</td>\n",
       "      <td>1</td>\n",
       "      <td>yes</td>\n",
       "    </tr>\n",
       "    <tr>\n",
       "      <th>8</th>\n",
       "      <td>dog</td>\n",
       "      <td>7.0</td>\n",
       "      <td>2</td>\n",
       "      <td>no</td>\n",
       "    </tr>\n",
       "    <tr>\n",
       "      <th>9</th>\n",
       "      <td>dog</td>\n",
       "      <td>3.0</td>\n",
       "      <td>1</td>\n",
       "      <td>no</td>\n",
       "    </tr>\n",
       "  </tbody>\n",
       "</table>\n",
       "</div>"
      ],
      "text/plain": [
       "  animal  age  visits priority\n",
       "0    cat  2.5       1      yes\n",
       "1    cat  3.0       3      yes\n",
       "2  snake  0.5       2       no\n",
       "3    dog  NaN       3      yes\n",
       "4    dog  5.0       2       no\n",
       "5    cat  2.0       3       no\n",
       "6  snake  4.5       1       no\n",
       "7    cat  NaN       1      yes\n",
       "8    dog  7.0       2       no\n",
       "9    dog  3.0       1       no"
      ]
     },
     "metadata": {},
     "output_type": "display_data"
    }
   ],
   "source": [
    "display(pd.DataFrame(data))"
   ]
  },
  {
   "cell_type": "markdown",
   "metadata": {
    "id": "9k9TfvIAUVxA"
   },
   "source": [
    "| Animal | Age  | Visits | Priority |\n",
    "|--------|------|--------|----------|\n",
    "| cat    | 2.5  | 1      | yes      |\n",
    "| cat    | 3    | 3      | yes      |\n",
    "| snake  | 0.5  | 2      | no       |\n",
    "| dog    | NaN  | 3      | yes      |\n",
    "| dog    | 5    | 2      | no       |\n",
    "| cat    | 2    | 3      | no       |\n",
    "| snake  | 4.5  | 1      | no       |\n",
    "| cat    | NaN  | 1      | yes      |\n",
    "| dog    | 7    | 2      | no       |\n",
    "| dog    | 3    | 1      | no       |\n"
   ]
  },
  {
   "cell_type": "code",
   "execution_count": 44,
   "metadata": {
    "id": "p_2H0x_5U_T5"
   },
   "outputs": [
    {
     "data": {
      "text/plain": [
       "animal\n",
       "cat      2.5\n",
       "dog      5.0\n",
       "snake    2.5\n",
       "Name: age, dtype: float64"
      ]
     },
     "execution_count": 44,
     "metadata": {},
     "output_type": "execute_result"
    }
   ],
   "source": [
    "df = pd.DataFrame(data)\n",
    "\n",
    "# 004: Display a summary of the basic information about this DataFrame and its data\n",
    "df.info()\n",
    "df.describe()\n",
    "\n",
    "# 005: Return the first 3 rows of the dataframe\n",
    "df.head(3)\n",
    "df.iloc[:3]\n",
    "\n",
    "# 006: Select the 'animal' and 'age' columns from the dataframe\n",
    "columns = ['animal', 'age']\n",
    "df.loc[:, columns]\n",
    "df[columns]\n",
    "\n",
    "# 007: Select the data in rows [3, 4, 8] and in columns ['animal', 'age']\n",
    "df.loc[df.index[[3, 4, 8]], ['animal', 'age']]\n",
    "\n",
    "# 008: Select only the rows where the number of visits is greater than 3\n",
    "df[df['visits'] > 3]\n",
    "\n",
    "# 009: Select the rows where the age is missing, i.e. it is NaN\n",
    "df[df['age'].isnull()]\n",
    "\n",
    "# 010: Select the rows where the animal is a cat and the age is less than 3\n",
    "df[(df['animal'] == 'cat') & (df['age'] < 3)]\n",
    "\n",
    "# 011: Calculate the mean age for each different animal in df\n",
    "df.groupby('animal')['age'].mean()"
   ]
  },
  {
   "cell_type": "markdown",
   "metadata": {
    "id": "3P-y7WtzWuAj"
   },
   "source": [
    "More pandas exercise can be found [here](https://github.com/ajcr/100-pandas-puzzles/blob/master/100-pandas-puzzles-with-solutions.ipynb)."
   ]
  },
  {
   "cell_type": "markdown",
   "metadata": {
    "id": "40ErfTiDW2yT"
   },
   "source": [
    "## [Scikit-learn](https://scikit-learn.org/stable/)\n",
    "\n",
    "Scikit-learn implements many conventional machine learning algorithms, including classification, regression, clustering, and dimensionality reduction. It also contains data pre-processing and model selection modules. A beginner's guide is [here](https://scikit-learn.org/stable/getting_started.html).\n"
   ]
  },
  {
   "cell_type": "code",
   "execution_count": 30,
   "metadata": {
    "colab": {
     "base_uri": "https://localhost:8080/"
    },
    "executionInfo": {
     "elapsed": 813,
     "status": "ok",
     "timestamp": 1704706301337,
     "user": {
      "displayName": "QILIN LI",
      "userId": "01132023268323719979"
     },
     "user_tz": -480
    },
    "id": "Nq4iVlREYSaO",
    "outputId": "cdb047a0-5042-4b96-d0f5-6d941e0b220b"
   },
   "outputs": [
    {
     "data": {
      "text/plain": [
       "array([[ 1,  2,  3,  4],\n",
       "       [ 4,  5,  6,  7],\n",
       "       [ 7,  8,  9, 10]])"
      ]
     },
     "metadata": {},
     "output_type": "display_data"
    },
    {
     "name": "stdout",
     "output_type": "stream",
     "text": [
      "Before normalization, data mean: [4. 5. 6. 7.]\n",
      "Before normalization, data std: [2.44948974 2.44948974 2.44948974 2.44948974]\n",
      "\n",
      "##############\n",
      "\n",
      "\n"
     ]
    },
    {
     "data": {
      "text/plain": [
       "array([[-1.22474487, -1.22474487, -1.22474487, -1.22474487],\n",
       "       [ 0.        ,  0.        ,  0.        ,  0.        ],\n",
       "       [ 1.22474487,  1.22474487,  1.22474487,  1.22474487]])"
      ]
     },
     "metadata": {},
     "output_type": "display_data"
    },
    {
     "name": "stdout",
     "output_type": "stream",
     "text": [
      "After normalization, data mean: [0. 0. 0. 0.]\n",
      "After normalization, data std: [1. 1. 1. 1.]\n",
      "Model parameters:  [0.5 0.5]\n"
     ]
    }
   ],
   "source": [
    "# Preprocessing\n",
    "from sklearn import preprocessing\n",
    "import numpy as np\n",
    "\n",
    "X = np.array([[1, 2, 3, 4],\n",
    "              [4, 5, 6, 7],\n",
    "              [7, 8, 9, 10]])\n",
    "\n",
    "display(X)\n",
    "print(\"Before normalization, data mean:\", X.mean(axis=0))\n",
    "print(\"Before normalization, data std:\", X.std(axis=0))\n",
    "\n",
    "scaler = preprocessing.StandardScaler().fit(X)\n",
    "X_scaled = scaler.transform(X)\n",
    "\n",
    "print(\"\\n##############\\n\\n\")\n",
    "display(X_scaled)\n",
    "print(\"After normalization, data mean:\", X_scaled.mean(axis=0))\n",
    "print(\"After normalization, data std:\", X_scaled.std(axis=0))\n",
    "\n",
    "# Linear regression\n",
    "from sklearn import linear_model\n",
    "\n",
    "X = [[0, 0], [1, 1], [2, 2]]\n",
    "y = [0, 1, 2]\n",
    "reg = linear_model.LinearRegression()\n",
    "reg.fit(X, y)\n",
    "print(\"Model parameters: \", reg.coef_)"
   ]
  },
  {
   "cell_type": "markdown",
   "metadata": {
    "id": "gJBoxmu1ajZh"
   },
   "source": [
    "## [Matplotlib](https://matplotlib.org/)\n",
    "\n",
    "Matplotlib is a comprehensive library for creating static, animated, and interactive visualizations in Python."
   ]
  },
  {
   "cell_type": "code",
   "execution_count": 31,
   "metadata": {
    "colab": {
     "base_uri": "https://localhost:8080/",
     "height": 430
    },
    "executionInfo": {
     "elapsed": 1104,
     "status": "ok",
     "timestamp": 1704706528396,
     "user": {
      "displayName": "QILIN LI",
      "userId": "01132023268323719979"
     },
     "user_tz": -480
    },
    "id": "llOMBpxVa2k9",
    "outputId": "5819ab65-c7ba-4320-871c-85883277addc"
   },
   "outputs": [
    {
     "data": {
      "image/png": "[encoded data removed]",
      "text/plain": [
       "<Figure size 640x480 with 1 Axes>"
      ]
     },
     "metadata": {},
     "output_type": "display_data"
    }
   ],
   "source": [
    "# Draw a first plot\n",
    "import matplotlib.pyplot as plt\n",
    "import numpy as np\n",
    "\n",
    "x = np.linspace(0, 2*np.pi, 200)\n",
    "y = np.sin(x)\n",
    "\n",
    "fig, ax = plt.subplots()\n",
    "ax.plot(x,y)\n",
    "plt.show()"
   ]
  },
  {
   "cell_type": "code",
   "execution_count": 32,
   "metadata": {
    "colab": {
     "base_uri": "https://localhost:8080/",
     "height": 251
    },
    "executionInfo": {
     "elapsed": 1332,
     "status": "ok",
     "timestamp": 1704706664791,
     "user": {
      "displayName": "QILIN LI",
      "userId": "01132023268323719979"
     },
     "user_tz": -480
    },
    "id": "j9fGg22HbjpX",
    "outputId": "6338f391-8271-4212-bf45-a98f7de02767"
   },
   "outputs": [
    {
     "data": {
      "image/png": "[encoded data removed]",
      "text/plain": [
       "<Figure size 640x480 with 1 Axes>"
      ]
     },
     "metadata": {},
     "output_type": "display_data"
    }
   ],
   "source": [
    "# Scatter plot\n",
    "\n",
    "import matplotlib.pyplot as plt\n",
    "import numpy as np\n",
    "\n",
    "# make the data\n",
    "np.random.seed(3)\n",
    "x = 4 + np.random.normal(0, 2, 24)\n",
    "y = 4 + np.random.normal(0, 2, len(x))\n",
    "# size and color:\n",
    "sizes = np.random.uniform(15, 80, len(x))\n",
    "colors = np.random.uniform(15, 80, len(x))\n",
    "\n",
    "# plot\n",
    "fig, ax = plt.subplots()\n",
    "\n",
    "ax.scatter(x, y, s=sizes, c=colors, vmin=0, vmax=100)\n",
    "\n",
    "ax.set(xlim=(0, 8), xticks=np.arange(1, 8),\n",
    "       ylim=(0, 8), yticks=np.arange(1, 8))\n",
    "\n",
    "plt.show()"
   ]
  },
  {
   "cell_type": "markdown",
   "metadata": {
    "id": "ObwPm72AcCJU"
   },
   "source": [
    "## The ultimate guide: [ChatGPT](https://chat.openai.com/)!\n",
    "\n",
    "prompt: \"draw a scatter plot of range [0, 8] for both x and y, and of different size of blue points with different alpha color\""
   ]
  },
  {
   "cell_type": "code",
   "execution_count": 33,
   "metadata": {
    "colab": {
     "base_uri": "https://localhost:8080/",
     "height": 293
    },
    "executionInfo": {
     "elapsed": 1331,
     "status": "ok",
     "timestamp": 1704706966781,
     "user": {
      "displayName": "QILIN LI",
      "userId": "01132023268323719979"
     },
     "user_tz": -480
    },
    "id": "s5TiCy_Cc-2j",
    "outputId": "db77a458-44ee-4500-a9bc-23e740d743e7"
   },
   "outputs": [
    {
     "data": {
      "image/png": "[encoded data removed]",
      "text/plain": [
       "<Figure size 640x480 with 1 Axes>"
      ]
     },
     "metadata": {},
     "output_type": "display_data"
    }
   ],
   "source": [
    "import matplotlib.pyplot as plt\n",
    "import numpy as np\n",
    "\n",
    "# Generate random data within the range [0, 8]\n",
    "x = np.random.uniform(0, 8, 100)\n",
    "y = np.random.uniform(0, 8, 100)\n",
    "\n",
    "# Generate random sizes and alpha values for each point\n",
    "sizes = np.random.uniform(20, 200, len(x))  # Sizes between 20 and 200\n",
    "alpha_values = np.random.uniform(0.3, 1, len(x))  # Alpha between 0.3 and 1\n",
    "\n",
    "# Create the scatter plot\n",
    "plt.scatter(x, y, s=sizes, c='blue', alpha=alpha_values)\n",
    "\n",
    "# Set the range of axes\n",
    "plt.xlim(0, 8)\n",
    "plt.ylim(0, 8)\n",
    "\n",
    "# Add titles and labels (optional)\n",
    "plt.title('Scatter Plot with Varying Sizes and Alpha')\n",
    "plt.xlabel('X axis')\n",
    "plt.ylabel('Y axis')\n",
    "\n",
    "# Show the plot\n",
    "plt.show()\n"
   ]
  },
  {
   "cell_type": "markdown",
   "metadata": {
    "id": "mlsYs8phiODy"
   },
   "source": [
    "## The Califolia House Price dataset\n",
    "\n",
    "First, fetch the dataset from scikit-learn:"
   ]
  },
  {
   "cell_type": "code",
   "execution_count": 34,
   "metadata": {
    "id": "DfnBHEqqiWjJ"
   },
   "outputs": [],
   "source": [
    "from sklearn.datasets import fetch_california_housing\n",
    "\n",
    "X, y = fetch_california_housing(return_X_y=True, as_frame=True)\n"
   ]
  },
  {
   "cell_type": "markdown",
   "metadata": {
    "id": "cSdI2ILLknQB"
   },
   "source": [
    "Then, use Pandas (or any other tools) to get the following information:\n",
    "\n",
    "\n",
    "*   What is the dataset about?\n",
    "*   How many number of examples? How many number of features?\n",
    "*   What is the target?\n",
    "*   What are the types of features?\n",
    "*   Is there any missing values?\n",
    "*   How are the feature values distributed? (Hint: can use Histogram plot)\n",
    "*   What is the relationship between \"MedInc\" and \"MedHouseVal\"\n",
    "\n"
   ]
  },
  {
   "cell_type": "markdown",
   "metadata": {},
   "source": [
    "# What is the dataset about? \n",
    "Predicting house prices based off a series of predictors"
   ]
  },
  {
   "cell_type": "code",
   "execution_count": 35,
   "metadata": {},
   "outputs": [
    {
     "name": "stdout",
     "output_type": "stream",
     "text": [
      "n(entries) = 20640\n",
      "n(features) = 8\n"
     ]
    }
   ],
   "source": [
    "# How many number of examples? How many features\n",
    "print(f\"\"\"n(entries) = {len(X)}\n",
    "n(features) = {len(X.columns)}\"\"\")"
   ]
  },
  {
   "cell_type": "code",
   "execution_count": 39,
   "metadata": {},
   "outputs": [
    {
     "name": "stdout",
     "output_type": "stream",
     "text": [
      "Target = MedHouseVal\n"
     ]
    }
   ],
   "source": [
    "# What is the target?\n",
    "print(f\"Target = {y.name}\")"
   ]
  },
  {
   "cell_type": "code",
   "execution_count": 49,
   "metadata": {},
   "outputs": [
    {
     "data": {
      "text/plain": [
       "MedInc        float64\n",
       "HouseAge      float64\n",
       "AveRooms      float64\n",
       "AveBedrms     float64\n",
       "Population    float64\n",
       "AveOccup      float64\n",
       "Latitude      float64\n",
       "Longitude     float64\n",
       "dtype: object"
      ]
     },
     "execution_count": 49,
     "metadata": {},
     "output_type": "execute_result"
    }
   ],
   "source": [
    "# What are the types of features?\n",
    "X.dtypes"
   ]
  },
  {
   "cell_type": "code",
   "execution_count": null,
   "metadata": {},
   "outputs": [],
   "source": []
  },
  {
   "cell_type": "code",
   "execution_count": 72,
   "metadata": {},
   "outputs": [
    {
     "data": {
      "text/html": [
       "<div>\n",
       "<style scoped>\n",
       "    .dataframe tbody tr th:only-of-type {\n",
       "        vertical-align: middle;\n",
       "    }\n",
       "\n",
       "    .dataframe tbody tr th {\n",
       "        vertical-align: top;\n",
       "    }\n",
       "\n",
       "    .dataframe thead th {\n",
       "        text-align: right;\n",
       "    }\n",
       "</style>\n",
       "<table border=\"1\" class=\"dataframe\">\n",
       "  <thead>\n",
       "    <tr style=\"text-align: right;\">\n",
       "      <th></th>\n",
       "      <th>MedInc</th>\n",
       "      <th>HouseAge</th>\n",
       "      <th>AveRooms</th>\n",
       "      <th>AveBedrms</th>\n",
       "      <th>Population</th>\n",
       "      <th>AveOccup</th>\n",
       "      <th>Latitude</th>\n",
       "      <th>Longitude</th>\n",
       "    </tr>\n",
       "  </thead>\n",
       "  <tbody>\n",
       "  </tbody>\n",
       "</table>\n",
       "</div>"
      ],
      "text/plain": [
       "Empty DataFrame\n",
       "Columns: [MedInc, HouseAge, AveRooms, AveBedrms, Population, AveOccup, Latitude, Longitude]\n",
       "Index: []"
      ]
     },
     "metadata": {},
     "output_type": "display_data"
    },
    {
     "data": {
      "text/plain": [
       "Series([], Name: MedHouseVal, dtype: float64)"
      ]
     },
     "metadata": {},
     "output_type": "display_data"
    },
    {
     "data": {
      "text/plain": [
       "Series([], Name: MedHouseVal, dtype: float64)"
      ]
     },
     "metadata": {},
     "output_type": "display_data"
    }
   ],
   "source": [
    "# Are there any missing values?\n",
    "display(X[X==0|X.isna()].dropna())\n",
    "display(y[y==0|y.isna()].dropna())\n"
   ]
  },
  {
   "cell_type": "code",
   "execution_count": null,
   "metadata": {},
   "outputs": [],
   "source": []
  },
  {
   "cell_type": "markdown",
   "metadata": {},
   "source": [
    "# Plots"
   ]
  },
  {
   "cell_type": "code",
   "execution_count": 79,
   "metadata": {},
   "outputs": [],
   "source": [
    "import matplotlib.pyplot as plt"
   ]
  },
  {
   "cell_type": "code",
   "execution_count": 99,
   "metadata": {},
   "outputs": [
    {
     "data": {
      "image/png": "[encoded data removed]",
      "text/plain": [
       "<Figure size 800x600 with 9 Axes>"
      ]
     },
     "metadata": {},
     "output_type": "display_data"
    }
   ],
   "source": [
    "X.hist(bins = 50, figsize = (8,6))\n",
    "plt.tight_layout()\n",
    "plt.show()"
   ]
  },
  {
   "cell_type": "code",
   "execution_count": 95,
   "metadata": {},
   "outputs": [],
   "source": [
    "# total = len(X.columns)\n",
    "\n",
    "# fig, ax = plt.subplots(total//2,2, figsize = (8,12))\n",
    "\n",
    "# for idx, feature in enumerate(X.columns):\n",
    "#     ax[idx // 2, idx % 2].hist(X[feature], bins=50)\n",
    "#     ax[idx // 2, idx % 2].set_title(feature)\n",
    "\n",
    "# plt.tight_layout()"
   ]
  },
  {
   "cell_type": "code",
   "execution_count": null,
   "metadata": {},
   "outputs": [],
   "source": []
  },
  {
   "cell_type": "code",
   "execution_count": null,
   "metadata": {},
   "outputs": [],
   "source": []
  },
  {
   "cell_type": "code",
   "execution_count": null,
   "metadata": {},
   "outputs": [],
   "source": []
  }
 ],
 "metadata": {
  "colab": {
   "authorship_tag": "ABX9TyMXbDmzCqNDmAhIHjkphAmy",
   "collapsed_sections": [
    "6K8zKJX6JQP1",
    "LbanhbOcPNs-",
    "40ErfTiDW2yT",
    "gJBoxmu1ajZh",
    "ObwPm72AcCJU"
   ],
   "provenance": []
  },
  "kernelspec": {
   "display_name": "Python 3 (ipykernel)",
   "language": "python",
   "name": "python3"
  },
  "language_info": {
   "codemirror_mode": {
    "name": "ipython",
    "version": 3
   },
   "file_extension": ".py",
   "mimetype": "text/x-python",
   "name": "python",
   "nbconvert_exporter": "python",
   "pygments_lexer": "ipython3",
   "version": "3.11.3"
  }
 },
 "nbformat": 4,
 "nbformat_minor": 4
}
