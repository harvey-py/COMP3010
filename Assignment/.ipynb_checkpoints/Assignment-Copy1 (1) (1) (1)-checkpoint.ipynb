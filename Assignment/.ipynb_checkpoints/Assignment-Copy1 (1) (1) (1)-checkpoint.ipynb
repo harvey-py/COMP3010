{
 "cells": [
  {
   "cell_type": "markdown",
   "metadata": {
    "colab_type": "text",
    "id": "view-in-github"
   },
   "source": [
    "<a href=\"https://colab.research.google.com/github/harvey-py/COMP3010/blob/main/Assignment.ipynb\" target=\"_parent\"><img src=\"https://colab.research.google.com/assets/colab-badge.svg\" alt=\"Open In Colab\"/></a>"
   ]
  },
  {
   "cell_type": "markdown",
   "metadata": {},
   "source": [
    "## Packages"
   ]
  },
  {
   "cell_type": "code",
   "execution_count": 136,
   "metadata": {
    "ExecuteTime": {
     "start_time": "2024-05-04T08:47:25.817143Z"
    },
    "jupyter": {
     "is_executing": true
    }
   },
   "outputs": [
    {
     "name": "stderr",
     "output_type": "stream",
     "text": [
      "/Users/phillipharvey/Documents/Venvs/MLenv/lib/python3.12/site-packages/tqdm/auto.py:21: TqdmWarning: IProgress not found. Please update jupyter and ipywidgets. See https://ipywidgets.readthedocs.io/en/stable/user_install.html\n",
      "  from .autonotebook import tqdm as notebook_tqdm\n"
     ]
    }
   ],
   "source": [
    "# Basics\n",
    "import numpy as np\n",
    "import pandas as pd\n",
    "from scipy import stats\n",
    "import sklearn\n",
    "\n",
    "import matplotlib.pyplot as plt\n",
    "import seaborn as sns\n",
    "\n",
    "from tqdm import tqdm\n",
    "\n",
    "import os\n",
    "import time\n",
    "\n",
    "# Regression\n",
    "import statsmodels.api as sm\n",
    "\n",
    "from sklearn.linear_model import LinearRegression\n",
    "from sklearn.metrics import r2_score\n",
    "\n",
    "# ML Tools\n",
    "from sklearn.metrics import make_scorer\n",
    "from sklearn.model_selection import GridSearchCV, train_test_split, cross_val_score\n",
    "\n",
    "# RF\n",
    "from sklearn.ensemble import RandomForestRegressor\n",
    "\n",
    "# XGB\n",
    "import xgboost as xgb\n",
    "from xgboost import XGBRegressor\n",
    "\n",
    "# NN\n",
    "import math\n",
    "import torch\n",
    "import torch.nn as nn\n",
    "import optuna\n",
    "import optuna.visualization as opt_vis\n",
    "\n",
    "import copy"
   ]
  },
  {
   "cell_type": "markdown",
   "metadata": {},
   "source": [
    "## Config"
   ]
  },
  {
   "cell_type": "code",
   "execution_count": 2,
   "metadata": {
    "ExecuteTime": {
     "end_time": "2024-05-03T12:25:26.543762Z",
     "start_time": "2024-05-03T12:25:26.529762Z"
    },
    "id": "WqRyIkF01Ha9"
   },
   "outputs": [],
   "source": [
    "# working_dir = \"~/Documents/GitHub/COMP3010/Assignment/Data/\"\n",
    "\n",
    "# train_dir = os.path.join(working_dir, \"train.csv\")\n",
    "# test_dir = os.path.join(working_dir, \"test.csv\")\n",
    "\n",
    "train_dir = \"https://raw.githubusercontent.com/harvey-py/COMP3010/main/Assignment/Data/train.csv\"\n",
    "test_dir = \"https://raw.githubusercontent.com/harvey-py/COMP3010/main/Assignment/Data/test.csv\""
   ]
  },
  {
   "cell_type": "markdown",
   "metadata": {},
   "source": [
    "## Importing Data"
   ]
  },
  {
   "cell_type": "code",
   "execution_count": 3,
   "metadata": {
    "ExecuteTime": {
     "end_time": "2024-05-03T12:25:30.133288Z",
     "start_time": "2024-05-03T12:25:29.498217Z"
    }
   },
   "outputs": [],
   "source": [
    "raw_data = pd.read_csv(train_dir)\n",
    "raw_data.rename(columns = {\"Target Pressure (bar)\": \"tgt_pressure\"}, inplace = True)"
   ]
  },
  {
   "cell_type": "code",
   "execution_count": 4,
   "metadata": {
    "ExecuteTime": {
     "end_time": "2024-05-03T12:25:30.652275Z",
     "start_time": "2024-05-03T12:25:30.182289Z"
    }
   },
   "outputs": [],
   "source": [
    "raw_test_data = pd.read_csv(test_dir)\n",
    "raw_test_data.rename(columns = {\"Target Pressure (bar)\": \"tgt_pressure\"}, inplace = True)"
   ]
  },
  {
   "cell_type": "markdown",
   "metadata": {},
   "source": [
    "### Transform"
   ]
  },
  {
   "cell_type": "code",
   "execution_count": 91,
   "metadata": {},
   "outputs": [],
   "source": [
    "def transformation_wrapper(df):\n",
    "    df.rename(columns = {\"Target Pressure (bar)\": \"tgt_pressure\"}, inplace = True)\n",
    "    df.dropna(inplace = True)\n",
    "    \n",
    "    # Outlier removal\n",
    "    df = df.sort_values(\"ID\").reset_index(drop = True)\n",
    "    df.loc[df['Tank Failure Pressure (bar)'] > 1000, 'Tank Failure Pressure (bar)'] /= 100\n",
    "\n",
    "    # Encoding\n",
    "    df.loc[df['Status'].str.contains('sub|cool', case=False), 'Status'] = 'Subcooled'\n",
    "    df.loc[df['Status'].str.contains('super|heat', case=False), 'Status'] = 'Superheated'\n",
    "\n",
    "    temp = pd.concat([df, pd.get_dummies(df['Status'], drop_first=True).astype(int)], axis=1)\n",
    "    del df\n",
    "    df = temp.drop(columns = \"Status\").rename(columns = {\"Superheated\": \"Superheated_status\"})\n",
    "    del temp\n",
    "\n",
    "    dummies = pd.get_dummies(df['Liquid Critical Pressure (bar)'], drop_first=False)\n",
    "    dummies.columns = ['37.9', '42.5']\n",
    "    dummy_col = dummies['42.5'].rename(f\"Liquid Critical Pressure (bar)\") * 1\n",
    "    df = pd.concat([df.drop('Liquid Critical Pressure (bar)', axis=1), dummy_col], axis=1)\n",
    "    del dummies\n",
    "    del dummy_col\n",
    "    \n",
    "    dummies = pd.get_dummies(df['Liquid Boiling Temperature (K)'], drop_first=False)\n",
    "    dummies.columns = ['-42', '-1']\n",
    "    dummy_col = dummies['-42'].rename(f\"Liquid Boiling Temperature (K)\") * 1\n",
    "    df = pd.concat([df.drop('Liquid Boiling Temperature (K)', axis=1), dummy_col], axis=1)\n",
    "    del dummies\n",
    "    del dummy_col\n",
    "    \n",
    "    dummies = pd.get_dummies(df['Liquid Critical Temperature (K)'], drop_first=False)\n",
    "    dummies.columns = ['152.0', '96.7']\n",
    "    dummy_col = dummies['152.0'].rename(f\"Liquid Critical Temperature (K)\") * 1\n",
    "    df = pd.concat([df.drop('Liquid Critical Temperature (K)', axis=1), dummy_col], axis=1)\n",
    "    del dummies\n",
    "    del dummy_col\n",
    "\n",
    "    # Creating a lookup for the properties of each substance (there are only 2 distinct substance present; we will denote them 0 and 1). This table will allow us to view their properties later\n",
    "    substance_properties = df[[\"Liquid Critical Pressure (bar)\", \"Liquid Boiling Temperature (K)\", \"Liquid Critical Temperature (K)\"]].drop_duplicates()\n",
    "    substance_properties = substance_properties.rename(index = {substance_properties.index[0]: \"n-butane\", substance_properties.index[1]: \"propane\"})\n",
    "\n",
    "    #Setting up event_num\n",
    "    event_num = 1\n",
    "    prev_id = df.loc[0, \"Sensor ID\"]\n",
    "    \n",
    "    event_nums = []\n",
    "    \n",
    "    for index, row in df.iterrows():\n",
    "        curr_id = row[\"Sensor ID\"]\n",
    "        if curr_id < prev_id:\n",
    "            event_num += 1 \n",
    "        \n",
    "        event_nums.append(event_num)\n",
    "        prev_id = curr_id\n",
    "    \n",
    "    df.loc[:,\"event_num\"] = event_nums\n",
    "\n",
    "    changing_cols = ['ID', \n",
    "                 'Sensor ID', \n",
    "                 'Sensor Position Side', \n",
    "                 'Sensor Position x', \n",
    "                 'Sensor Position y', \n",
    "                 'Sensor Position z', \n",
    "                 'tgt_pressure', \n",
    "                 'event_num']\n",
    "    df_subset = df.copy()\n",
    "    constant_cols = df.columns[~df.columns.isin(changing_cols)]\n",
    "    event_medians = df.groupby('event_num')[constant_cols].median().reset_index()\n",
    "    \n",
    "    # Merge aggregated data back to the original DataFrame based on 'event_num'\n",
    "    try:\n",
    "        df = pd.merge(df[changing_cols],\n",
    "                           event_medians,\n",
    "                           on='event_num',\n",
    "                         )\n",
    "    except KeyError:\n",
    "        changing_cols.remove(\"tgt_pressure\")\n",
    "        df = pd.merge(df[changing_cols],\n",
    "                           event_medians,\n",
    "                           on='event_num',\n",
    "                         )\n",
    "    df = df[df_subset.columns]\n",
    "    del df_subset\n",
    "\n",
    "    df[\"BLEVE Height (m)\"] = df[\"BLEVE Height (m)\"].clip(lower = 0)\n",
    "    df = df.query(\"`Tank Height (m)` >= `Vapour Height (m)`\")\n",
    "    final_df = df.drop_duplicates()\n",
    "    del df\n",
    "\n",
    "    # Renaming columns\n",
    "    renamed_cols = [\n",
    "        \"ID\",\n",
    "        \"failure_pressure\",\n",
    "        \"liquid_pct\",\n",
    "        \"tank_w\",\n",
    "        \"tank_l\",\n",
    "        \"tank_h\",\n",
    "        \"BLEVE_h\",\n",
    "        \"vapour_height\",\n",
    "        \"vapour_temp\",\n",
    "        \"liquid_temp\",\n",
    "        \"obstacle_dist\",\n",
    "        \"obstacle_w\",\n",
    "        \"obstacle_h\",\n",
    "        \"obstacle_thk\",\n",
    "        \"obstacle_angle\",\n",
    "        \"sensor_id\",\n",
    "        \"sensor_side\",\n",
    "        \"sensor_x\",\n",
    "        \"sensor_y\",\n",
    "        \"sensor_z\",\n",
    "        \"tgt_pressure\",\n",
    "        \"superheated_status\",\n",
    "        \"lqd_crit_pressure\",\n",
    "        \"lqd_boil_temp\",\n",
    "        \"lqd_crit_temp\",\n",
    "        \"event_num\",\n",
    "        \"tank_volume\",\n",
    "        \"net_sensor_dist\"\n",
    "    ]\n",
    "\n",
    "    if len(final_df.columns) == 25:\n",
    "        renamed_cols.remove(\"tgt_pressure\")\n",
    "    \n",
    "    dict_names = dict(zip(final_df.columns, renamed_cols))\n",
    "    \n",
    "    df = final_df.rename(columns = dict_names)\n",
    "    del final_df\n",
    "\n",
    "    # Feature Engineering\n",
    "    tank_axis = [\"tank_w\", \"tank_h\", \"tank_l\"]\n",
    "    df[\"tank_volume\"] = df[tank_axis].prod(axis = 1)\n",
    "   \n",
    "    # df[\"sensor_location\"] = df[\"sensor_side\"].map({1: 1, 2: 2, 3: 3, 4: 3, 5: 3}) # changes 4 and 5 (both sides) to 3 (1 = back, 2 = front, 3 = sides)\n",
    "    \n",
    "    sensor_vars = [\"sensor_x\", \"sensor_y\", \"net_z\"]\n",
    "    df[\"net_z\"] = df[\"sensor_z\"] - df[\"BLEVE_h\"]\n",
    "\n",
    "    # Can we do net_x, net_y?\n",
    "\n",
    "    df[\"obstacle_angle\"] = np.cos(df[\"obstacle_angle\"] * np.pi / 180)\n",
    "    \n",
    "    df[\"net_sensor_dist\"] = np.linalg.norm(df[sensor_vars], axis=1)\n",
    "    sensor_vars.append(\"sensor_z\")\n",
    "    df.drop(columns = sensor_vars, inplace = True)\n",
    "    \n",
    "    lqd_properties = [\"lqd_crit_pressure\", \"lqd_boil_temp\", \"lqd_crit_temp\"]\n",
    "    df[\"substance\"] = df[lqd_properties].prod(axis = 1)\n",
    "    df.drop(columns = lqd_properties, inplace = True)\n",
    " \n",
    "    return df"
   ]
  },
  {
   "cell_type": "code",
   "execution_count": 160,
   "metadata": {},
   "outputs": [],
   "source": [
    "def rescale_data(df, train = True, stats = []):\n",
    "    unscaled_cols = [col for col in df.columns if col not in [\"tgt_pressure\", \n",
    "                                                              \"ID\", \n",
    "                                                              \"sensor_id\", \n",
    "                                                              \"sensor_side\", \n",
    "                                                              \"superheated_status\", \n",
    "                                                              \"event_num\", \n",
    "                                                              \"substance\"]]#, \"obstacle_angle\"]]\n",
    "\n",
    "    if train:\n",
    "        means = df[unscaled_cols].mean()\n",
    "        stds = df[unscaled_cols].std()\n",
    "\n",
    "        qt = sklearn.preprocessing.QuantileTransformer(output_distribution=\"normal\")\n",
    "        df[\"tgt_pressure\"] = qt.fit_transform(df[[\"tgt_pressure\"]])\n",
    "\n",
    "        df[unscaled_cols] = (df[unscaled_cols] - means) / stds\n",
    "        \n",
    "        x = df.drop(columns = \"tgt_pressure\")\n",
    "        y = df[\"tgt_pressure\"]\n",
    "\n",
    "        return x, y, qt, means, stds\n",
    "\n",
    "    else:\n",
    "        means, stds = stats[0], stats[1]\n",
    "        df[unscaled_cols] = (df[unscaled_cols] - means) / stds\n",
    "        return df\n"
   ]
  },
  {
   "cell_type": "code",
   "execution_count": 195,
   "metadata": {},
   "outputs": [],
   "source": [
    "def scale_back(y, index, qt):\n",
    "    pred_df = pd.DataFrame(y, index = index)\n",
    "    transform_back = qt.inverse_transform(pred_df)\n",
    "    output_series = pd.Series(np.ravel(transform_back), index = index)\n",
    "    \n",
    "    return output_series    "
   ]
  },
  {
   "cell_type": "code",
   "execution_count": 161,
   "metadata": {},
   "outputs": [],
   "source": [
    "x, y, qt, means, stds = rescale_data(transformation_wrapper(raw_data))\n",
    "ext_x = rescale_data(transformation_wrapper(raw_test_data), train = False, stats = [means, stds])"
   ]
  },
  {
   "cell_type": "code",
   "execution_count": null,
   "metadata": {},
   "outputs": [],
   "source": []
  },
  {
   "cell_type": "markdown",
   "metadata": {},
   "source": [
    "# XGBoost Code"
   ]
  },
  {
   "cell_type": "code",
   "execution_count": 168,
   "metadata": {},
   "outputs": [],
   "source": [
    "X_train, X_val, y_train, y_val = train_test_split(x, y, test_size = 0.1, random_state = 42)"
   ]
  },
  {
   "cell_type": "code",
   "execution_count": 140,
   "metadata": {},
   "outputs": [],
   "source": [
    "def mape_calc(y_tgt, y_pred):\n",
    "        return np.mean(np.abs(1 - y_pred / y_tgt))"
   ]
  },
  {
   "cell_type": "code",
   "execution_count": 141,
   "metadata": {},
   "outputs": [],
   "source": [
    "X_cols = [\"sensor_id\",\n",
    "          \"failure_pressure\", \n",
    "          \"liquid_pct\", \n",
    "          \"tank_w\", \n",
    "          \"tank_l\", \n",
    "          \"tank_h\", \n",
    "          \"tank_volume\",\n",
    "          # \"net_vapor\",\n",
    "          \"BLEVE_h\", \n",
    "          \"vapour_temp\", \n",
    "          \"liquid_temp\", \n",
    "          \"superheated_status\",\n",
    "          \"vapour_height\",\n",
    "          \"net_sensor_dist\",\n",
    "          \"obstacle_dist\",\n",
    "          \"obstacle_w\", \n",
    "          \"obstacle_h\",\n",
    "          \"obstacle_thk\",\n",
    "          \"obstacle_angle\"\n",
    "         ]"
   ]
  },
  {
   "cell_type": "code",
   "execution_count": 207,
   "metadata": {},
   "outputs": [],
   "source": [
    "def xgb_objective(trial, xgb_params, X_train, y_train, X_val, y_val):\n",
    "    # n_estimators = 150\n",
    "    max_leaves = trial.suggest_int(\"max_leaves\", xgb_params[\"max_leaves\"][0], xgb_params[\"max_leaves\"][1])\n",
    "    # max_depth = trial.suggest_int(\"max_depth\", 2, 10)\n",
    "    min_child_weight = trial.suggest_float(\"min_child_weight\", xgb_params[\"min_child_weight\"][0], xgb_params[\"min_child_weight\"][1])#, log = True)\n",
    "    # min_child_samples\n",
    "    learning_rate = trial.suggest_float(\"learning_rate\", xgb_params[\"learning_rate\"][0], xgb_params[\"learning_rate\"][1], log = True)\n",
    "    min_split_loss = trial.suggest_float(\"min_split_loss\", xgb_params[\"min_split_loss\"][0], xgb_params[\"min_split_loss\"][1], log = True)\n",
    "    subsample = trial.suggest_float(\"subsample\", xgb_params[\"subsample\"][0], xgb_params[\"subsample\"][1])\n",
    "    colsample_bytree = trial.suggest_float(\"colsample_bytree\", xgb_params[\"colsample_bytree\"][0], xgb_params[\"colsample_bytree\"][1])\n",
    "    reg_lambda = trial.suggest_float(\"reg_lambda\", xgb_params[\"reg_lambda\"][0], xgb_params[\"reg_lambda\"][1], log = True)\n",
    "\n",
    "    xgb_model = XGBRegressor(# n_estimators = n_estimators,\n",
    "                         # max_depth = max_depth,\n",
    "                         max_leaves = max_leaves,\n",
    "                         learning_rate = learning_rate,\n",
    "                         min_child_weight = min_child_weight,\n",
    "                         # min_split_loss = min_split_loss,\n",
    "                         subsample = subsample,        \n",
    "                         colsample_bytree = colsample_bytree,\n",
    "                         reg_lambda = reg_lambda,\n",
    "        \n",
    "                         n_jobs = -1,\n",
    "                         random_state = 42,\n",
    "                         early_stopping_rounds = 40\n",
    "                        )\n",
    "    \n",
    "    xgb_model.fit(X_train, \n",
    "                  y_train, \n",
    "                  verbose = False,\n",
    "                  eval_set = [(X_val, y_val)],\n",
    "                 )\n",
    "    \n",
    "    y_pred = xgb_model.predict(X_val)\n",
    "    score = mape_calc(y_val, y_pred)\n",
    "    # print(score)\n",
    "\n",
    "    # score = - cross_val_score(xgb_model, X_val, y_val, cv = 5, scoring = \"neg_mean_absolute_percentage_error\", n_jobs = -1).mean()\n",
    "    \n",
    "    return score\n",
    "\n",
    "\n",
    "\n",
    "def train_best_xgb(best_params):\n",
    "    model = XGBRegressor(\n",
    "        # n_estimators = 100,\n",
    "        # max_depth = best_params[\"max_depth\"],\n",
    "        max_leaves = best_params[\"max_leaves\"],\n",
    "        learning_rate = best_params[\"learning_rate\"],\n",
    "        min_child_weight = best_params[\"min_child_weight\"],\n",
    "        subsample = best_params[\"subsample\"],\n",
    "        colsample_bytree = best_params[\"colsample_bytree\"],\n",
    "        reg_lambda = best_params[\"reg_lambda\"],\n",
    "        n_jobs = -1,\n",
    "        random_state = 42,\n",
    "    )\n",
    "\n",
    "    return model\n"
   ]
  },
  {
   "cell_type": "code",
   "execution_count": 143,
   "metadata": {},
   "outputs": [],
   "source": [
    "xgb_params = {\"max_leaves\": [10,100],\n",
    "              \"min_child_weight\": [1e-5, 1e-1],\n",
    "              \"learning_rate\": [0.05, 0.2],\n",
    "              \"min_split_loss\": [1e-5, 1e-3],\n",
    "              \"subsample\": [0.5, 1],\n",
    "              \"colsample_bytree\": [0.75, 0.95],\n",
    "              \"reg_lambda\": [1e-5, 1]\n",
    "}"
   ]
  },
  {
   "cell_type": "code",
   "execution_count": null,
   "metadata": {},
   "outputs": [],
   "source": []
  },
  {
   "cell_type": "code",
   "execution_count": 144,
   "metadata": {},
   "outputs": [],
   "source": [
    "X_train_data = X_train[X_cols]\n",
    "X_val_data = X_val[X_cols]\n",
    "y_train_data = y_train.copy()\n",
    "y_val_data = y_val.copy()"
   ]
  },
  {
   "cell_type": "code",
   "execution_count": 219,
   "metadata": {
    "scrolled": true
   },
   "outputs": [
    {
     "name": "stderr",
     "output_type": "stream",
     "text": [
      "[I 2024-05-04 19:19:10,254] A new study created in memory with name: no-name-a1322f72-1288-40ea-81cc-868fddb10c30\n",
      "[I 2024-05-04 19:19:12,052] Trial 0 finished with value: 1.2253651671962258 and parameters: {'max_leaves': 25, 'min_child_weight': 0.09062090000697552, 'learning_rate': 0.08943932814419386, 'min_split_loss': 8.70329267497706e-05, 'subsample': 0.8582968215957516, 'colsample_bytree': 0.8616085911995337, 'reg_lambda': 0.0013718954047648526}. Best is trial 0 with value: 1.2253651671962258.\n",
      "[I 2024-05-04 19:19:12,303] Trial 3 finished with value: 1.0322713984871954 and parameters: {'max_leaves': 92, 'min_child_weight': 0.09616540961734298, 'learning_rate': 0.05647137051036084, 'min_split_loss': 0.00012077758825899426, 'subsample': 0.6453042528336161, 'colsample_bytree': 0.8455190454695688, 'reg_lambda': 0.00027539962630269196}. Best is trial 3 with value: 1.0322713984871954.\n",
      "[I 2024-05-04 19:19:12,322] Trial 1 finished with value: 1.0886760006421088 and parameters: {'max_leaves': 90, 'min_child_weight': 0.00014989222440811413, 'learning_rate': 0.07954523761910215, 'min_split_loss': 9.893906041247999e-05, 'subsample': 0.7954824103619228, 'colsample_bytree': 0.7720643598115076, 'reg_lambda': 0.9266804987198038}. Best is trial 3 with value: 1.0322713984871954.\n",
      "[I 2024-05-04 19:19:12,346] Trial 4 finished with value: 1.0478327953424666 and parameters: {'max_leaves': 63, 'min_child_weight': 0.020152010260843137, 'learning_rate': 0.13298583602602582, 'min_split_loss': 4.3649862642447866e-05, 'subsample': 0.7424784137478403, 'colsample_bytree': 0.9380595054356914, 'reg_lambda': 0.005402986783672557}. Best is trial 3 with value: 1.0322713984871954.\n",
      "[I 2024-05-04 19:19:12,368] Trial 5 finished with value: 1.3222336702443098 and parameters: {'max_leaves': 36, 'min_child_weight': 0.032466405620530436, 'learning_rate': 0.19787162697110974, 'min_split_loss': 2.6691139643823637e-05, 'subsample': 0.5012690556127861, 'colsample_bytree': 0.8534524345008889, 'reg_lambda': 3.0450979063943838e-05}. Best is trial 3 with value: 1.0322713984871954.\n",
      "[I 2024-05-04 19:19:12,375] Trial 7 finished with value: 1.1573608435909424 and parameters: {'max_leaves': 80, 'min_child_weight': 0.05055484193927053, 'learning_rate': 0.09597783926849017, 'min_split_loss': 0.000449189338996323, 'subsample': 0.7559194188481714, 'colsample_bytree': 0.8917389881753617, 'reg_lambda': 0.1136405964526311}. Best is trial 3 with value: 1.0322713984871954.\n",
      "[I 2024-05-04 19:19:12,377] Trial 6 finished with value: 1.0429666578601564 and parameters: {'max_leaves': 86, 'min_child_weight': 0.07195745065939732, 'learning_rate': 0.1354106231151941, 'min_split_loss': 3.654510994732038e-05, 'subsample': 0.8534763097192721, 'colsample_bytree': 0.8938734426189322, 'reg_lambda': 0.005419187343769838}. Best is trial 3 with value: 1.0322713984871954.\n",
      "[I 2024-05-04 19:19:12,387] Trial 2 finished with value: 1.2299367685549611 and parameters: {'max_leaves': 80, 'min_child_weight': 0.05807128247569465, 'learning_rate': 0.06206195396058381, 'min_split_loss': 0.0002457023858717551, 'subsample': 0.5057910973453676, 'colsample_bytree': 0.8488435470374711, 'reg_lambda': 0.10139681914396642}. Best is trial 3 with value: 1.0322713984871954.\n",
      "[I 2024-05-04 19:19:13,962] Trial 8 finished with value: 1.1521700602731288 and parameters: {'max_leaves': 22, 'min_child_weight': 0.09627436220780222, 'learning_rate': 0.11697800000816334, 'min_split_loss': 1.2466369411788835e-05, 'subsample': 0.7169693232339172, 'colsample_bytree': 0.8103873565793864, 'reg_lambda': 0.012667938633522339}. Best is trial 3 with value: 1.0322713984871954.\n",
      "[I 2024-05-04 19:19:14,595] Trial 9 finished with value: 1.0535772981571168 and parameters: {'max_leaves': 61, 'min_child_weight': 0.09575569520340353, 'learning_rate': 0.0950252324031339, 'min_split_loss': 1.4412358563624959e-05, 'subsample': 0.927287242027379, 'colsample_bytree': 0.7674179281339989, 'reg_lambda': 0.00010492530867480933}. Best is trial 3 with value: 1.0322713984871954.\n",
      "[I 2024-05-04 19:19:14,613] Trial 12 finished with value: 0.95716120779985 and parameters: {'max_leaves': 49, 'min_child_weight': 0.023983100088959538, 'learning_rate': 0.18050618172047775, 'min_split_loss': 1.024241925416856e-05, 'subsample': 0.8801981471886976, 'colsample_bytree': 0.8043349027476966, 'reg_lambda': 0.00015330304714637064}. Best is trial 12 with value: 0.95716120779985.\n",
      "[I 2024-05-04 19:19:14,616] Trial 10 finished with value: 1.2662574471580461 and parameters: {'max_leaves': 79, 'min_child_weight': 0.09059741358709238, 'learning_rate': 0.18790985356157003, 'min_split_loss': 5.160026624529506e-05, 'subsample': 0.7105472973299771, 'colsample_bytree': 0.8867589262910739, 'reg_lambda': 0.01631097551887395}. Best is trial 12 with value: 0.95716120779985.\n",
      "[I 2024-05-04 19:19:14,637] Trial 11 finished with value: 1.1587908693915672 and parameters: {'max_leaves': 39, 'min_child_weight': 0.031329690722435764, 'learning_rate': 0.0575367987215756, 'min_split_loss': 6.161523387922787e-05, 'subsample': 0.7701390174230464, 'colsample_bytree': 0.9009330409953086, 'reg_lambda': 0.05599994400403188}. Best is trial 12 with value: 0.95716120779985.\n",
      "[I 2024-05-04 19:19:14,643] Trial 15 finished with value: 1.042223361191775 and parameters: {'max_leaves': 96, 'min_child_weight': 0.036278476949167575, 'learning_rate': 0.06588437687790272, 'min_split_loss': 5.9143496352283716e-05, 'subsample': 0.9308323700277985, 'colsample_bytree': 0.8795300646745003, 'reg_lambda': 0.023049030089403004}. Best is trial 12 with value: 0.95716120779985.\n",
      "[I 2024-05-04 19:19:14,657] Trial 13 finished with value: 1.163632601336601 and parameters: {'max_leaves': 80, 'min_child_weight': 0.08828277719146971, 'learning_rate': 0.14613052765400553, 'min_split_loss': 1.508593227580309e-05, 'subsample': 0.7092426965974418, 'colsample_bytree': 0.7748122467444005, 'reg_lambda': 0.00015740548557002348}. Best is trial 12 with value: 0.95716120779985.\n",
      "[I 2024-05-04 19:19:14,663] Trial 14 finished with value: 1.1005189813487375 and parameters: {'max_leaves': 52, 'min_child_weight': 0.05914233896993635, 'learning_rate': 0.12730248608448488, 'min_split_loss': 2.934533351690519e-05, 'subsample': 0.8083946597663134, 'colsample_bytree': 0.939557307618387, 'reg_lambda': 0.0024460112317228064}. Best is trial 12 with value: 0.95716120779985.\n",
      "[I 2024-05-04 19:19:15,743] Trial 16 finished with value: 1.1036266126335 and parameters: {'max_leaves': 17, 'min_child_weight': 0.0327446980578377, 'learning_rate': 0.11915793003611433, 'min_split_loss': 3.717513421028439e-05, 'subsample': 0.7168533978848157, 'colsample_bytree': 0.8629921266644325, 'reg_lambda': 0.00012345334769510522}. Best is trial 12 with value: 0.95716120779985.\n",
      "[I 2024-05-04 19:19:16,389] Trial 17 finished with value: 1.2164549670538352 and parameters: {'max_leaves': 26, 'min_child_weight': 0.03889608295890626, 'learning_rate': 0.06861890950810112, 'min_split_loss': 1.933566696688933e-05, 'subsample': 0.9486670244114604, 'colsample_bytree': 0.8790386222593246, 'reg_lambda': 0.00030781355952310183}. Best is trial 12 with value: 0.95716120779985.\n",
      "[I 2024-05-04 19:19:16,451] Trial 20 finished with value: 1.2230883082245456 and parameters: {'max_leaves': 20, 'min_child_weight': 0.053117992424294214, 'learning_rate': 0.08198803363015779, 'min_split_loss': 0.00015074297739902162, 'subsample': 0.6418931064609251, 'colsample_bytree': 0.7629339008615673, 'reg_lambda': 0.046841006814636627}. Best is trial 12 with value: 0.95716120779985.\n",
      "[I 2024-05-04 19:19:16,719] Trial 23 finished with value: 1.0252866065944646 and parameters: {'max_leaves': 98, 'min_child_weight': 0.0020518341062332364, 'learning_rate': 0.0840547932599103, 'min_split_loss': 0.0008500415822149802, 'subsample': 0.8214975195673008, 'colsample_bytree': 0.9182856967439836, 'reg_lambda': 0.001667685097089135}. Best is trial 12 with value: 0.95716120779985.\n",
      "[I 2024-05-04 19:19:16,745] Trial 19 finished with value: 1.1205273432940805 and parameters: {'max_leaves': 99, 'min_child_weight': 0.06290459299640624, 'learning_rate': 0.09241560003827173, 'min_split_loss': 0.00040452978596834763, 'subsample': 0.6732324260624987, 'colsample_bytree': 0.945466786373705, 'reg_lambda': 0.006815529752969084}. Best is trial 12 with value: 0.95716120779985.\n",
      "[I 2024-05-04 19:19:16,752] Trial 18 finished with value: 1.1874901842839116 and parameters: {'max_leaves': 78, 'min_child_weight': 0.009608581397880648, 'learning_rate': 0.19488278574317047, 'min_split_loss': 1.1432461281186068e-05, 'subsample': 0.5279392481943801, 'colsample_bytree': 0.7915136840809125, 'reg_lambda': 0.00025700625472370735}. Best is trial 12 with value: 0.95716120779985.\n",
      "[I 2024-05-04 19:19:16,803] Trial 22 finished with value: 1.0435636964418058 and parameters: {'max_leaves': 68, 'min_child_weight': 0.04842482272570522, 'learning_rate': 0.0832329289903086, 'min_split_loss': 0.0002248877271351685, 'subsample': 0.7417228969458574, 'colsample_bytree': 0.9048158319419819, 'reg_lambda': 0.00020894050304806944}. Best is trial 12 with value: 0.95716120779985.\n",
      "[I 2024-05-04 19:19:16,821] Trial 21 finished with value: 1.1105388045652826 and parameters: {'max_leaves': 50, 'min_child_weight': 0.05897940473138452, 'learning_rate': 0.06284022641146715, 'min_split_loss': 0.0003061650425570257, 'subsample': 0.5477229276291571, 'colsample_bytree': 0.8451304353298178, 'reg_lambda': 0.21595826819023317}. Best is trial 12 with value: 0.95716120779985.\n",
      "[I 2024-05-04 19:19:17,848] Trial 24 finished with value: 1.1607871015066702 and parameters: {'max_leaves': 60, 'min_child_weight': 0.044429048979442096, 'learning_rate': 0.1834390828639183, 'min_split_loss': 1.4868813594584176e-05, 'subsample': 0.7167895092493024, 'colsample_bytree': 0.7922135970748041, 'reg_lambda': 0.00015079254172375476}. Best is trial 12 with value: 0.95716120779985.\n",
      "[I 2024-05-04 19:19:18,551] Trial 25 finished with value: 1.1275452514641364 and parameters: {'max_leaves': 45, 'min_child_weight': 0.05244470309272747, 'learning_rate': 0.08480200298308663, 'min_split_loss': 0.0008703599307480894, 'subsample': 0.5985862423837117, 'colsample_bytree': 0.7868873093436611, 'reg_lambda': 0.00018439551642494647}. Best is trial 12 with value: 0.95716120779985.\n",
      "[I 2024-05-04 19:19:18,569] Trial 29 finished with value: 1.133033399546282 and parameters: {'max_leaves': 23, 'min_child_weight': 0.038835473265668954, 'learning_rate': 0.1148684218092709, 'min_split_loss': 1.0520980468748844e-05, 'subsample': 0.7568892392649167, 'colsample_bytree': 0.7750709129779867, 'reg_lambda': 0.0003500105257991178}. Best is trial 12 with value: 0.95716120779985.\n",
      "[I 2024-05-04 19:19:18,610] Trial 26 finished with value: 1.0954060856217458 and parameters: {'max_leaves': 78, 'min_child_weight': 0.07014162423020358, 'learning_rate': 0.1003684404999574, 'min_split_loss': 0.00011481008552117529, 'subsample': 0.8133250988256652, 'colsample_bytree': 0.8756524858077946, 'reg_lambda': 0.003018536612881772}. Best is trial 12 with value: 0.95716120779985.\n",
      "[I 2024-05-04 19:19:18,829] Trial 28 finished with value: 1.2223153721400337 and parameters: {'max_leaves': 61, 'min_child_weight': 0.0018405962088782135, 'learning_rate': 0.1252201719641653, 'min_split_loss': 0.00018807571339524054, 'subsample': 0.9814073573458049, 'colsample_bytree': 0.8473336638099414, 'reg_lambda': 0.18451448843841628}. Best is trial 12 with value: 0.95716120779985.\n",
      "[I 2024-05-04 19:19:18,844] Trial 27 finished with value: 0.9994573640880674 and parameters: {'max_leaves': 85, 'min_child_weight': 0.026952490107305896, 'learning_rate': 0.09584027376399538, 'min_split_loss': 1.2856900224954618e-05, 'subsample': 0.7334141653727871, 'colsample_bytree': 0.9421621378514469, 'reg_lambda': 0.00010528549883648992}. Best is trial 12 with value: 0.95716120779985.\n",
      "[I 2024-05-04 19:19:18,866] Trial 31 finished with value: 1.0504895214332977 and parameters: {'max_leaves': 65, 'min_child_weight': 0.028212892173646774, 'learning_rate': 0.06441417444565145, 'min_split_loss': 1.9965828885678173e-05, 'subsample': 0.6253193267689232, 'colsample_bytree': 0.871194760818061, 'reg_lambda': 0.0790672541496167}. Best is trial 12 with value: 0.95716120779985.\n",
      "[I 2024-05-04 19:19:18,883] Trial 30 finished with value: 1.2446066559097837 and parameters: {'max_leaves': 97, 'min_child_weight': 0.016602752346942088, 'learning_rate': 0.14620100572186828, 'min_split_loss': 0.000556531879289152, 'subsample': 0.8634572390100252, 'colsample_bytree': 0.7931553012658981, 'reg_lambda': 0.00010676266054369149}. Best is trial 12 with value: 0.95716120779985.\n",
      "[I 2024-05-04 19:19:19,901] Trial 32 finished with value: 1.0209942426667096 and parameters: {'max_leaves': 84, 'min_child_weight': 0.03375616093523024, 'learning_rate': 0.07830944865631459, 'min_split_loss': 4.4817950845851574e-05, 'subsample': 0.9669974343961958, 'colsample_bytree': 0.7617094790281325, 'reg_lambda': 0.0008024847961244736}. Best is trial 12 with value: 0.95716120779985.\n",
      "[I 2024-05-04 19:19:20,294] Trial 36 finished with value: 1.152344982188902 and parameters: {'max_leaves': 11, 'min_child_weight': 0.0017410868414028723, 'learning_rate': 0.15379559927650788, 'min_split_loss': 0.0001874451763394056, 'subsample': 0.8643979397755102, 'colsample_bytree': 0.8718861551869774, 'reg_lambda': 0.007389930614491009}. Best is trial 12 with value: 0.95716120779985.\n",
      "[I 2024-05-04 19:19:20,318] Trial 34 finished with value: 1.089700879915049 and parameters: {'max_leaves': 28, 'min_child_weight': 0.09758136696343862, 'learning_rate': 0.10024839728647182, 'min_split_loss': 3.674591174458338e-05, 'subsample': 0.7810549927883651, 'colsample_bytree': 0.8040538304107026, 'reg_lambda': 0.0070871125521607715}. Best is trial 12 with value: 0.95716120779985.\n",
      "[I 2024-05-04 19:19:20,599] Trial 33 finished with value: 1.020801490869592 and parameters: {'max_leaves': 64, 'min_child_weight': 0.09492611452598529, 'learning_rate': 0.07632820054776998, 'min_split_loss': 0.00040656181807251414, 'subsample': 0.8050771941823052, 'colsample_bytree': 0.827866958375296, 'reg_lambda': 1.3729417925219337e-05}. Best is trial 12 with value: 0.95716120779985.\n",
      "[I 2024-05-04 19:19:20,622] Trial 35 finished with value: 1.2326109175530076 and parameters: {'max_leaves': 62, 'min_child_weight': 0.09451755797805614, 'learning_rate': 0.17713962983371587, 'min_split_loss': 0.0002005058810010942, 'subsample': 0.640896659158062, 'colsample_bytree': 0.8982683452273366, 'reg_lambda': 0.8966968208411514}. Best is trial 12 with value: 0.95716120779985.\n",
      "[I 2024-05-04 19:19:20,658] Trial 39 finished with value: 1.1100100073422383 and parameters: {'max_leaves': 18, 'min_child_weight': 0.02871796278918465, 'learning_rate': 0.05768803459589369, 'min_split_loss': 0.00027784249336441284, 'subsample': 0.6277114893120733, 'colsample_bytree': 0.9342117488496224, 'reg_lambda': 0.03744705333013294}. Best is trial 12 with value: 0.95716120779985.\n",
      "[I 2024-05-04 19:19:20,889] Trial 37 finished with value: 1.087780518905435 and parameters: {'max_leaves': 97, 'min_child_weight': 0.07191084558877864, 'learning_rate': 0.09423085604825521, 'min_split_loss': 0.0008600871350890931, 'subsample': 0.7379051864241173, 'colsample_bytree': 0.9098721116134901, 'reg_lambda': 0.0003095595738898999}. Best is trial 12 with value: 0.95716120779985.\n",
      "[I 2024-05-04 19:19:20,941] Trial 38 finished with value: 1.0476824243420302 and parameters: {'max_leaves': 79, 'min_child_weight': 0.03470146545178998, 'learning_rate': 0.050714601078554376, 'min_split_loss': 0.0004631070007272381, 'subsample': 0.8693648058107502, 'colsample_bytree': 0.9335804359614028, 'reg_lambda': 0.0002196768905140377}. Best is trial 12 with value: 0.95716120779985.\n",
      "[I 2024-05-04 19:19:21,729] Trial 40 finished with value: 1.14567618025675 and parameters: {'max_leaves': 20, 'min_child_weight': 0.05124901159568331, 'learning_rate': 0.06234341593933159, 'min_split_loss': 6.750686130286284e-05, 'subsample': 0.557243697195334, 'colsample_bytree': 0.8236750480551147, 'reg_lambda': 0.0001498361313232705}. Best is trial 12 with value: 0.95716120779985.\n",
      "[I 2024-05-04 19:19:21,886] Trial 42 finished with value: 1.2006943503028624 and parameters: {'max_leaves': 15, 'min_child_weight': 0.03035343811061913, 'learning_rate': 0.1476664357729806, 'min_split_loss': 8.318669934756753e-05, 'subsample': 0.6383020177912591, 'colsample_bytree': 0.875082274775993, 'reg_lambda': 0.0014076262125537003}. Best is trial 12 with value: 0.95716120779985.\n",
      "[I 2024-05-04 19:19:22,396] Trial 41 finished with value: 1.2135988553426211 and parameters: {'max_leaves': 45, 'min_child_weight': 0.02622033723512171, 'learning_rate': 0.06605721439221718, 'min_split_loss': 1.61099720482588e-05, 'subsample': 0.5070326324373764, 'colsample_bytree': 0.8396121691687095, 'reg_lambda': 0.48662326704070297}. Best is trial 12 with value: 0.95716120779985.\n",
      "[I 2024-05-04 19:19:22,683] Trial 43 finished with value: 1.0068953338754945 and parameters: {'max_leaves': 39, 'min_child_weight': 0.09012864473575041, 'learning_rate': 0.12585487965198217, 'min_split_loss': 2.6079634533963603e-05, 'subsample': 0.583534900117662, 'colsample_bytree': 0.9368170954032414, 'reg_lambda': 0.45070180113403735}. Best is trial 12 with value: 0.95716120779985.\n",
      "[I 2024-05-04 19:19:22,715] Trial 44 finished with value: 1.0288379275782153 and parameters: {'max_leaves': 44, 'min_child_weight': 0.09218091862089907, 'learning_rate': 0.17374602170781697, 'min_split_loss': 1.2179681723589451e-05, 'subsample': 0.9696681758176697, 'colsample_bytree': 0.9160097638852538, 'reg_lambda': 0.03594793739565773}. Best is trial 12 with value: 0.95716120779985.\n",
      "[I 2024-05-04 19:19:22,725] Trial 45 finished with value: 1.2257505550031225 and parameters: {'max_leaves': 55, 'min_child_weight': 0.013561041142924215, 'learning_rate': 0.08310590363608202, 'min_split_loss': 0.0003186600744839804, 'subsample': 0.5527993759271521, 'colsample_bytree': 0.808944576694125, 'reg_lambda': 0.001727999161656192}. Best is trial 12 with value: 0.95716120779985.\n",
      "[I 2024-05-04 19:19:22,942] Trial 46 finished with value: 1.1354960709126287 and parameters: {'max_leaves': 65, 'min_child_weight': 0.006046165193331535, 'learning_rate': 0.07560985466759362, 'min_split_loss': 1.1125254145574119e-05, 'subsample': 0.8220622217687561, 'colsample_bytree': 0.8465151925080893, 'reg_lambda': 0.0005145804019503272}. Best is trial 12 with value: 0.95716120779985.\n",
      "[I 2024-05-04 19:19:23,019] Trial 47 finished with value: 1.0985877667891601 and parameters: {'max_leaves': 86, 'min_child_weight': 0.009371151664211038, 'learning_rate': 0.07483918702301331, 'min_split_loss': 2.262666957561258e-05, 'subsample': 0.6662244394081649, 'colsample_bytree': 0.8709483205572892, 'reg_lambda': 0.00016273407449372116}. Best is trial 12 with value: 0.95716120779985.\n",
      "[I 2024-05-04 19:19:23,485] Trial 48 finished with value: 1.0818769324489963 and parameters: {'max_leaves': 28, 'min_child_weight': 0.030674403857938983, 'learning_rate': 0.1594373190690837, 'min_split_loss': 0.0006214103025311472, 'subsample': 0.7021355180189364, 'colsample_bytree': 0.8057054867113228, 'reg_lambda': 0.0009396187539481911}. Best is trial 12 with value: 0.95716120779985.\n",
      "[I 2024-05-04 19:19:23,930] Trial 49 finished with value: 1.1187978834102479 and parameters: {'max_leaves': 81, 'min_child_weight': 0.06727933524465787, 'learning_rate': 0.08922399589683334, 'min_split_loss': 0.00014026364541691223, 'subsample': 0.679099385618829, 'colsample_bytree': 0.9006114161446258, 'reg_lambda': 0.0020752082452239855}. Best is trial 12 with value: 0.95716120779985.\n",
      "[I 2024-05-04 19:19:24,407] Trial 50 finished with value: 0.9981712286863432 and parameters: {'max_leaves': 58, 'min_child_weight': 0.004457517505280005, 'learning_rate': 0.1848988538372784, 'min_split_loss': 9.932781592150067e-05, 'subsample': 0.566711914124362, 'colsample_bytree': 0.7644796109593417, 'reg_lambda': 0.009251802117220218}. Best is trial 12 with value: 0.95716120779985.\n",
      "[I 2024-05-04 19:19:24,748] Trial 51 finished with value: 1.0766639504662632 and parameters: {'max_leaves': 57, 'min_child_weight': 0.05677224054046507, 'learning_rate': 0.19387105729103546, 'min_split_loss': 7.887631949499925e-05, 'subsample': 0.927722932978353, 'colsample_bytree': 0.7593675254428565, 'reg_lambda': 0.3060651120102096}. Best is trial 12 with value: 0.95716120779985.\n",
      "[I 2024-05-04 19:19:24,765] Trial 53 finished with value: 1.1019720144146394 and parameters: {'max_leaves': 88, 'min_child_weight': 0.04700099352211581, 'learning_rate': 0.07099084041120192, 'min_split_loss': 0.00011495452920113755, 'subsample': 0.6722436679985454, 'colsample_bytree': 0.8258440469315357, 'reg_lambda': 0.005215877267250146}. Best is trial 12 with value: 0.95716120779985.\n",
      "[I 2024-05-04 19:19:24,803] Trial 52 finished with value: 1.0031689628219282 and parameters: {'max_leaves': 61, 'min_child_weight': 0.07033443376132284, 'learning_rate': 0.08100349795775597, 'min_split_loss': 6.22881900920259e-05, 'subsample': 0.7250398489548725, 'colsample_bytree': 0.8318184952910029, 'reg_lambda': 0.0008023481935921847}. Best is trial 12 with value: 0.95716120779985.\n",
      "[I 2024-05-04 19:19:24,977] Trial 54 finished with value: 1.1385406753860632 and parameters: {'max_leaves': 59, 'min_child_weight': 0.03224143582275578, 'learning_rate': 0.13714672521450083, 'min_split_loss': 0.0008215344917352679, 'subsample': 0.9557535472452103, 'colsample_bytree': 0.7637351442324272, 'reg_lambda': 2.355632089591351e-05}. Best is trial 12 with value: 0.95716120779985.\n",
      "[I 2024-05-04 19:19:25,026] Trial 55 finished with value: 1.1386316486106074 and parameters: {'max_leaves': 69, 'min_child_weight': 0.0015101033025922794, 'learning_rate': 0.07159660609943161, 'min_split_loss': 0.00021502253541266474, 'subsample': 0.7440138575989793, 'colsample_bytree': 0.9333251419746185, 'reg_lambda': 0.01700646401457288}. Best is trial 12 with value: 0.95716120779985.\n",
      "[I 2024-05-04 19:19:25,527] Trial 56 finished with value: 1.141948717272526 and parameters: {'max_leaves': 45, 'min_child_weight': 0.055865764522053864, 'learning_rate': 0.055456996790520616, 'min_split_loss': 0.0007964595438188427, 'subsample': 0.9278204672369126, 'colsample_bytree': 0.8547391976303697, 'reg_lambda': 8.791667341548169e-05}. Best is trial 12 with value: 0.95716120779985.\n",
      "[I 2024-05-04 19:19:25,936] Trial 57 finished with value: 1.0706992954708419 and parameters: {'max_leaves': 88, 'min_child_weight': 0.01477814416456801, 'learning_rate': 0.13277745153703915, 'min_split_loss': 0.00047003417060239737, 'subsample': 0.7959663840313009, 'colsample_bytree': 0.7634962884353601, 'reg_lambda': 0.0025201885166778216}. Best is trial 12 with value: 0.95716120779985.\n",
      "[I 2024-05-04 19:19:26,438] Trial 58 finished with value: 1.04692472138216 and parameters: {'max_leaves': 80, 'min_child_weight': 0.042095095437267166, 'learning_rate': 0.051068009793764954, 'min_split_loss': 0.0002926819303732867, 'subsample': 0.6070730736780037, 'colsample_bytree': 0.844676980604469, 'reg_lambda': 0.9025328696883523}. Best is trial 12 with value: 0.95716120779985.\n",
      "[I 2024-05-04 19:19:26,449] Trial 62 finished with value: 1.0502992129243052 and parameters: {'max_leaves': 13, 'min_child_weight': 0.09747442383213341, 'learning_rate': 0.1491373989801484, 'min_split_loss': 0.0002744227207611904, 'subsample': 0.8904917004398092, 'colsample_bytree': 0.9011845218917857, 'reg_lambda': 1.6441553423928586e-05}. Best is trial 12 with value: 0.95716120779985.\n",
      "[I 2024-05-04 19:19:26,504] Trial 59 finished with value: 1.115688133137732 and parameters: {'max_leaves': 29, 'min_child_weight': 0.09957171357287237, 'learning_rate': 0.1234692734439045, 'min_split_loss': 4.74054046982165e-05, 'subsample': 0.7627856043612139, 'colsample_bytree': 0.8072803395870238, 'reg_lambda': 0.0072753002627068}. Best is trial 12 with value: 0.95716120779985.\n",
      "[I 2024-05-04 19:19:26,737] Trial 60 finished with value: 1.050844646044364 and parameters: {'max_leaves': 96, 'min_child_weight': 0.06620448366151645, 'learning_rate': 0.1142664713514987, 'min_split_loss': 4.2352891289831684e-05, 'subsample': 0.7892620105079571, 'colsample_bytree': 0.8965544800474313, 'reg_lambda': 0.028988910088807107}. Best is trial 12 with value: 0.95716120779985.\n",
      "[I 2024-05-04 19:19:26,797] Trial 61 finished with value: 1.18019109311829 and parameters: {'max_leaves': 39, 'min_child_weight': 0.09832058178970958, 'learning_rate': 0.06442822074662405, 'min_split_loss': 0.0008126466780815389, 'subsample': 0.6431184949945834, 'colsample_bytree': 0.826570073707559, 'reg_lambda': 0.3655138444827934}. Best is trial 12 with value: 0.95716120779985.\n",
      "[I 2024-05-04 19:19:27,004] Trial 63 finished with value: 1.1185393404621362 and parameters: {'max_leaves': 35, 'min_child_weight': 0.034765372900704875, 'learning_rate': 0.05147550466929481, 'min_split_loss': 0.00024584247705864803, 'subsample': 0.5379584027473465, 'colsample_bytree': 0.8087378941676494, 'reg_lambda': 0.016680454415120987}. Best is trial 12 with value: 0.95716120779985.\n",
      "[I 2024-05-04 19:19:27,216] Trial 64 finished with value: 1.175711577832087 and parameters: {'max_leaves': 17, 'min_child_weight': 0.036093248924470876, 'learning_rate': 0.07140991398198537, 'min_split_loss': 0.000626422601164258, 'subsample': 0.7717597166976969, 'colsample_bytree': 0.9068109737942605, 'reg_lambda': 4.383553506413286e-05}. Best is trial 12 with value: 0.95716120779985.\n",
      "[I 2024-05-04 19:19:27,894] Trial 65 finished with value: 1.1947145393196261 and parameters: {'max_leaves': 71, 'min_child_weight': 0.06179785176773496, 'learning_rate': 0.07407477225480565, 'min_split_loss': 2.4968703426582176e-05, 'subsample': 0.5073518539917683, 'colsample_bytree': 0.8565552998859203, 'reg_lambda': 8.646468252878775e-05}. Best is trial 12 with value: 0.95716120779985.\n",
      "[I 2024-05-04 19:19:28,158] Trial 68 finished with value: 1.166472816300286 and parameters: {'max_leaves': 21, 'min_child_weight': 0.034791640999568, 'learning_rate': 0.18969292976660984, 'min_split_loss': 4.7634806793346e-05, 'subsample': 0.6652037756089735, 'colsample_bytree': 0.9293418077949722, 'reg_lambda': 0.45321786761120214}. Best is trial 12 with value: 0.95716120779985.\n",
      "[I 2024-05-04 19:19:28,195] Trial 70 finished with value: 1.2012493414724512 and parameters: {'max_leaves': 16, 'min_child_weight': 0.06465070231115405, 'learning_rate': 0.058714467885612555, 'min_split_loss': 0.0008409558130247855, 'subsample': 0.8568563658797343, 'colsample_bytree': 0.8373770765476034, 'reg_lambda': 0.045541820105747005}. Best is trial 12 with value: 0.95716120779985.\n",
      "[I 2024-05-04 19:19:28,376] Trial 71 finished with value: 1.2296036164053166 and parameters: {'max_leaves': 16, 'min_child_weight': 0.07633558467169578, 'learning_rate': 0.07797275981152707, 'min_split_loss': 0.000595535429023934, 'subsample': 0.8752581458731136, 'colsample_bytree': 0.8699350809564104, 'reg_lambda': 0.032407409570681396}. Best is trial 12 with value: 0.95716120779985.\n",
      "[I 2024-05-04 19:19:28,390] Trial 66 finished with value: 1.2072016866718578 and parameters: {'max_leaves': 91, 'min_child_weight': 0.04608936771113887, 'learning_rate': 0.18864119639673294, 'min_split_loss': 3.003975026177971e-05, 'subsample': 0.7101595152446323, 'colsample_bytree': 0.7629939913294868, 'reg_lambda': 0.025624007986197524}. Best is trial 12 with value: 0.95716120779985.\n",
      "[I 2024-05-04 19:19:28,406] Trial 67 finished with value: 1.1867218957593144 and parameters: {'max_leaves': 54, 'min_child_weight': 0.07464231022987858, 'learning_rate': 0.16946128792497542, 'min_split_loss': 0.00020260466823386166, 'subsample': 0.6003223876312661, 'colsample_bytree': 0.7993459801138952, 'reg_lambda': 0.010639601235255092}. Best is trial 12 with value: 0.95716120779985.\n",
      "[I 2024-05-04 19:19:28,416] Trial 69 finished with value: 1.145994625052507 and parameters: {'max_leaves': 22, 'min_child_weight': 0.03744338833926022, 'learning_rate': 0.06544386328943565, 'min_split_loss': 0.00021085569707748268, 'subsample': 0.5813697334479088, 'colsample_bytree': 0.9076562448768364, 'reg_lambda': 0.01893210301767004}. Best is trial 12 with value: 0.95716120779985.\n",
      "[I 2024-05-04 19:19:29,140] Trial 72 finished with value: 1.0985666453684029 and parameters: {'max_leaves': 64, 'min_child_weight': 0.09477243929204353, 'learning_rate': 0.1543663399254804, 'min_split_loss': 3.1934696035290916e-05, 'subsample': 0.5551986085176415, 'colsample_bytree': 0.8230971421701634, 'reg_lambda': 0.004886035687917576}. Best is trial 12 with value: 0.95716120779985.\n",
      "[I 2024-05-04 19:19:29,588] Trial 74 finished with value: 1.107091541373813 and parameters: {'max_leaves': 10, 'min_child_weight': 0.03843753558063368, 'learning_rate': 0.06986091530178351, 'min_split_loss': 0.0006571969308677298, 'subsample': 0.5660535513382552, 'colsample_bytree': 0.9015845376795002, 'reg_lambda': 0.0002994577931628791}. Best is trial 12 with value: 0.95716120779985.\n",
      "[I 2024-05-04 19:19:29,924] Trial 73 finished with value: 1.0420548714138587 and parameters: {'max_leaves': 81, 'min_child_weight': 0.003340341101669914, 'learning_rate': 0.10726832077143389, 'min_split_loss': 3.5037368341946594e-05, 'subsample': 0.8873459538322975, 'colsample_bytree': 0.7692003232153882, 'reg_lambda': 6.9773675401903e-05}. Best is trial 12 with value: 0.95716120779985.\n",
      "[I 2024-05-04 19:19:30,240] Trial 78 finished with value: 1.1701127399518976 and parameters: {'max_leaves': 18, 'min_child_weight': 0.02964109483619971, 'learning_rate': 0.05566953178730264, 'min_split_loss': 2.1480814120587985e-05, 'subsample': 0.7231263757833506, 'colsample_bytree': 0.8922949831056035, 'reg_lambda': 0.00030545523888651153}. Best is trial 12 with value: 0.95716120779985.\n",
      "[I 2024-05-04 19:19:30,256] Trial 79 finished with value: 1.135421432716622 and parameters: {'max_leaves': 30, 'min_child_weight': 0.04581124803996634, 'learning_rate': 0.1236312953910627, 'min_split_loss': 0.0006696444874419071, 'subsample': 0.9426187824242456, 'colsample_bytree': 0.7929670343758596, 'reg_lambda': 5.123926837359683e-05}. Best is trial 12 with value: 0.95716120779985.\n",
      "[I 2024-05-04 19:19:30,318] Trial 75 finished with value: 1.0906563577599027 and parameters: {'max_leaves': 67, 'min_child_weight': 0.016849159635150286, 'learning_rate': 0.13920749226016602, 'min_split_loss': 0.00010027784205313107, 'subsample': 0.8975288656724788, 'colsample_bytree': 0.9442846303021541, 'reg_lambda': 3.029455120441029e-05}. Best is trial 12 with value: 0.95716120779985.\n",
      "[I 2024-05-04 19:19:30,499] Trial 76 finished with value: 1.0425939654254324 and parameters: {'max_leaves': 57, 'min_child_weight': 0.06908952621065646, 'learning_rate': 0.10025826628966178, 'min_split_loss': 0.0001449481628122486, 'subsample': 0.8427826388003326, 'colsample_bytree': 0.8598008925628204, 'reg_lambda': 0.07804309633816553}. Best is trial 12 with value: 0.95716120779985.\n",
      "[I 2024-05-04 19:19:30,514] Trial 77 finished with value: 1.0049710132226557 and parameters: {'max_leaves': 63, 'min_child_weight': 0.03418678618736209, 'learning_rate': 0.0866006670520475, 'min_split_loss': 0.00018784354311905896, 'subsample': 0.8743077129753076, 'colsample_bytree': 0.9094074538506127, 'reg_lambda': 0.0214192177247517}. Best is trial 12 with value: 0.95716120779985.\n",
      "[I 2024-05-04 19:19:31,304] Trial 80 finished with value: 1.1037234468413228 and parameters: {'max_leaves': 73, 'min_child_weight': 0.03882298885052036, 'learning_rate': 0.12145448687639789, 'min_split_loss': 0.0004105320314052198, 'subsample': 0.835761568986187, 'colsample_bytree': 0.9071486092646595, 'reg_lambda': 0.10326974401324215}. Best is trial 12 with value: 0.95716120779985.\n",
      "[I 2024-05-04 19:19:31,825] Trial 84 finished with value: 1.1357442089579393 and parameters: {'max_leaves': 10, 'min_child_weight': 0.08030686012166807, 'learning_rate': 0.12187379225044596, 'min_split_loss': 0.0007689576467784507, 'subsample': 0.8123074021729286, 'colsample_bytree': 0.8580106678539344, 'reg_lambda': 0.0014962293869339406}. Best is trial 12 with value: 0.95716120779985.\n",
      "[I 2024-05-04 19:19:31,849] Trial 81 finished with value: 0.9592992924282197 and parameters: {'max_leaves': 92, 'min_child_weight': 0.054215927944658515, 'learning_rate': 0.18090264589964167, 'min_split_loss': 7.913644071518435e-05, 'subsample': 0.9872767319371626, 'colsample_bytree': 0.7816442398754532, 'reg_lambda': 0.6209754159359121}. Best is trial 12 with value: 0.95716120779985.\n",
      "[I 2024-05-04 19:19:32,377] Trial 85 finished with value: 1.0565774121488232 and parameters: {'max_leaves': 13, 'min_child_weight': 0.04421699835832747, 'learning_rate': 0.09695912138196232, 'min_split_loss': 0.00017042034613853018, 'subsample': 0.7201324234530966, 'colsample_bytree': 0.8754337022586987, 'reg_lambda': 0.008936871473212853}. Best is trial 12 with value: 0.95716120779985.\n",
      "[I 2024-05-04 19:19:32,741] Trial 87 finished with value: 1.0906969333769208 and parameters: {'max_leaves': 12, 'min_child_weight': 0.03291718348239762, 'learning_rate': 0.145739418084386, 'min_split_loss': 0.0006845724390654164, 'subsample': 0.9829176207656183, 'colsample_bytree': 0.8134607094945222, 'reg_lambda': 2.3487917678860135e-05}. Best is trial 12 with value: 0.95716120779985.\n",
      "[I 2024-05-04 19:19:32,863] Trial 83 finished with value: 1.2100135408602735 and parameters: {'max_leaves': 21, 'min_child_weight': 0.04168141425475735, 'learning_rate': 0.1763352891388206, 'min_split_loss': 0.0008235236771908554, 'subsample': 0.5434598070884897, 'colsample_bytree': 0.7885846065588291, 'reg_lambda': 0.004110020355712326}. Best is trial 12 with value: 0.95716120779985.\n",
      "[I 2024-05-04 19:19:32,926] Trial 82 finished with value: 0.9514993959299727 and parameters: {'max_leaves': 33, 'min_child_weight': 0.07821650029560907, 'learning_rate': 0.14985154541201998, 'min_split_loss': 3.086901226827798e-05, 'subsample': 0.6528148108808043, 'colsample_bytree': 0.7988915307129162, 'reg_lambda': 0.0035083640392018028}. Best is trial 82 with value: 0.9514993959299727.\n",
      "[I 2024-05-04 19:19:33,537] Trial 86 finished with value: 1.0262397791073283 and parameters: {'max_leaves': 64, 'min_child_weight': 0.05056871417363918, 'learning_rate': 0.19110444270996124, 'min_split_loss': 0.00034562037864176024, 'subsample': 0.8405390891682338, 'colsample_bytree': 0.876754914925557, 'reg_lambda': 0.15171772111072648}. Best is trial 82 with value: 0.9514993959299727.\n",
      "[I 2024-05-04 19:19:34,220] Trial 88 finished with value: 1.108305644084801 and parameters: {'max_leaves': 44, 'min_child_weight': 0.0022735825335787534, 'learning_rate': 0.08980550139107206, 'min_split_loss': 0.0002613349406328381, 'subsample': 0.6717212737605, 'colsample_bytree': 0.8258894229616439, 'reg_lambda': 0.05304209581958482}. Best is trial 82 with value: 0.9514993959299727.\n",
      "[I 2024-05-04 19:19:34,419] Trial 89 finished with value: 1.2154636930054221 and parameters: {'max_leaves': 22, 'min_child_weight': 0.07958037739577817, 'learning_rate': 0.07653955799913792, 'min_split_loss': 2.0405473015727812e-05, 'subsample': 0.8378362038339879, 'colsample_bytree': 0.8609148829713393, 'reg_lambda': 0.2260496879820698}. Best is trial 82 with value: 0.9514993959299727.\n",
      "[I 2024-05-04 19:19:34,784] Trial 90 finished with value: 1.0649589820122047 and parameters: {'max_leaves': 66, 'min_child_weight': 0.016663427221383375, 'learning_rate': 0.16286376873576985, 'min_split_loss': 0.0002773493909015327, 'subsample': 0.5761903936042432, 'colsample_bytree': 0.7707786194907404, 'reg_lambda': 0.0007026546322933692}. Best is trial 82 with value: 0.9514993959299727.\n",
      "[I 2024-05-04 19:19:34,800] Trial 92 finished with value: 1.1303787366328948 and parameters: {'max_leaves': 20, 'min_child_weight': 0.010454920774295861, 'learning_rate': 0.14682943640560536, 'min_split_loss': 1.2553081812504167e-05, 'subsample': 0.6032817126698666, 'colsample_bytree': 0.8427138164752371, 'reg_lambda': 0.10907314176464473}. Best is trial 82 with value: 0.9514993959299727.\n",
      "[I 2024-05-04 19:19:34,913] Trial 91 finished with value: 1.0196044532022985 and parameters: {'max_leaves': 63, 'min_child_weight': 0.05758831240256832, 'learning_rate': 0.0528013617774359, 'min_split_loss': 1.692427722371425e-05, 'subsample': 0.7015668678253307, 'colsample_bytree': 0.8900183573046617, 'reg_lambda': 0.002611326653652335}. Best is trial 82 with value: 0.9514993959299727.\n",
      "[I 2024-05-04 19:19:35,166] Trial 94 finished with value: 1.094736776560892 and parameters: {'max_leaves': 97, 'min_child_weight': 0.006248899854930334, 'learning_rate': 0.08585979100463349, 'min_split_loss': 0.00020307984121773235, 'subsample': 0.673187319764277, 'colsample_bytree': 0.9072192320249447, 'reg_lambda': 0.0016775414674122502}. Best is trial 82 with value: 0.9514993959299727.\n",
      "[I 2024-05-04 19:19:35,176] Trial 93 finished with value: 1.0910586695742512 and parameters: {'max_leaves': 83, 'min_child_weight': 0.06343376367828446, 'learning_rate': 0.1131420740046391, 'min_split_loss': 3.886202008090142e-05, 'subsample': 0.707273109013568, 'colsample_bytree': 0.8684281956932878, 'reg_lambda': 6.0494771447510596e-05}. Best is trial 82 with value: 0.9514993959299727.\n",
      "[I 2024-05-04 19:19:35,475] Trial 95 finished with value: 1.097724315407346 and parameters: {'max_leaves': 52, 'min_child_weight': 0.09957570119248373, 'learning_rate': 0.13198223344208795, 'min_split_loss': 0.00015126388008233766, 'subsample': 0.811984531948126, 'colsample_bytree': 0.9418053125090535, 'reg_lambda': 0.9168103042096023}. Best is trial 82 with value: 0.9514993959299727.\n",
      "[I 2024-05-04 19:19:35,641] Trial 96 finished with value: 1.1727357636224216 and parameters: {'max_leaves': 19, 'min_child_weight': 0.08234574967580864, 'learning_rate': 0.09800128438126557, 'min_split_loss': 1.0790976266493214e-05, 'subsample': 0.8058648915009878, 'colsample_bytree': 0.8637823905484616, 'reg_lambda': 0.0001393595509759378}. Best is trial 82 with value: 0.9514993959299727.\n",
      "[I 2024-05-04 19:19:35,803] Trial 97 finished with value: 1.079338709048943 and parameters: {'max_leaves': 98, 'min_child_weight': 0.028154518173188026, 'learning_rate': 0.0961629125943158, 'min_split_loss': 0.0001568005598485833, 'subsample': 0.8911723872482816, 'colsample_bytree': 0.8646055954125899, 'reg_lambda': 0.0016398921822246646}. Best is trial 82 with value: 0.9514993959299727.\n",
      "[I 2024-05-04 19:19:35,827] Trial 98 finished with value: 1.140249737556344 and parameters: {'max_leaves': 22, 'min_child_weight': 0.08748520053485304, 'learning_rate': 0.11336166655907993, 'min_split_loss': 0.0007527412085041768, 'subsample': 0.680986961528756, 'colsample_bytree': 0.7640712759936134, 'reg_lambda': 0.1589660165295701}. Best is trial 82 with value: 0.9514993959299727.\n",
      "[I 2024-05-04 19:19:35,895] Trial 99 finished with value: 1.0532968094031294 and parameters: {'max_leaves': 98, 'min_child_weight': 0.07238089585538549, 'learning_rate': 0.09136563176491276, 'min_split_loss': 0.0007078752830604932, 'subsample': 0.9333700523953109, 'colsample_bytree': 0.9144315427702181, 'reg_lambda': 0.00018902694950399506}. Best is trial 82 with value: 0.9514993959299727.\n",
      "/Users/phillipharvey/Documents/Venvs/MLenv/lib/python3.12/site-packages/sklearn/base.py:493: UserWarning:\n",
      "\n",
      "X does not have valid feature names, but QuantileTransformer was fitted with feature names\n",
      "\n",
      "/Users/phillipharvey/Documents/Venvs/MLenv/lib/python3.12/site-packages/sklearn/base.py:493: UserWarning:\n",
      "\n",
      "X does not have valid feature names, but QuantileTransformer was fitted with feature names\n",
      "\n",
      "/Users/phillipharvey/Documents/Venvs/MLenv/lib/python3.12/site-packages/sklearn/base.py:493: UserWarning:\n",
      "\n",
      "X does not have valid feature names, but QuantileTransformer was fitted with feature names\n",
      "\n"
     ]
    }
   ],
   "source": [
    "study = optuna.create_study(direction = \"minimize\", sampler = optuna.samplers.RandomSampler(seed = 42))\n",
    "study.optimize(lambda trial: xgb_objective(trial, xgb_params, X_train_data, y_train, X_val_data, y_val), n_trials=100, n_jobs=-1)\n",
    "\n",
    "best_score = study.best_value\n",
    "best_params = study.best_params\n",
    "\n",
    "best_xgb = train_best_xgb(best_params)\n",
    "best_xgb.fit(X_train_data, \n",
    "           y_train_data, \n",
    "           verbose = False,\n",
    "           eval_set = [(X_val_data, y_val_data)],\n",
    "          )\n",
    "\n",
    "y_pred_train = scale_back(best_xgb.predict(X_train_data), y_train_data.index, qt)\n",
    "y_act_train = scale_back(y_train_data, y_train_data.index, qt)\n",
    "train_score = mape_calc(y_act_train, y_pred_train)\n",
    "\n",
    "y_pred_val = scale_back(best_xgb.predict(X_val_data), y_val_data.index, qt)\n",
    "y_act_val = scale_back(y_val_data, y_val_data.index, qt)\n",
    "val_score = mape_calc(y_act_val, y_pred_val)\n",
    "\n",
    "temp_pred = scale_back(best_xgb.predict(ext_x[X_cols]), ext_x.index, qt)\n",
    "ext_pred = pd.Series(temp_pred, ext_x.index).clip(lower = 0)"
   ]
  },
  {
   "cell_type": "code",
   "execution_count": 220,
   "metadata": {},
   "outputs": [
    {
     "name": "stdout",
     "output_type": "stream",
     "text": [
      "train = 0.12316 \tval = 0.15160\n"
     ]
    }
   ],
   "source": [
    "print(f\"train = {train_score:.5f} \\tval = {val_score:.5f}\")"
   ]
  },
  {
   "cell_type": "code",
   "execution_count": 221,
   "metadata": {
    "scrolled": true
   },
   "outputs": [
    {
     "data": {
      "application/vnd.plotly.v1+json": {
       "config": {
        "plotlyServerURL": "https://plot.ly"
       },
       "data": [
        {
         "mode": "markers",
         "name": "Objective Value",
         "type": "scatter",
         "x": [
          0,
          1,
          2,
          3,
          4,
          5,
          6,
          7,
          8,
          9,
          10,
          11,
          12,
          13,
          14,
          15,
          16,
          17,
          18,
          19,
          20,
          21,
          22,
          23,
          24,
          25,
          26,
          27,
          28,
          29,
          30,
          31,
          32,
          33,
          34,
          35,
          36,
          37,
          38,
          39,
          40,
          41,
          42,
          43,
          44,
          45,
          46,
          47,
          48,
          49,
          50,
          51,
          52,
          53,
          54,
          55,
          56,
          57,
          58,
          59,
          60,
          61,
          62,
          63,
          64,
          65,
          66,
          67,
          68,
          69,
          70,
          71,
          72,
          73,
          74,
          75,
          76,
          77,
          78,
          79,
          80,
          81,
          82,
          83,
          84,
          85,
          86,
          87,
          88,
          89,
          90,
          91,
          92,
          93,
          94,
          95,
          96,
          97,
          98,
          99
         ],
         "y": [
          1.2253651671962258,
          1.0886760006421088,
          1.2299367685549611,
          1.0322713984871954,
          1.0478327953424666,
          1.3222336702443098,
          1.0429666578601564,
          1.1573608435909424,
          1.1521700602731288,
          1.0535772981571168,
          1.2662574471580461,
          1.1587908693915672,
          0.95716120779985,
          1.163632601336601,
          1.1005189813487375,
          1.042223361191775,
          1.1036266126335,
          1.2164549670538352,
          1.1874901842839116,
          1.1205273432940805,
          1.2230883082245456,
          1.1105388045652826,
          1.0435636964418058,
          1.0252866065944646,
          1.1607871015066702,
          1.1275452514641364,
          1.0954060856217458,
          0.9994573640880674,
          1.2223153721400337,
          1.133033399546282,
          1.2446066559097837,
          1.0504895214332977,
          1.0209942426667096,
          1.020801490869592,
          1.089700879915049,
          1.2326109175530076,
          1.152344982188902,
          1.087780518905435,
          1.0476824243420302,
          1.1100100073422383,
          1.14567618025675,
          1.2135988553426211,
          1.2006943503028624,
          1.0068953338754945,
          1.0288379275782153,
          1.2257505550031225,
          1.1354960709126287,
          1.0985877667891601,
          1.0818769324489963,
          1.1187978834102479,
          0.9981712286863432,
          1.0766639504662632,
          1.0031689628219282,
          1.1019720144146394,
          1.1385406753860632,
          1.1386316486106074,
          1.141948717272526,
          1.0706992954708419,
          1.04692472138216,
          1.115688133137732,
          1.050844646044364,
          1.18019109311829,
          1.0502992129243052,
          1.1185393404621362,
          1.175711577832087,
          1.1947145393196261,
          1.2072016866718578,
          1.1867218957593144,
          1.166472816300286,
          1.145994625052507,
          1.2012493414724512,
          1.2296036164053166,
          1.0985666453684029,
          1.0420548714138587,
          1.107091541373813,
          1.0906563577599027,
          1.0425939654254324,
          1.0049710132226557,
          1.1701127399518976,
          1.135421432716622,
          1.1037234468413228,
          0.9592992924282197,
          0.9514993959299727,
          1.2100135408602735,
          1.1357442089579393,
          1.0565774121488232,
          1.0262397791073283,
          1.0906969333769208,
          1.108305644084801,
          1.2154636930054221,
          1.0649589820122047,
          1.0196044532022985,
          1.1303787366328948,
          1.0910586695742512,
          1.094736776560892,
          1.097724315407346,
          1.1727357636224216,
          1.079338709048943,
          1.140249737556344,
          1.0532968094031294
         ]
        },
        {
         "mode": "lines",
         "name": "Best Value",
         "type": "scatter",
         "x": [
          0,
          1,
          2,
          3,
          4,
          5,
          6,
          7,
          8,
          9,
          10,
          11,
          12,
          13,
          14,
          15,
          16,
          17,
          18,
          19,
          20,
          21,
          22,
          23,
          24,
          25,
          26,
          27,
          28,
          29,
          30,
          31,
          32,
          33,
          34,
          35,
          36,
          37,
          38,
          39,
          40,
          41,
          42,
          43,
          44,
          45,
          46,
          47,
          48,
          49,
          50,
          51,
          52,
          53,
          54,
          55,
          56,
          57,
          58,
          59,
          60,
          61,
          62,
          63,
          64,
          65,
          66,
          67,
          68,
          69,
          70,
          71,
          72,
          73,
          74,
          75,
          76,
          77,
          78,
          79,
          80,
          81,
          82,
          83,
          84,
          85,
          86,
          87,
          88,
          89,
          90,
          91,
          92,
          93,
          94,
          95,
          96,
          97,
          98,
          99
         ],
         "y": [
          1.2253651671962258,
          1.0886760006421088,
          1.0886760006421088,
          1.0322713984871954,
          1.0322713984871954,
          1.0322713984871954,
          1.0322713984871954,
          1.0322713984871954,
          1.0322713984871954,
          1.0322713984871954,
          1.0322713984871954,
          1.0322713984871954,
          0.95716120779985,
          0.95716120779985,
          0.95716120779985,
          0.95716120779985,
          0.95716120779985,
          0.95716120779985,
          0.95716120779985,
          0.95716120779985,
          0.95716120779985,
          0.95716120779985,
          0.95716120779985,
          0.95716120779985,
          0.95716120779985,
          0.95716120779985,
          0.95716120779985,
          0.95716120779985,
          0.95716120779985,
          0.95716120779985,
          0.95716120779985,
          0.95716120779985,
          0.95716120779985,
          0.95716120779985,
          0.95716120779985,
          0.95716120779985,
          0.95716120779985,
          0.95716120779985,
          0.95716120779985,
          0.95716120779985,
          0.95716120779985,
          0.95716120779985,
          0.95716120779985,
          0.95716120779985,
          0.95716120779985,
          0.95716120779985,
          0.95716120779985,
          0.95716120779985,
          0.95716120779985,
          0.95716120779985,
          0.95716120779985,
          0.95716120779985,
          0.95716120779985,
          0.95716120779985,
          0.95716120779985,
          0.95716120779985,
          0.95716120779985,
          0.95716120779985,
          0.95716120779985,
          0.95716120779985,
          0.95716120779985,
          0.95716120779985,
          0.95716120779985,
          0.95716120779985,
          0.95716120779985,
          0.95716120779985,
          0.95716120779985,
          0.95716120779985,
          0.95716120779985,
          0.95716120779985,
          0.95716120779985,
          0.95716120779985,
          0.95716120779985,
          0.95716120779985,
          0.95716120779985,
          0.95716120779985,
          0.95716120779985,
          0.95716120779985,
          0.95716120779985,
          0.95716120779985,
          0.95716120779985,
          0.95716120779985,
          0.9514993959299727,
          0.9514993959299727,
          0.9514993959299727,
          0.9514993959299727,
          0.9514993959299727,
          0.9514993959299727,
          0.9514993959299727,
          0.9514993959299727,
          0.9514993959299727,
          0.9514993959299727,
          0.9514993959299727,
          0.9514993959299727,
          0.9514993959299727,
          0.9514993959299727,
          0.9514993959299727,
          0.9514993959299727,
          0.9514993959299727,
          0.9514993959299727
         ]
        },
        {
         "marker": {
          "color": "#cccccc"
         },
         "mode": "markers",
         "name": "Infeasible Trial",
         "showlegend": false,
         "type": "scatter",
         "x": [],
         "y": []
        }
       ],
       "layout": {
        "autosize": true,
        "template": {
         "data": {
          "bar": [
           {
            "error_x": {
             "color": "#2a3f5f"
            },
            "error_y": {
             "color": "#2a3f5f"
            },
            "marker": {
             "line": {
              "color": "#E5ECF6",
              "width": 0.5
             },
             "pattern": {
              "fillmode": "overlay",
              "size": 10,
              "solidity": 0.2
             }
            },
            "type": "bar"
           }
          ],
          "barpolar": [
           {
            "marker": {
             "line": {
              "color": "#E5ECF6",
              "width": 0.5
             },
             "pattern": {
              "fillmode": "overlay",
              "size": 10,
              "solidity": 0.2
             }
            },
            "type": "barpolar"
           }
          ],
          "carpet": [
           {
            "aaxis": {
             "endlinecolor": "#2a3f5f",
             "gridcolor": "white",
             "linecolor": "white",
             "minorgridcolor": "white",
             "startlinecolor": "#2a3f5f"
            },
            "baxis": {
             "endlinecolor": "#2a3f5f",
             "gridcolor": "white",
             "linecolor": "white",
             "minorgridcolor": "white",
             "startlinecolor": "#2a3f5f"
            },
            "type": "carpet"
           }
          ],
          "choropleth": [
           {
            "colorbar": {
             "outlinewidth": 0,
             "ticks": ""
            },
            "type": "choropleth"
           }
          ],
          "contour": [
           {
            "colorbar": {
             "outlinewidth": 0,
             "ticks": ""
            },
            "colorscale": [
             [
              0,
              "#0d0887"
             ],
             [
              0.1111111111111111,
              "#46039f"
             ],
             [
              0.2222222222222222,
              "#7201a8"
             ],
             [
              0.3333333333333333,
              "#9c179e"
             ],
             [
              0.4444444444444444,
              "#bd3786"
             ],
             [
              0.5555555555555556,
              "#d8576b"
             ],
             [
              0.6666666666666666,
              "#ed7953"
             ],
             [
              0.7777777777777778,
              "#fb9f3a"
             ],
             [
              0.8888888888888888,
              "#fdca26"
             ],
             [
              1,
              "#f0f921"
             ]
            ],
            "type": "contour"
           }
          ],
          "contourcarpet": [
           {
            "colorbar": {
             "outlinewidth": 0,
             "ticks": ""
            },
            "type": "contourcarpet"
           }
          ],
          "heatmap": [
           {
            "colorbar": {
             "outlinewidth": 0,
             "ticks": ""
            },
            "colorscale": [
             [
              0,
              "#0d0887"
             ],
             [
              0.1111111111111111,
              "#46039f"
             ],
             [
              0.2222222222222222,
              "#7201a8"
             ],
             [
              0.3333333333333333,
              "#9c179e"
             ],
             [
              0.4444444444444444,
              "#bd3786"
             ],
             [
              0.5555555555555556,
              "#d8576b"
             ],
             [
              0.6666666666666666,
              "#ed7953"
             ],
             [
              0.7777777777777778,
              "#fb9f3a"
             ],
             [
              0.8888888888888888,
              "#fdca26"
             ],
             [
              1,
              "#f0f921"
             ]
            ],
            "type": "heatmap"
           }
          ],
          "heatmapgl": [
           {
            "colorbar": {
             "outlinewidth": 0,
             "ticks": ""
            },
            "colorscale": [
             [
              0,
              "#0d0887"
             ],
             [
              0.1111111111111111,
              "#46039f"
             ],
             [
              0.2222222222222222,
              "#7201a8"
             ],
             [
              0.3333333333333333,
              "#9c179e"
             ],
             [
              0.4444444444444444,
              "#bd3786"
             ],
             [
              0.5555555555555556,
              "#d8576b"
             ],
             [
              0.6666666666666666,
              "#ed7953"
             ],
             [
              0.7777777777777778,
              "#fb9f3a"
             ],
             [
              0.8888888888888888,
              "#fdca26"
             ],
             [
              1,
              "#f0f921"
             ]
            ],
            "type": "heatmapgl"
           }
          ],
          "histogram": [
           {
            "marker": {
             "pattern": {
              "fillmode": "overlay",
              "size": 10,
              "solidity": 0.2
             }
            },
            "type": "histogram"
           }
          ],
          "histogram2d": [
           {
            "colorbar": {
             "outlinewidth": 0,
             "ticks": ""
            },
            "colorscale": [
             [
              0,
              "#0d0887"
             ],
             [
              0.1111111111111111,
              "#46039f"
             ],
             [
              0.2222222222222222,
              "#7201a8"
             ],
             [
              0.3333333333333333,
              "#9c179e"
             ],
             [
              0.4444444444444444,
              "#bd3786"
             ],
             [
              0.5555555555555556,
              "#d8576b"
             ],
             [
              0.6666666666666666,
              "#ed7953"
             ],
             [
              0.7777777777777778,
              "#fb9f3a"
             ],
             [
              0.8888888888888888,
              "#fdca26"
             ],
             [
              1,
              "#f0f921"
             ]
            ],
            "type": "histogram2d"
           }
          ],
          "histogram2dcontour": [
           {
            "colorbar": {
             "outlinewidth": 0,
             "ticks": ""
            },
            "colorscale": [
             [
              0,
              "#0d0887"
             ],
             [
              0.1111111111111111,
              "#46039f"
             ],
             [
              0.2222222222222222,
              "#7201a8"
             ],
             [
              0.3333333333333333,
              "#9c179e"
             ],
             [
              0.4444444444444444,
              "#bd3786"
             ],
             [
              0.5555555555555556,
              "#d8576b"
             ],
             [
              0.6666666666666666,
              "#ed7953"
             ],
             [
              0.7777777777777778,
              "#fb9f3a"
             ],
             [
              0.8888888888888888,
              "#fdca26"
             ],
             [
              1,
              "#f0f921"
             ]
            ],
            "type": "histogram2dcontour"
           }
          ],
          "mesh3d": [
           {
            "colorbar": {
             "outlinewidth": 0,
             "ticks": ""
            },
            "type": "mesh3d"
           }
          ],
          "parcoords": [
           {
            "line": {
             "colorbar": {
              "outlinewidth": 0,
              "ticks": ""
             }
            },
            "type": "parcoords"
           }
          ],
          "pie": [
           {
            "automargin": true,
            "type": "pie"
           }
          ],
          "scatter": [
           {
            "fillpattern": {
             "fillmode": "overlay",
             "size": 10,
             "solidity": 0.2
            },
            "type": "scatter"
           }
          ],
          "scatter3d": [
           {
            "line": {
             "colorbar": {
              "outlinewidth": 0,
              "ticks": ""
             }
            },
            "marker": {
             "colorbar": {
              "outlinewidth": 0,
              "ticks": ""
             }
            },
            "type": "scatter3d"
           }
          ],
          "scattercarpet": [
           {
            "marker": {
             "colorbar": {
              "outlinewidth": 0,
              "ticks": ""
             }
            },
            "type": "scattercarpet"
           }
          ],
          "scattergeo": [
           {
            "marker": {
             "colorbar": {
              "outlinewidth": 0,
              "ticks": ""
             }
            },
            "type": "scattergeo"
           }
          ],
          "scattergl": [
           {
            "marker": {
             "colorbar": {
              "outlinewidth": 0,
              "ticks": ""
             }
            },
            "type": "scattergl"
           }
          ],
          "scattermapbox": [
           {
            "marker": {
             "colorbar": {
              "outlinewidth": 0,
              "ticks": ""
             }
            },
            "type": "scattermapbox"
           }
          ],
          "scatterpolar": [
           {
            "marker": {
             "colorbar": {
              "outlinewidth": 0,
              "ticks": ""
             }
            },
            "type": "scatterpolar"
           }
          ],
          "scatterpolargl": [
           {
            "marker": {
             "colorbar": {
              "outlinewidth": 0,
              "ticks": ""
             }
            },
            "type": "scatterpolargl"
           }
          ],
          "scatterternary": [
           {
            "marker": {
             "colorbar": {
              "outlinewidth": 0,
              "ticks": ""
             }
            },
            "type": "scatterternary"
           }
          ],
          "surface": [
           {
            "colorbar": {
             "outlinewidth": 0,
             "ticks": ""
            },
            "colorscale": [
             [
              0,
              "#0d0887"
             ],
             [
              0.1111111111111111,
              "#46039f"
             ],
             [
              0.2222222222222222,
              "#7201a8"
             ],
             [
              0.3333333333333333,
              "#9c179e"
             ],
             [
              0.4444444444444444,
              "#bd3786"
             ],
             [
              0.5555555555555556,
              "#d8576b"
             ],
             [
              0.6666666666666666,
              "#ed7953"
             ],
             [
              0.7777777777777778,
              "#fb9f3a"
             ],
             [
              0.8888888888888888,
              "#fdca26"
             ],
             [
              1,
              "#f0f921"
             ]
            ],
            "type": "surface"
           }
          ],
          "table": [
           {
            "cells": {
             "fill": {
              "color": "#EBF0F8"
             },
             "line": {
              "color": "white"
             }
            },
            "header": {
             "fill": {
              "color": "#C8D4E3"
             },
             "line": {
              "color": "white"
             }
            },
            "type": "table"
           }
          ]
         },
         "layout": {
          "annotationdefaults": {
           "arrowcolor": "#2a3f5f",
           "arrowhead": 0,
           "arrowwidth": 1
          },
          "autotypenumbers": "strict",
          "coloraxis": {
           "colorbar": {
            "outlinewidth": 0,
            "ticks": ""
           }
          },
          "colorscale": {
           "diverging": [
            [
             0,
             "#8e0152"
            ],
            [
             0.1,
             "#c51b7d"
            ],
            [
             0.2,
             "#de77ae"
            ],
            [
             0.3,
             "#f1b6da"
            ],
            [
             0.4,
             "#fde0ef"
            ],
            [
             0.5,
             "#f7f7f7"
            ],
            [
             0.6,
             "#e6f5d0"
            ],
            [
             0.7,
             "#b8e186"
            ],
            [
             0.8,
             "#7fbc41"
            ],
            [
             0.9,
             "#4d9221"
            ],
            [
             1,
             "#276419"
            ]
           ],
           "sequential": [
            [
             0,
             "#0d0887"
            ],
            [
             0.1111111111111111,
             "#46039f"
            ],
            [
             0.2222222222222222,
             "#7201a8"
            ],
            [
             0.3333333333333333,
             "#9c179e"
            ],
            [
             0.4444444444444444,
             "#bd3786"
            ],
            [
             0.5555555555555556,
             "#d8576b"
            ],
            [
             0.6666666666666666,
             "#ed7953"
            ],
            [
             0.7777777777777778,
             "#fb9f3a"
            ],
            [
             0.8888888888888888,
             "#fdca26"
            ],
            [
             1,
             "#f0f921"
            ]
           ],
           "sequentialminus": [
            [
             0,
             "#0d0887"
            ],
            [
             0.1111111111111111,
             "#46039f"
            ],
            [
             0.2222222222222222,
             "#7201a8"
            ],
            [
             0.3333333333333333,
             "#9c179e"
            ],
            [
             0.4444444444444444,
             "#bd3786"
            ],
            [
             0.5555555555555556,
             "#d8576b"
            ],
            [
             0.6666666666666666,
             "#ed7953"
            ],
            [
             0.7777777777777778,
             "#fb9f3a"
            ],
            [
             0.8888888888888888,
             "#fdca26"
            ],
            [
             1,
             "#f0f921"
            ]
           ]
          },
          "colorway": [
           "#636efa",
           "#EF553B",
           "#00cc96",
           "#ab63fa",
           "#FFA15A",
           "#19d3f3",
           "#FF6692",
           "#B6E880",
           "#FF97FF",
           "#FECB52"
          ],
          "font": {
           "color": "#2a3f5f"
          },
          "geo": {
           "bgcolor": "white",
           "lakecolor": "white",
           "landcolor": "#E5ECF6",
           "showlakes": true,
           "showland": true,
           "subunitcolor": "white"
          },
          "hoverlabel": {
           "align": "left"
          },
          "hovermode": "closest",
          "mapbox": {
           "style": "light"
          },
          "paper_bgcolor": "white",
          "plot_bgcolor": "#E5ECF6",
          "polar": {
           "angularaxis": {
            "gridcolor": "white",
            "linecolor": "white",
            "ticks": ""
           },
           "bgcolor": "#E5ECF6",
           "radialaxis": {
            "gridcolor": "white",
            "linecolor": "white",
            "ticks": ""
           }
          },
          "scene": {
           "xaxis": {
            "backgroundcolor": "#E5ECF6",
            "gridcolor": "white",
            "gridwidth": 2,
            "linecolor": "white",
            "showbackground": true,
            "ticks": "",
            "zerolinecolor": "white"
           },
           "yaxis": {
            "backgroundcolor": "#E5ECF6",
            "gridcolor": "white",
            "gridwidth": 2,
            "linecolor": "white",
            "showbackground": true,
            "ticks": "",
            "zerolinecolor": "white"
           },
           "zaxis": {
            "backgroundcolor": "#E5ECF6",
            "gridcolor": "white",
            "gridwidth": 2,
            "linecolor": "white",
            "showbackground": true,
            "ticks": "",
            "zerolinecolor": "white"
           }
          },
          "shapedefaults": {
           "line": {
            "color": "#2a3f5f"
           }
          },
          "ternary": {
           "aaxis": {
            "gridcolor": "white",
            "linecolor": "white",
            "ticks": ""
           },
           "baxis": {
            "gridcolor": "white",
            "linecolor": "white",
            "ticks": ""
           },
           "bgcolor": "#E5ECF6",
           "caxis": {
            "gridcolor": "white",
            "linecolor": "white",
            "ticks": ""
           }
          },
          "title": {
           "x": 0.05
          },
          "xaxis": {
           "automargin": true,
           "gridcolor": "white",
           "linecolor": "white",
           "ticks": "",
           "title": {
            "standoff": 15
           },
           "zerolinecolor": "white",
           "zerolinewidth": 2
          },
          "yaxis": {
           "automargin": true,
           "gridcolor": "white",
           "linecolor": "white",
           "ticks": "",
           "title": {
            "standoff": 15
           },
           "zerolinecolor": "white",
           "zerolinewidth": 2
          }
         }
        },
        "title": {
         "text": "Optimization History Plot"
        },
        "xaxis": {
         "autorange": true,
         "range": [
          -6.294797687861271,
          105.29479768786128
         ],
         "title": {
          "text": "Trial"
         },
         "type": "linear"
        },
        "yaxis": {
         "autorange": true,
         "range": [
          0.9209048198943235,
          1.352828246279959
         ],
         "title": {
          "text": "Objective Value"
         },
         "type": "linear"
        }
       }
      },
      "image/png": "[encoded data removed]",
      "text/html": [
       "<div>                            <div id=\"f1be9a62-3d85-4105-bc87-5931dac4371d\" class=\"plotly-graph-div\" style=\"height:525px; width:100%;\"></div>            <script type=\"text/javascript\">                require([\"plotly\"], function(Plotly) {                    window.PLOTLYENV=window.PLOTLYENV || {};                                    if (document.getElementById(\"f1be9a62-3d85-4105-bc87-5931dac4371d\")) {                    Plotly.newPlot(                        \"f1be9a62-3d85-4105-bc87-5931dac4371d\",                        [{\"mode\":\"markers\",\"name\":\"Objective Value\",\"x\":[0,1,2,3,4,5,6,7,8,9,10,11,12,13,14,15,16,17,18,19,20,21,22,23,24,25,26,27,28,29,30,31,32,33,34,35,36,37,38,39,40,41,42,43,44,45,46,47,48,49,50,51,52,53,54,55,56,57,58,59,60,61,62,63,64,65,66,67,68,69,70,71,72,73,74,75,76,77,78,79,80,81,82,83,84,85,86,87,88,89,90,91,92,93,94,95,96,97,98,99],\"y\":[1.2253651671962258,1.0886760006421088,1.2299367685549611,1.0322713984871954,1.0478327953424666,1.3222336702443098,1.0429666578601564,1.1573608435909424,1.1521700602731288,1.0535772981571168,1.2662574471580461,1.1587908693915672,0.95716120779985,1.163632601336601,1.1005189813487375,1.042223361191775,1.1036266126335,1.2164549670538352,1.1874901842839116,1.1205273432940805,1.2230883082245456,1.1105388045652826,1.0435636964418058,1.0252866065944646,1.1607871015066702,1.1275452514641364,1.0954060856217458,0.9994573640880674,1.2223153721400337,1.133033399546282,1.2446066559097837,1.0504895214332977,1.0209942426667096,1.020801490869592,1.089700879915049,1.2326109175530076,1.152344982188902,1.087780518905435,1.0476824243420302,1.1100100073422383,1.14567618025675,1.2135988553426211,1.2006943503028624,1.0068953338754945,1.0288379275782153,1.2257505550031225,1.1354960709126287,1.0985877667891601,1.0818769324489963,1.1187978834102479,0.9981712286863432,1.0766639504662632,1.0031689628219282,1.1019720144146394,1.1385406753860632,1.1386316486106074,1.141948717272526,1.0706992954708419,1.04692472138216,1.115688133137732,1.050844646044364,1.18019109311829,1.0502992129243052,1.1185393404621362,1.175711577832087,1.1947145393196261,1.2072016866718578,1.1867218957593144,1.166472816300286,1.145994625052507,1.2012493414724512,1.2296036164053166,1.0985666453684029,1.0420548714138587,1.107091541373813,1.0906563577599027,1.0425939654254324,1.0049710132226557,1.1701127399518976,1.135421432716622,1.1037234468413228,0.9592992924282197,0.9514993959299727,1.2100135408602735,1.1357442089579393,1.0565774121488232,1.0262397791073283,1.0906969333769208,1.108305644084801,1.2154636930054221,1.0649589820122047,1.0196044532022985,1.1303787366328948,1.0910586695742512,1.094736776560892,1.097724315407346,1.1727357636224216,1.079338709048943,1.140249737556344,1.0532968094031294],\"type\":\"scatter\"},{\"mode\":\"lines\",\"name\":\"Best Value\",\"x\":[0,1,2,3,4,5,6,7,8,9,10,11,12,13,14,15,16,17,18,19,20,21,22,23,24,25,26,27,28,29,30,31,32,33,34,35,36,37,38,39,40,41,42,43,44,45,46,47,48,49,50,51,52,53,54,55,56,57,58,59,60,61,62,63,64,65,66,67,68,69,70,71,72,73,74,75,76,77,78,79,80,81,82,83,84,85,86,87,88,89,90,91,92,93,94,95,96,97,98,99],\"y\":[1.2253651671962258,1.0886760006421088,1.0886760006421088,1.0322713984871954,1.0322713984871954,1.0322713984871954,1.0322713984871954,1.0322713984871954,1.0322713984871954,1.0322713984871954,1.0322713984871954,1.0322713984871954,0.95716120779985,0.95716120779985,0.95716120779985,0.95716120779985,0.95716120779985,0.95716120779985,0.95716120779985,0.95716120779985,0.95716120779985,0.95716120779985,0.95716120779985,0.95716120779985,0.95716120779985,0.95716120779985,0.95716120779985,0.95716120779985,0.95716120779985,0.95716120779985,0.95716120779985,0.95716120779985,0.95716120779985,0.95716120779985,0.95716120779985,0.95716120779985,0.95716120779985,0.95716120779985,0.95716120779985,0.95716120779985,0.95716120779985,0.95716120779985,0.95716120779985,0.95716120779985,0.95716120779985,0.95716120779985,0.95716120779985,0.95716120779985,0.95716120779985,0.95716120779985,0.95716120779985,0.95716120779985,0.95716120779985,0.95716120779985,0.95716120779985,0.95716120779985,0.95716120779985,0.95716120779985,0.95716120779985,0.95716120779985,0.95716120779985,0.95716120779985,0.95716120779985,0.95716120779985,0.95716120779985,0.95716120779985,0.95716120779985,0.95716120779985,0.95716120779985,0.95716120779985,0.95716120779985,0.95716120779985,0.95716120779985,0.95716120779985,0.95716120779985,0.95716120779985,0.95716120779985,0.95716120779985,0.95716120779985,0.95716120779985,0.95716120779985,0.95716120779985,0.9514993959299727,0.9514993959299727,0.9514993959299727,0.9514993959299727,0.9514993959299727,0.9514993959299727,0.9514993959299727,0.9514993959299727,0.9514993959299727,0.9514993959299727,0.9514993959299727,0.9514993959299727,0.9514993959299727,0.9514993959299727,0.9514993959299727,0.9514993959299727,0.9514993959299727,0.9514993959299727],\"type\":\"scatter\"},{\"marker\":{\"color\":\"#cccccc\"},\"mode\":\"markers\",\"name\":\"Infeasible Trial\",\"showlegend\":false,\"x\":[],\"y\":[],\"type\":\"scatter\"}],                        {\"title\":{\"text\":\"Optimization History Plot\"},\"xaxis\":{\"title\":{\"text\":\"Trial\"}},\"yaxis\":{\"title\":{\"text\":\"Objective Value\"}},\"template\":{\"data\":{\"histogram2dcontour\":[{\"type\":\"histogram2dcontour\",\"colorbar\":{\"outlinewidth\":0,\"ticks\":\"\"},\"colorscale\":[[0.0,\"#0d0887\"],[0.1111111111111111,\"#46039f\"],[0.2222222222222222,\"#7201a8\"],[0.3333333333333333,\"#9c179e\"],[0.4444444444444444,\"#bd3786\"],[0.5555555555555556,\"#d8576b\"],[0.6666666666666666,\"#ed7953\"],[0.7777777777777778,\"#fb9f3a\"],[0.8888888888888888,\"#fdca26\"],[1.0,\"#f0f921\"]]}],\"choropleth\":[{\"type\":\"choropleth\",\"colorbar\":{\"outlinewidth\":0,\"ticks\":\"\"}}],\"histogram2d\":[{\"type\":\"histogram2d\",\"colorbar\":{\"outlinewidth\":0,\"ticks\":\"\"},\"colorscale\":[[0.0,\"#0d0887\"],[0.1111111111111111,\"#46039f\"],[0.2222222222222222,\"#7201a8\"],[0.3333333333333333,\"#9c179e\"],[0.4444444444444444,\"#bd3786\"],[0.5555555555555556,\"#d8576b\"],[0.6666666666666666,\"#ed7953\"],[0.7777777777777778,\"#fb9f3a\"],[0.8888888888888888,\"#fdca26\"],[1.0,\"#f0f921\"]]}],\"heatmap\":[{\"type\":\"heatmap\",\"colorbar\":{\"outlinewidth\":0,\"ticks\":\"\"},\"colorscale\":[[0.0,\"#0d0887\"],[0.1111111111111111,\"#46039f\"],[0.2222222222222222,\"#7201a8\"],[0.3333333333333333,\"#9c179e\"],[0.4444444444444444,\"#bd3786\"],[0.5555555555555556,\"#d8576b\"],[0.6666666666666666,\"#ed7953\"],[0.7777777777777778,\"#fb9f3a\"],[0.8888888888888888,\"#fdca26\"],[1.0,\"#f0f921\"]]}],\"heatmapgl\":[{\"type\":\"heatmapgl\",\"colorbar\":{\"outlinewidth\":0,\"ticks\":\"\"},\"colorscale\":[[0.0,\"#0d0887\"],[0.1111111111111111,\"#46039f\"],[0.2222222222222222,\"#7201a8\"],[0.3333333333333333,\"#9c179e\"],[0.4444444444444444,\"#bd3786\"],[0.5555555555555556,\"#d8576b\"],[0.6666666666666666,\"#ed7953\"],[0.7777777777777778,\"#fb9f3a\"],[0.8888888888888888,\"#fdca26\"],[1.0,\"#f0f921\"]]}],\"contourcarpet\":[{\"type\":\"contourcarpet\",\"colorbar\":{\"outlinewidth\":0,\"ticks\":\"\"}}],\"contour\":[{\"type\":\"contour\",\"colorbar\":{\"outlinewidth\":0,\"ticks\":\"\"},\"colorscale\":[[0.0,\"#0d0887\"],[0.1111111111111111,\"#46039f\"],[0.2222222222222222,\"#7201a8\"],[0.3333333333333333,\"#9c179e\"],[0.4444444444444444,\"#bd3786\"],[0.5555555555555556,\"#d8576b\"],[0.6666666666666666,\"#ed7953\"],[0.7777777777777778,\"#fb9f3a\"],[0.8888888888888888,\"#fdca26\"],[1.0,\"#f0f921\"]]}],\"surface\":[{\"type\":\"surface\",\"colorbar\":{\"outlinewidth\":0,\"ticks\":\"\"},\"colorscale\":[[0.0,\"#0d0887\"],[0.1111111111111111,\"#46039f\"],[0.2222222222222222,\"#7201a8\"],[0.3333333333333333,\"#9c179e\"],[0.4444444444444444,\"#bd3786\"],[0.5555555555555556,\"#d8576b\"],[0.6666666666666666,\"#ed7953\"],[0.7777777777777778,\"#fb9f3a\"],[0.8888888888888888,\"#fdca26\"],[1.0,\"#f0f921\"]]}],\"mesh3d\":[{\"type\":\"mesh3d\",\"colorbar\":{\"outlinewidth\":0,\"ticks\":\"\"}}],\"scatter\":[{\"fillpattern\":{\"fillmode\":\"overlay\",\"size\":10,\"solidity\":0.2},\"type\":\"scatter\"}],\"parcoords\":[{\"type\":\"parcoords\",\"line\":{\"colorbar\":{\"outlinewidth\":0,\"ticks\":\"\"}}}],\"scatterpolargl\":[{\"type\":\"scatterpolargl\",\"marker\":{\"colorbar\":{\"outlinewidth\":0,\"ticks\":\"\"}}}],\"bar\":[{\"error_x\":{\"color\":\"#2a3f5f\"},\"error_y\":{\"color\":\"#2a3f5f\"},\"marker\":{\"line\":{\"color\":\"#E5ECF6\",\"width\":0.5},\"pattern\":{\"fillmode\":\"overlay\",\"size\":10,\"solidity\":0.2}},\"type\":\"bar\"}],\"scattergeo\":[{\"type\":\"scattergeo\",\"marker\":{\"colorbar\":{\"outlinewidth\":0,\"ticks\":\"\"}}}],\"scatterpolar\":[{\"type\":\"scatterpolar\",\"marker\":{\"colorbar\":{\"outlinewidth\":0,\"ticks\":\"\"}}}],\"histogram\":[{\"marker\":{\"pattern\":{\"fillmode\":\"overlay\",\"size\":10,\"solidity\":0.2}},\"type\":\"histogram\"}],\"scattergl\":[{\"type\":\"scattergl\",\"marker\":{\"colorbar\":{\"outlinewidth\":0,\"ticks\":\"\"}}}],\"scatter3d\":[{\"type\":\"scatter3d\",\"line\":{\"colorbar\":{\"outlinewidth\":0,\"ticks\":\"\"}},\"marker\":{\"colorbar\":{\"outlinewidth\":0,\"ticks\":\"\"}}}],\"scattermapbox\":[{\"type\":\"scattermapbox\",\"marker\":{\"colorbar\":{\"outlinewidth\":0,\"ticks\":\"\"}}}],\"scatterternary\":[{\"type\":\"scatterternary\",\"marker\":{\"colorbar\":{\"outlinewidth\":0,\"ticks\":\"\"}}}],\"scattercarpet\":[{\"type\":\"scattercarpet\",\"marker\":{\"colorbar\":{\"outlinewidth\":0,\"ticks\":\"\"}}}],\"carpet\":[{\"aaxis\":{\"endlinecolor\":\"#2a3f5f\",\"gridcolor\":\"white\",\"linecolor\":\"white\",\"minorgridcolor\":\"white\",\"startlinecolor\":\"#2a3f5f\"},\"baxis\":{\"endlinecolor\":\"#2a3f5f\",\"gridcolor\":\"white\",\"linecolor\":\"white\",\"minorgridcolor\":\"white\",\"startlinecolor\":\"#2a3f5f\"},\"type\":\"carpet\"}],\"table\":[{\"cells\":{\"fill\":{\"color\":\"#EBF0F8\"},\"line\":{\"color\":\"white\"}},\"header\":{\"fill\":{\"color\":\"#C8D4E3\"},\"line\":{\"color\":\"white\"}},\"type\":\"table\"}],\"barpolar\":[{\"marker\":{\"line\":{\"color\":\"#E5ECF6\",\"width\":0.5},\"pattern\":{\"fillmode\":\"overlay\",\"size\":10,\"solidity\":0.2}},\"type\":\"barpolar\"}],\"pie\":[{\"automargin\":true,\"type\":\"pie\"}]},\"layout\":{\"autotypenumbers\":\"strict\",\"colorway\":[\"#636efa\",\"#EF553B\",\"#00cc96\",\"#ab63fa\",\"#FFA15A\",\"#19d3f3\",\"#FF6692\",\"#B6E880\",\"#FF97FF\",\"#FECB52\"],\"font\":{\"color\":\"#2a3f5f\"},\"hovermode\":\"closest\",\"hoverlabel\":{\"align\":\"left\"},\"paper_bgcolor\":\"white\",\"plot_bgcolor\":\"#E5ECF6\",\"polar\":{\"bgcolor\":\"#E5ECF6\",\"angularaxis\":{\"gridcolor\":\"white\",\"linecolor\":\"white\",\"ticks\":\"\"},\"radialaxis\":{\"gridcolor\":\"white\",\"linecolor\":\"white\",\"ticks\":\"\"}},\"ternary\":{\"bgcolor\":\"#E5ECF6\",\"aaxis\":{\"gridcolor\":\"white\",\"linecolor\":\"white\",\"ticks\":\"\"},\"baxis\":{\"gridcolor\":\"white\",\"linecolor\":\"white\",\"ticks\":\"\"},\"caxis\":{\"gridcolor\":\"white\",\"linecolor\":\"white\",\"ticks\":\"\"}},\"coloraxis\":{\"colorbar\":{\"outlinewidth\":0,\"ticks\":\"\"}},\"colorscale\":{\"sequential\":[[0.0,\"#0d0887\"],[0.1111111111111111,\"#46039f\"],[0.2222222222222222,\"#7201a8\"],[0.3333333333333333,\"#9c179e\"],[0.4444444444444444,\"#bd3786\"],[0.5555555555555556,\"#d8576b\"],[0.6666666666666666,\"#ed7953\"],[0.7777777777777778,\"#fb9f3a\"],[0.8888888888888888,\"#fdca26\"],[1.0,\"#f0f921\"]],\"sequentialminus\":[[0.0,\"#0d0887\"],[0.1111111111111111,\"#46039f\"],[0.2222222222222222,\"#7201a8\"],[0.3333333333333333,\"#9c179e\"],[0.4444444444444444,\"#bd3786\"],[0.5555555555555556,\"#d8576b\"],[0.6666666666666666,\"#ed7953\"],[0.7777777777777778,\"#fb9f3a\"],[0.8888888888888888,\"#fdca26\"],[1.0,\"#f0f921\"]],\"diverging\":[[0,\"#8e0152\"],[0.1,\"#c51b7d\"],[0.2,\"#de77ae\"],[0.3,\"#f1b6da\"],[0.4,\"#fde0ef\"],[0.5,\"#f7f7f7\"],[0.6,\"#e6f5d0\"],[0.7,\"#b8e186\"],[0.8,\"#7fbc41\"],[0.9,\"#4d9221\"],[1,\"#276419\"]]},\"xaxis\":{\"gridcolor\":\"white\",\"linecolor\":\"white\",\"ticks\":\"\",\"title\":{\"standoff\":15},\"zerolinecolor\":\"white\",\"automargin\":true,\"zerolinewidth\":2},\"yaxis\":{\"gridcolor\":\"white\",\"linecolor\":\"white\",\"ticks\":\"\",\"title\":{\"standoff\":15},\"zerolinecolor\":\"white\",\"automargin\":true,\"zerolinewidth\":2},\"scene\":{\"xaxis\":{\"backgroundcolor\":\"#E5ECF6\",\"gridcolor\":\"white\",\"linecolor\":\"white\",\"showbackground\":true,\"ticks\":\"\",\"zerolinecolor\":\"white\",\"gridwidth\":2},\"yaxis\":{\"backgroundcolor\":\"#E5ECF6\",\"gridcolor\":\"white\",\"linecolor\":\"white\",\"showbackground\":true,\"ticks\":\"\",\"zerolinecolor\":\"white\",\"gridwidth\":2},\"zaxis\":{\"backgroundcolor\":\"#E5ECF6\",\"gridcolor\":\"white\",\"linecolor\":\"white\",\"showbackground\":true,\"ticks\":\"\",\"zerolinecolor\":\"white\",\"gridwidth\":2}},\"shapedefaults\":{\"line\":{\"color\":\"#2a3f5f\"}},\"annotationdefaults\":{\"arrowcolor\":\"#2a3f5f\",\"arrowhead\":0,\"arrowwidth\":1},\"geo\":{\"bgcolor\":\"white\",\"landcolor\":\"#E5ECF6\",\"subunitcolor\":\"white\",\"showland\":true,\"showlakes\":true,\"lakecolor\":\"white\"},\"title\":{\"x\":0.05},\"mapbox\":{\"style\":\"light\"}}}},                        {\"responsive\": true}                    ).then(function(){\n",
       "                            \n",
       "var gd = document.getElementById('f1be9a62-3d85-4105-bc87-5931dac4371d');\n",
       "var x = new MutationObserver(function (mutations, observer) {{\n",
       "        var display = window.getComputedStyle(gd).display;\n",
       "        if (!display || display === 'none') {{\n",
       "            console.log([gd, 'removed!']);\n",
       "            Plotly.purge(gd);\n",
       "            observer.disconnect();\n",
       "        }}\n",
       "}});\n",
       "\n",
       "// Listen for the removal of the full notebook cells\n",
       "var notebookContainer = gd.closest('#notebook-container');\n",
       "if (notebookContainer) {{\n",
       "    x.observe(notebookContainer, {childList: true});\n",
       "}}\n",
       "\n",
       "// Listen for the clearing of the current output cell\n",
       "var outputEl = gd.closest('.output');\n",
       "if (outputEl) {{\n",
       "    x.observe(outputEl, {childList: true});\n",
       "}}\n",
       "\n",
       "                        })                };                });            </script>        </div>"
      ]
     },
     "metadata": {},
     "output_type": "display_data"
    },
    {
     "data": {
      "application/vnd.plotly.v1+json": {
       "config": {
        "plotlyServerURL": "https://plot.ly"
       },
       "data": [
        {
         "marker": {
          "color": [
           0,
           1,
           2,
           3,
           4,
           5,
           6,
           7,
           8,
           9,
           10,
           11,
           12,
           13,
           14,
           15,
           16,
           17,
           18,
           19,
           20,
           21,
           22,
           23,
           24,
           25,
           26,
           27,
           28,
           29,
           30,
           31,
           32,
           33,
           34,
           35,
           36,
           37,
           38,
           39,
           40,
           41,
           42,
           43,
           44,
           45,
           46,
           47,
           48,
           49,
           50,
           51,
           52,
           53,
           54,
           55,
           56,
           57,
           58,
           59,
           60,
           61,
           62,
           63,
           64,
           65,
           66,
           67,
           68,
           69,
           70,
           71,
           72,
           73,
           74,
           75,
           76,
           77,
           78,
           79,
           80,
           81,
           82,
           83,
           84,
           85,
           86,
           87,
           88,
           89,
           90,
           91,
           92,
           93,
           94,
           95,
           96,
           97,
           98,
           99
          ],
          "colorbar": {
           "title": {
            "text": "Trial"
           },
           "x": 1,
           "xpad": 40,
           "y": 0.5
          },
          "colorscale": [
           [
            0,
            "rgb(247,251,255)"
           ],
           [
            0.125,
            "rgb(222,235,247)"
           ],
           [
            0.25,
            "rgb(198,219,239)"
           ],
           [
            0.375,
            "rgb(158,202,225)"
           ],
           [
            0.5,
            "rgb(107,174,214)"
           ],
           [
            0.625,
            "rgb(66,146,198)"
           ],
           [
            0.75,
            "rgb(33,113,181)"
           ],
           [
            0.875,
            "rgb(8,81,156)"
           ],
           [
            1,
            "rgb(8,48,107)"
           ]
          ],
          "line": {
           "color": "Grey",
           "width": 0.5
          },
          "showscale": true
         },
         "mode": "markers",
         "name": "Feasible Trial",
         "showlegend": false,
         "type": "scatter",
         "x": [
          0.8616085911995337,
          0.7720643598115076,
          0.8488435470374711,
          0.8455190454695688,
          0.9380595054356914,
          0.8534524345008889,
          0.8938734426189322,
          0.8917389881753617,
          0.8103873565793864,
          0.7674179281339989,
          0.8867589262910739,
          0.9009330409953086,
          0.8043349027476966,
          0.7748122467444005,
          0.939557307618387,
          0.8795300646745003,
          0.8629921266644325,
          0.8790386222593246,
          0.7915136840809125,
          0.945466786373705,
          0.7629339008615673,
          0.8451304353298178,
          0.9048158319419819,
          0.9182856967439836,
          0.7922135970748041,
          0.7868873093436611,
          0.8756524858077946,
          0.9421621378514469,
          0.8473336638099414,
          0.7750709129779867,
          0.7931553012658981,
          0.871194760818061,
          0.7617094790281325,
          0.827866958375296,
          0.8040538304107026,
          0.8982683452273366,
          0.8718861551869774,
          0.9098721116134901,
          0.9335804359614028,
          0.9342117488496224,
          0.8236750480551147,
          0.8396121691687095,
          0.875082274775993,
          0.9368170954032414,
          0.9160097638852538,
          0.808944576694125,
          0.8465151925080893,
          0.8709483205572892,
          0.8057054867113228,
          0.9006114161446258,
          0.7644796109593417,
          0.7593675254428565,
          0.8318184952910029,
          0.8258440469315357,
          0.7637351442324272,
          0.9333251419746185,
          0.8547391976303697,
          0.7634962884353601,
          0.844676980604469,
          0.8072803395870238,
          0.8965544800474313,
          0.826570073707559,
          0.9011845218917857,
          0.8087378941676494,
          0.9068109737942605,
          0.8565552998859203,
          0.7629939913294868,
          0.7993459801138952,
          0.9293418077949722,
          0.9076562448768364,
          0.8373770765476034,
          0.8699350809564104,
          0.8230971421701634,
          0.7692003232153882,
          0.9015845376795002,
          0.9442846303021541,
          0.8598008925628204,
          0.9094074538506127,
          0.8922949831056035,
          0.7929670343758596,
          0.9071486092646595,
          0.7816442398754532,
          0.7988915307129162,
          0.7885846065588291,
          0.8580106678539344,
          0.8754337022586987,
          0.876754914925557,
          0.8134607094945222,
          0.8258894229616439,
          0.8609148829713393,
          0.7707786194907404,
          0.8900183573046617,
          0.8427138164752371,
          0.8684281956932878,
          0.9072192320249447,
          0.9418053125090535,
          0.8637823905484616,
          0.8646055954125899,
          0.7640712759936134,
          0.9144315427702181
         ],
         "xaxis": "x",
         "y": [
          1.2253651671962258,
          1.0886760006421088,
          1.2299367685549611,
          1.0322713984871954,
          1.0478327953424666,
          1.3222336702443098,
          1.0429666578601564,
          1.1573608435909424,
          1.1521700602731288,
          1.0535772981571168,
          1.2662574471580461,
          1.1587908693915672,
          0.95716120779985,
          1.163632601336601,
          1.1005189813487375,
          1.042223361191775,
          1.1036266126335,
          1.2164549670538352,
          1.1874901842839116,
          1.1205273432940805,
          1.2230883082245456,
          1.1105388045652826,
          1.0435636964418058,
          1.0252866065944646,
          1.1607871015066702,
          1.1275452514641364,
          1.0954060856217458,
          0.9994573640880674,
          1.2223153721400337,
          1.133033399546282,
          1.2446066559097837,
          1.0504895214332977,
          1.0209942426667096,
          1.020801490869592,
          1.089700879915049,
          1.2326109175530076,
          1.152344982188902,
          1.087780518905435,
          1.0476824243420302,
          1.1100100073422383,
          1.14567618025675,
          1.2135988553426211,
          1.2006943503028624,
          1.0068953338754945,
          1.0288379275782153,
          1.2257505550031225,
          1.1354960709126287,
          1.0985877667891601,
          1.0818769324489963,
          1.1187978834102479,
          0.9981712286863432,
          1.0766639504662632,
          1.0031689628219282,
          1.1019720144146394,
          1.1385406753860632,
          1.1386316486106074,
          1.141948717272526,
          1.0706992954708419,
          1.04692472138216,
          1.115688133137732,
          1.050844646044364,
          1.18019109311829,
          1.0502992129243052,
          1.1185393404621362,
          1.175711577832087,
          1.1947145393196261,
          1.2072016866718578,
          1.1867218957593144,
          1.166472816300286,
          1.145994625052507,
          1.2012493414724512,
          1.2296036164053166,
          1.0985666453684029,
          1.0420548714138587,
          1.107091541373813,
          1.0906563577599027,
          1.0425939654254324,
          1.0049710132226557,
          1.1701127399518976,
          1.135421432716622,
          1.1037234468413228,
          0.9592992924282197,
          0.9514993959299727,
          1.2100135408602735,
          1.1357442089579393,
          1.0565774121488232,
          1.0262397791073283,
          1.0906969333769208,
          1.108305644084801,
          1.2154636930054221,
          1.0649589820122047,
          1.0196044532022985,
          1.1303787366328948,
          1.0910586695742512,
          1.094736776560892,
          1.097724315407346,
          1.1727357636224216,
          1.079338709048943,
          1.140249737556344,
          1.0532968094031294
         ],
         "yaxis": "y"
        },
        {
         "marker": {
          "color": [
           0,
           1,
           2,
           3,
           4,
           5,
           6,
           7,
           8,
           9,
           10,
           11,
           12,
           13,
           14,
           15,
           16,
           17,
           18,
           19,
           20,
           21,
           22,
           23,
           24,
           25,
           26,
           27,
           28,
           29,
           30,
           31,
           32,
           33,
           34,
           35,
           36,
           37,
           38,
           39,
           40,
           41,
           42,
           43,
           44,
           45,
           46,
           47,
           48,
           49,
           50,
           51,
           52,
           53,
           54,
           55,
           56,
           57,
           58,
           59,
           60,
           61,
           62,
           63,
           64,
           65,
           66,
           67,
           68,
           69,
           70,
           71,
           72,
           73,
           74,
           75,
           76,
           77,
           78,
           79,
           80,
           81,
           82,
           83,
           84,
           85,
           86,
           87,
           88,
           89,
           90,
           91,
           92,
           93,
           94,
           95,
           96,
           97,
           98,
           99
          ],
          "colorbar": {
           "title": {
            "text": "Trial"
           },
           "x": 1,
           "xpad": 40
          },
          "colorscale": [
           [
            0,
            "rgb(247,251,255)"
           ],
           [
            0.125,
            "rgb(222,235,247)"
           ],
           [
            0.25,
            "rgb(198,219,239)"
           ],
           [
            0.375,
            "rgb(158,202,225)"
           ],
           [
            0.5,
            "rgb(107,174,214)"
           ],
           [
            0.625,
            "rgb(66,146,198)"
           ],
           [
            0.75,
            "rgb(33,113,181)"
           ],
           [
            0.875,
            "rgb(8,81,156)"
           ],
           [
            1,
            "rgb(8,48,107)"
           ]
          ],
          "line": {
           "color": "Grey",
           "width": 0.5
          },
          "showscale": false
         },
         "mode": "markers",
         "name": "Feasible Trial",
         "showlegend": false,
         "type": "scatter",
         "x": [
          0.08943932814419386,
          0.07954523761910215,
          0.06206195396058381,
          0.05647137051036084,
          0.13298583602602582,
          0.19787162697110974,
          0.1354106231151941,
          0.09597783926849017,
          0.11697800000816334,
          0.0950252324031339,
          0.18790985356157003,
          0.0575367987215756,
          0.18050618172047775,
          0.14613052765400553,
          0.12730248608448488,
          0.06588437687790272,
          0.11915793003611433,
          0.06861890950810112,
          0.19488278574317047,
          0.09241560003827173,
          0.08198803363015779,
          0.06284022641146715,
          0.0832329289903086,
          0.0840547932599103,
          0.1834390828639183,
          0.08480200298308663,
          0.1003684404999574,
          0.09584027376399538,
          0.1252201719641653,
          0.1148684218092709,
          0.14620100572186828,
          0.06441417444565145,
          0.07830944865631459,
          0.07632820054776998,
          0.10024839728647182,
          0.17713962983371587,
          0.15379559927650788,
          0.09423085604825521,
          0.050714601078554376,
          0.05768803459589369,
          0.06234341593933159,
          0.06605721439221718,
          0.1476664357729806,
          0.12585487965198217,
          0.17374602170781697,
          0.08310590363608202,
          0.07560985466759362,
          0.07483918702301331,
          0.1594373190690837,
          0.08922399589683334,
          0.1848988538372784,
          0.19387105729103546,
          0.08100349795775597,
          0.07099084041120192,
          0.13714672521450083,
          0.07159660609943161,
          0.055456996790520616,
          0.13277745153703915,
          0.051068009793764954,
          0.1234692734439045,
          0.1142664713514987,
          0.06442822074662405,
          0.1491373989801484,
          0.05147550466929481,
          0.07140991398198537,
          0.07407477225480565,
          0.18864119639673294,
          0.16946128792497542,
          0.18969292976660984,
          0.06544386328943565,
          0.058714467885612555,
          0.07797275981152707,
          0.1543663399254804,
          0.10726832077143389,
          0.06986091530178351,
          0.13920749226016602,
          0.10025826628966178,
          0.0866006670520475,
          0.05566953178730264,
          0.1236312953910627,
          0.12145448687639789,
          0.18090264589964167,
          0.14985154541201998,
          0.1763352891388206,
          0.12187379225044596,
          0.09695912138196232,
          0.19110444270996124,
          0.145739418084386,
          0.08980550139107206,
          0.07653955799913792,
          0.16286376873576985,
          0.0528013617774359,
          0.14682943640560536,
          0.1131420740046391,
          0.08585979100463349,
          0.13198223344208795,
          0.09800128438126557,
          0.0961629125943158,
          0.11336166655907993,
          0.09136563176491276
         ],
         "xaxis": "x2",
         "y": [
          1.2253651671962258,
          1.0886760006421088,
          1.2299367685549611,
          1.0322713984871954,
          1.0478327953424666,
          1.3222336702443098,
          1.0429666578601564,
          1.1573608435909424,
          1.1521700602731288,
          1.0535772981571168,
          1.2662574471580461,
          1.1587908693915672,
          0.95716120779985,
          1.163632601336601,
          1.1005189813487375,
          1.042223361191775,
          1.1036266126335,
          1.2164549670538352,
          1.1874901842839116,
          1.1205273432940805,
          1.2230883082245456,
          1.1105388045652826,
          1.0435636964418058,
          1.0252866065944646,
          1.1607871015066702,
          1.1275452514641364,
          1.0954060856217458,
          0.9994573640880674,
          1.2223153721400337,
          1.133033399546282,
          1.2446066559097837,
          1.0504895214332977,
          1.0209942426667096,
          1.020801490869592,
          1.089700879915049,
          1.2326109175530076,
          1.152344982188902,
          1.087780518905435,
          1.0476824243420302,
          1.1100100073422383,
          1.14567618025675,
          1.2135988553426211,
          1.2006943503028624,
          1.0068953338754945,
          1.0288379275782153,
          1.2257505550031225,
          1.1354960709126287,
          1.0985877667891601,
          1.0818769324489963,
          1.1187978834102479,
          0.9981712286863432,
          1.0766639504662632,
          1.0031689628219282,
          1.1019720144146394,
          1.1385406753860632,
          1.1386316486106074,
          1.141948717272526,
          1.0706992954708419,
          1.04692472138216,
          1.115688133137732,
          1.050844646044364,
          1.18019109311829,
          1.0502992129243052,
          1.1185393404621362,
          1.175711577832087,
          1.1947145393196261,
          1.2072016866718578,
          1.1867218957593144,
          1.166472816300286,
          1.145994625052507,
          1.2012493414724512,
          1.2296036164053166,
          1.0985666453684029,
          1.0420548714138587,
          1.107091541373813,
          1.0906563577599027,
          1.0425939654254324,
          1.0049710132226557,
          1.1701127399518976,
          1.135421432716622,
          1.1037234468413228,
          0.9592992924282197,
          0.9514993959299727,
          1.2100135408602735,
          1.1357442089579393,
          1.0565774121488232,
          1.0262397791073283,
          1.0906969333769208,
          1.108305644084801,
          1.2154636930054221,
          1.0649589820122047,
          1.0196044532022985,
          1.1303787366328948,
          1.0910586695742512,
          1.094736776560892,
          1.097724315407346,
          1.1727357636224216,
          1.079338709048943,
          1.140249737556344,
          1.0532968094031294
         ],
         "yaxis": "y2"
        },
        {
         "marker": {
          "color": [
           0,
           1,
           2,
           3,
           4,
           5,
           6,
           7,
           8,
           9,
           10,
           11,
           12,
           13,
           14,
           15,
           16,
           17,
           18,
           19,
           20,
           21,
           22,
           23,
           24,
           25,
           26,
           27,
           28,
           29,
           30,
           31,
           32,
           33,
           34,
           35,
           36,
           37,
           38,
           39,
           40,
           41,
           42,
           43,
           44,
           45,
           46,
           47,
           48,
           49,
           50,
           51,
           52,
           53,
           54,
           55,
           56,
           57,
           58,
           59,
           60,
           61,
           62,
           63,
           64,
           65,
           66,
           67,
           68,
           69,
           70,
           71,
           72,
           73,
           74,
           75,
           76,
           77,
           78,
           79,
           80,
           81,
           82,
           83,
           84,
           85,
           86,
           87,
           88,
           89,
           90,
           91,
           92,
           93,
           94,
           95,
           96,
           97,
           98,
           99
          ],
          "colorbar": {
           "title": {
            "text": "Trial"
           },
           "x": 1,
           "xpad": 40
          },
          "colorscale": [
           [
            0,
            "rgb(247,251,255)"
           ],
           [
            0.125,
            "rgb(222,235,247)"
           ],
           [
            0.25,
            "rgb(198,219,239)"
           ],
           [
            0.375,
            "rgb(158,202,225)"
           ],
           [
            0.5,
            "rgb(107,174,214)"
           ],
           [
            0.625,
            "rgb(66,146,198)"
           ],
           [
            0.75,
            "rgb(33,113,181)"
           ],
           [
            0.875,
            "rgb(8,81,156)"
           ],
           [
            1,
            "rgb(8,48,107)"
           ]
          ],
          "line": {
           "color": "Grey",
           "width": 0.5
          },
          "showscale": false
         },
         "mode": "markers",
         "name": "Feasible Trial",
         "showlegend": false,
         "type": "scatter",
         "x": [
          25,
          90,
          80,
          92,
          63,
          36,
          86,
          80,
          22,
          61,
          79,
          39,
          49,
          80,
          52,
          96,
          17,
          26,
          78,
          99,
          20,
          50,
          68,
          98,
          60,
          45,
          78,
          85,
          61,
          23,
          97,
          65,
          84,
          64,
          28,
          62,
          11,
          97,
          79,
          18,
          20,
          45,
          15,
          39,
          44,
          55,
          65,
          86,
          28,
          81,
          58,
          57,
          61,
          88,
          59,
          69,
          45,
          88,
          80,
          29,
          96,
          39,
          13,
          35,
          17,
          71,
          91,
          54,
          21,
          22,
          16,
          16,
          64,
          81,
          10,
          67,
          57,
          63,
          18,
          30,
          73,
          92,
          33,
          21,
          10,
          13,
          64,
          12,
          44,
          22,
          66,
          63,
          20,
          83,
          97,
          52,
          19,
          98,
          22,
          98
         ],
         "xaxis": "x3",
         "y": [
          1.2253651671962258,
          1.0886760006421088,
          1.2299367685549611,
          1.0322713984871954,
          1.0478327953424666,
          1.3222336702443098,
          1.0429666578601564,
          1.1573608435909424,
          1.1521700602731288,
          1.0535772981571168,
          1.2662574471580461,
          1.1587908693915672,
          0.95716120779985,
          1.163632601336601,
          1.1005189813487375,
          1.042223361191775,
          1.1036266126335,
          1.2164549670538352,
          1.1874901842839116,
          1.1205273432940805,
          1.2230883082245456,
          1.1105388045652826,
          1.0435636964418058,
          1.0252866065944646,
          1.1607871015066702,
          1.1275452514641364,
          1.0954060856217458,
          0.9994573640880674,
          1.2223153721400337,
          1.133033399546282,
          1.2446066559097837,
          1.0504895214332977,
          1.0209942426667096,
          1.020801490869592,
          1.089700879915049,
          1.2326109175530076,
          1.152344982188902,
          1.087780518905435,
          1.0476824243420302,
          1.1100100073422383,
          1.14567618025675,
          1.2135988553426211,
          1.2006943503028624,
          1.0068953338754945,
          1.0288379275782153,
          1.2257505550031225,
          1.1354960709126287,
          1.0985877667891601,
          1.0818769324489963,
          1.1187978834102479,
          0.9981712286863432,
          1.0766639504662632,
          1.0031689628219282,
          1.1019720144146394,
          1.1385406753860632,
          1.1386316486106074,
          1.141948717272526,
          1.0706992954708419,
          1.04692472138216,
          1.115688133137732,
          1.050844646044364,
          1.18019109311829,
          1.0502992129243052,
          1.1185393404621362,
          1.175711577832087,
          1.1947145393196261,
          1.2072016866718578,
          1.1867218957593144,
          1.166472816300286,
          1.145994625052507,
          1.2012493414724512,
          1.2296036164053166,
          1.0985666453684029,
          1.0420548714138587,
          1.107091541373813,
          1.0906563577599027,
          1.0425939654254324,
          1.0049710132226557,
          1.1701127399518976,
          1.135421432716622,
          1.1037234468413228,
          0.9592992924282197,
          0.9514993959299727,
          1.2100135408602735,
          1.1357442089579393,
          1.0565774121488232,
          1.0262397791073283,
          1.0906969333769208,
          1.108305644084801,
          1.2154636930054221,
          1.0649589820122047,
          1.0196044532022985,
          1.1303787366328948,
          1.0910586695742512,
          1.094736776560892,
          1.097724315407346,
          1.1727357636224216,
          1.079338709048943,
          1.140249737556344,
          1.0532968094031294
         ],
         "yaxis": "y3"
        },
        {
         "marker": {
          "color": [
           0,
           1,
           2,
           3,
           4,
           5,
           6,
           7,
           8,
           9,
           10,
           11,
           12,
           13,
           14,
           15,
           16,
           17,
           18,
           19,
           20,
           21,
           22,
           23,
           24,
           25,
           26,
           27,
           28,
           29,
           30,
           31,
           32,
           33,
           34,
           35,
           36,
           37,
           38,
           39,
           40,
           41,
           42,
           43,
           44,
           45,
           46,
           47,
           48,
           49,
           50,
           51,
           52,
           53,
           54,
           55,
           56,
           57,
           58,
           59,
           60,
           61,
           62,
           63,
           64,
           65,
           66,
           67,
           68,
           69,
           70,
           71,
           72,
           73,
           74,
           75,
           76,
           77,
           78,
           79,
           80,
           81,
           82,
           83,
           84,
           85,
           86,
           87,
           88,
           89,
           90,
           91,
           92,
           93,
           94,
           95,
           96,
           97,
           98,
           99
          ],
          "colorbar": {
           "title": {
            "text": "Trial"
           },
           "x": 1,
           "xpad": 40
          },
          "colorscale": [
           [
            0,
            "rgb(247,251,255)"
           ],
           [
            0.125,
            "rgb(222,235,247)"
           ],
           [
            0.25,
            "rgb(198,219,239)"
           ],
           [
            0.375,
            "rgb(158,202,225)"
           ],
           [
            0.5,
            "rgb(107,174,214)"
           ],
           [
            0.625,
            "rgb(66,146,198)"
           ],
           [
            0.75,
            "rgb(33,113,181)"
           ],
           [
            0.875,
            "rgb(8,81,156)"
           ],
           [
            1,
            "rgb(8,48,107)"
           ]
          ],
          "line": {
           "color": "Grey",
           "width": 0.5
          },
          "showscale": false
         },
         "mode": "markers",
         "name": "Feasible Trial",
         "showlegend": false,
         "type": "scatter",
         "x": [
          0.09062090000697552,
          0.00014989222440811413,
          0.05807128247569465,
          0.09616540961734298,
          0.020152010260843137,
          0.032466405620530436,
          0.07195745065939732,
          0.05055484193927053,
          0.09627436220780222,
          0.09575569520340353,
          0.09059741358709238,
          0.031329690722435764,
          0.023983100088959538,
          0.08828277719146971,
          0.05914233896993635,
          0.036278476949167575,
          0.0327446980578377,
          0.03889608295890626,
          0.009608581397880648,
          0.06290459299640624,
          0.053117992424294214,
          0.05897940473138452,
          0.04842482272570522,
          0.0020518341062332364,
          0.044429048979442096,
          0.05244470309272747,
          0.07014162423020358,
          0.026952490107305896,
          0.0018405962088782135,
          0.038835473265668954,
          0.016602752346942088,
          0.028212892173646774,
          0.03375616093523024,
          0.09492611452598529,
          0.09758136696343862,
          0.09451755797805614,
          0.0017410868414028723,
          0.07191084558877864,
          0.03470146545178998,
          0.02871796278918465,
          0.05124901159568331,
          0.02622033723512171,
          0.03035343811061913,
          0.09012864473575041,
          0.09218091862089907,
          0.013561041142924215,
          0.006046165193331535,
          0.009371151664211038,
          0.030674403857938983,
          0.06727933524465787,
          0.004457517505280005,
          0.05677224054046507,
          0.07033443376132284,
          0.04700099352211581,
          0.03224143582275578,
          0.0015101033025922794,
          0.055865764522053864,
          0.01477814416456801,
          0.042095095437267166,
          0.09957171357287237,
          0.06620448366151645,
          0.09832058178970958,
          0.09747442383213341,
          0.034765372900704875,
          0.036093248924470876,
          0.06179785176773496,
          0.04608936771113887,
          0.07464231022987858,
          0.034791640999568,
          0.03744338833926022,
          0.06465070231115405,
          0.07633558467169578,
          0.09477243929204353,
          0.003340341101669914,
          0.03843753558063368,
          0.016849159635150286,
          0.06908952621065646,
          0.03418678618736209,
          0.02964109483619971,
          0.04581124803996634,
          0.03882298885052036,
          0.054215927944658515,
          0.07821650029560907,
          0.04168141425475735,
          0.08030686012166807,
          0.04421699835832747,
          0.05056871417363918,
          0.03291718348239762,
          0.0022735825335787534,
          0.07958037739577817,
          0.016663427221383375,
          0.05758831240256832,
          0.010454920774295861,
          0.06343376367828446,
          0.006248899854930334,
          0.09957570119248373,
          0.08234574967580864,
          0.028154518173188026,
          0.08748520053485304,
          0.07238089585538549
         ],
         "xaxis": "x4",
         "y": [
          1.2253651671962258,
          1.0886760006421088,
          1.2299367685549611,
          1.0322713984871954,
          1.0478327953424666,
          1.3222336702443098,
          1.0429666578601564,
          1.1573608435909424,
          1.1521700602731288,
          1.0535772981571168,
          1.2662574471580461,
          1.1587908693915672,
          0.95716120779985,
          1.163632601336601,
          1.1005189813487375,
          1.042223361191775,
          1.1036266126335,
          1.2164549670538352,
          1.1874901842839116,
          1.1205273432940805,
          1.2230883082245456,
          1.1105388045652826,
          1.0435636964418058,
          1.0252866065944646,
          1.1607871015066702,
          1.1275452514641364,
          1.0954060856217458,
          0.9994573640880674,
          1.2223153721400337,
          1.133033399546282,
          1.2446066559097837,
          1.0504895214332977,
          1.0209942426667096,
          1.020801490869592,
          1.089700879915049,
          1.2326109175530076,
          1.152344982188902,
          1.087780518905435,
          1.0476824243420302,
          1.1100100073422383,
          1.14567618025675,
          1.2135988553426211,
          1.2006943503028624,
          1.0068953338754945,
          1.0288379275782153,
          1.2257505550031225,
          1.1354960709126287,
          1.0985877667891601,
          1.0818769324489963,
          1.1187978834102479,
          0.9981712286863432,
          1.0766639504662632,
          1.0031689628219282,
          1.1019720144146394,
          1.1385406753860632,
          1.1386316486106074,
          1.141948717272526,
          1.0706992954708419,
          1.04692472138216,
          1.115688133137732,
          1.050844646044364,
          1.18019109311829,
          1.0502992129243052,
          1.1185393404621362,
          1.175711577832087,
          1.1947145393196261,
          1.2072016866718578,
          1.1867218957593144,
          1.166472816300286,
          1.145994625052507,
          1.2012493414724512,
          1.2296036164053166,
          1.0985666453684029,
          1.0420548714138587,
          1.107091541373813,
          1.0906563577599027,
          1.0425939654254324,
          1.0049710132226557,
          1.1701127399518976,
          1.135421432716622,
          1.1037234468413228,
          0.9592992924282197,
          0.9514993959299727,
          1.2100135408602735,
          1.1357442089579393,
          1.0565774121488232,
          1.0262397791073283,
          1.0906969333769208,
          1.108305644084801,
          1.2154636930054221,
          1.0649589820122047,
          1.0196044532022985,
          1.1303787366328948,
          1.0910586695742512,
          1.094736776560892,
          1.097724315407346,
          1.1727357636224216,
          1.079338709048943,
          1.140249737556344,
          1.0532968094031294
         ],
         "yaxis": "y4"
        },
        {
         "marker": {
          "color": [
           0,
           1,
           2,
           3,
           4,
           5,
           6,
           7,
           8,
           9,
           10,
           11,
           12,
           13,
           14,
           15,
           16,
           17,
           18,
           19,
           20,
           21,
           22,
           23,
           24,
           25,
           26,
           27,
           28,
           29,
           30,
           31,
           32,
           33,
           34,
           35,
           36,
           37,
           38,
           39,
           40,
           41,
           42,
           43,
           44,
           45,
           46,
           47,
           48,
           49,
           50,
           51,
           52,
           53,
           54,
           55,
           56,
           57,
           58,
           59,
           60,
           61,
           62,
           63,
           64,
           65,
           66,
           67,
           68,
           69,
           70,
           71,
           72,
           73,
           74,
           75,
           76,
           77,
           78,
           79,
           80,
           81,
           82,
           83,
           84,
           85,
           86,
           87,
           88,
           89,
           90,
           91,
           92,
           93,
           94,
           95,
           96,
           97,
           98,
           99
          ],
          "colorbar": {
           "title": {
            "text": "Trial"
           },
           "x": 1,
           "xpad": 40
          },
          "colorscale": [
           [
            0,
            "rgb(247,251,255)"
           ],
           [
            0.125,
            "rgb(222,235,247)"
           ],
           [
            0.25,
            "rgb(198,219,239)"
           ],
           [
            0.375,
            "rgb(158,202,225)"
           ],
           [
            0.5,
            "rgb(107,174,214)"
           ],
           [
            0.625,
            "rgb(66,146,198)"
           ],
           [
            0.75,
            "rgb(33,113,181)"
           ],
           [
            0.875,
            "rgb(8,81,156)"
           ],
           [
            1,
            "rgb(8,48,107)"
           ]
          ],
          "line": {
           "color": "Grey",
           "width": 0.5
          },
          "showscale": false
         },
         "mode": "markers",
         "name": "Feasible Trial",
         "showlegend": false,
         "type": "scatter",
         "x": [
          8.70329267497706e-05,
          9.893906041247999e-05,
          0.0002457023858717551,
          0.00012077758825899426,
          4.3649862642447866e-05,
          2.6691139643823637e-05,
          3.654510994732038e-05,
          0.000449189338996323,
          1.2466369411788835e-05,
          1.4412358563624959e-05,
          5.160026624529506e-05,
          6.161523387922787e-05,
          1.024241925416856e-05,
          1.508593227580309e-05,
          2.934533351690519e-05,
          5.9143496352283716e-05,
          3.717513421028439e-05,
          1.933566696688933e-05,
          1.1432461281186068e-05,
          0.00040452978596834763,
          0.00015074297739902162,
          0.0003061650425570257,
          0.0002248877271351685,
          0.0008500415822149802,
          1.4868813594584176e-05,
          0.0008703599307480894,
          0.00011481008552117529,
          1.2856900224954618e-05,
          0.00018807571339524054,
          1.0520980468748844e-05,
          0.000556531879289152,
          1.9965828885678173e-05,
          4.4817950845851574e-05,
          0.00040656181807251414,
          3.674591174458338e-05,
          0.0002005058810010942,
          0.0001874451763394056,
          0.0008600871350890931,
          0.0004631070007272381,
          0.00027784249336441284,
          6.750686130286284e-05,
          1.61099720482588e-05,
          8.318669934756753e-05,
          2.6079634533963603e-05,
          1.2179681723589451e-05,
          0.0003186600744839804,
          1.1125254145574119e-05,
          2.262666957561258e-05,
          0.0006214103025311472,
          0.00014026364541691223,
          9.932781592150067e-05,
          7.887631949499925e-05,
          6.22881900920259e-05,
          0.00011495452920113755,
          0.0008215344917352679,
          0.00021502253541266474,
          0.0007964595438188427,
          0.00047003417060239737,
          0.0002926819303732867,
          4.74054046982165e-05,
          4.2352891289831684e-05,
          0.0008126466780815389,
          0.0002744227207611904,
          0.00024584247705864803,
          0.000626422601164258,
          2.4968703426582176e-05,
          3.003975026177971e-05,
          0.00020260466823386166,
          4.7634806793346e-05,
          0.00021085569707748268,
          0.0008409558130247855,
          0.000595535429023934,
          3.1934696035290916e-05,
          3.5037368341946594e-05,
          0.0006571969308677298,
          0.00010027784205313107,
          0.0001449481628122486,
          0.00018784354311905896,
          2.1480814120587985e-05,
          0.0006696444874419071,
          0.0004105320314052198,
          7.913644071518435e-05,
          3.086901226827798e-05,
          0.0008235236771908554,
          0.0007689576467784507,
          0.00017042034613853018,
          0.00034562037864176024,
          0.0006845724390654164,
          0.0002613349406328381,
          2.0405473015727812e-05,
          0.0002773493909015327,
          1.692427722371425e-05,
          1.2553081812504167e-05,
          3.886202008090142e-05,
          0.00020307984121773235,
          0.00015126388008233766,
          1.0790976266493214e-05,
          0.0001568005598485833,
          0.0007527412085041768,
          0.0007078752830604932
         ],
         "xaxis": "x5",
         "y": [
          1.2253651671962258,
          1.0886760006421088,
          1.2299367685549611,
          1.0322713984871954,
          1.0478327953424666,
          1.3222336702443098,
          1.0429666578601564,
          1.1573608435909424,
          1.1521700602731288,
          1.0535772981571168,
          1.2662574471580461,
          1.1587908693915672,
          0.95716120779985,
          1.163632601336601,
          1.1005189813487375,
          1.042223361191775,
          1.1036266126335,
          1.2164549670538352,
          1.1874901842839116,
          1.1205273432940805,
          1.2230883082245456,
          1.1105388045652826,
          1.0435636964418058,
          1.0252866065944646,
          1.1607871015066702,
          1.1275452514641364,
          1.0954060856217458,
          0.9994573640880674,
          1.2223153721400337,
          1.133033399546282,
          1.2446066559097837,
          1.0504895214332977,
          1.0209942426667096,
          1.020801490869592,
          1.089700879915049,
          1.2326109175530076,
          1.152344982188902,
          1.087780518905435,
          1.0476824243420302,
          1.1100100073422383,
          1.14567618025675,
          1.2135988553426211,
          1.2006943503028624,
          1.0068953338754945,
          1.0288379275782153,
          1.2257505550031225,
          1.1354960709126287,
          1.0985877667891601,
          1.0818769324489963,
          1.1187978834102479,
          0.9981712286863432,
          1.0766639504662632,
          1.0031689628219282,
          1.1019720144146394,
          1.1385406753860632,
          1.1386316486106074,
          1.141948717272526,
          1.0706992954708419,
          1.04692472138216,
          1.115688133137732,
          1.050844646044364,
          1.18019109311829,
          1.0502992129243052,
          1.1185393404621362,
          1.175711577832087,
          1.1947145393196261,
          1.2072016866718578,
          1.1867218957593144,
          1.166472816300286,
          1.145994625052507,
          1.2012493414724512,
          1.2296036164053166,
          1.0985666453684029,
          1.0420548714138587,
          1.107091541373813,
          1.0906563577599027,
          1.0425939654254324,
          1.0049710132226557,
          1.1701127399518976,
          1.135421432716622,
          1.1037234468413228,
          0.9592992924282197,
          0.9514993959299727,
          1.2100135408602735,
          1.1357442089579393,
          1.0565774121488232,
          1.0262397791073283,
          1.0906969333769208,
          1.108305644084801,
          1.2154636930054221,
          1.0649589820122047,
          1.0196044532022985,
          1.1303787366328948,
          1.0910586695742512,
          1.094736776560892,
          1.097724315407346,
          1.1727357636224216,
          1.079338709048943,
          1.140249737556344,
          1.0532968094031294
         ],
         "yaxis": "y5"
        },
        {
         "marker": {
          "color": [
           0,
           1,
           2,
           3,
           4,
           5,
           6,
           7,
           8,
           9,
           10,
           11,
           12,
           13,
           14,
           15,
           16,
           17,
           18,
           19,
           20,
           21,
           22,
           23,
           24,
           25,
           26,
           27,
           28,
           29,
           30,
           31,
           32,
           33,
           34,
           35,
           36,
           37,
           38,
           39,
           40,
           41,
           42,
           43,
           44,
           45,
           46,
           47,
           48,
           49,
           50,
           51,
           52,
           53,
           54,
           55,
           56,
           57,
           58,
           59,
           60,
           61,
           62,
           63,
           64,
           65,
           66,
           67,
           68,
           69,
           70,
           71,
           72,
           73,
           74,
           75,
           76,
           77,
           78,
           79,
           80,
           81,
           82,
           83,
           84,
           85,
           86,
           87,
           88,
           89,
           90,
           91,
           92,
           93,
           94,
           95,
           96,
           97,
           98,
           99
          ],
          "colorbar": {
           "title": {
            "text": "Trial"
           },
           "x": 1,
           "xpad": 40
          },
          "colorscale": [
           [
            0,
            "rgb(247,251,255)"
           ],
           [
            0.125,
            "rgb(222,235,247)"
           ],
           [
            0.25,
            "rgb(198,219,239)"
           ],
           [
            0.375,
            "rgb(158,202,225)"
           ],
           [
            0.5,
            "rgb(107,174,214)"
           ],
           [
            0.625,
            "rgb(66,146,198)"
           ],
           [
            0.75,
            "rgb(33,113,181)"
           ],
           [
            0.875,
            "rgb(8,81,156)"
           ],
           [
            1,
            "rgb(8,48,107)"
           ]
          ],
          "line": {
           "color": "Grey",
           "width": 0.5
          },
          "showscale": false
         },
         "mode": "markers",
         "name": "Feasible Trial",
         "showlegend": false,
         "type": "scatter",
         "x": [
          0.0013718954047648526,
          0.9266804987198038,
          0.10139681914396642,
          0.00027539962630269196,
          0.005402986783672557,
          3.0450979063943838e-05,
          0.005419187343769838,
          0.1136405964526311,
          0.012667938633522339,
          0.00010492530867480933,
          0.01631097551887395,
          0.05599994400403188,
          0.00015330304714637064,
          0.00015740548557002348,
          0.0024460112317228064,
          0.023049030089403004,
          0.00012345334769510522,
          0.00030781355952310183,
          0.00025700625472370735,
          0.006815529752969084,
          0.046841006814636627,
          0.21595826819023317,
          0.00020894050304806944,
          0.001667685097089135,
          0.00015079254172375476,
          0.00018439551642494647,
          0.003018536612881772,
          0.00010528549883648992,
          0.18451448843841628,
          0.0003500105257991178,
          0.00010676266054369149,
          0.0790672541496167,
          0.0008024847961244736,
          1.3729417925219337e-05,
          0.0070871125521607715,
          0.8966968208411514,
          0.007389930614491009,
          0.0003095595738898999,
          0.0002196768905140377,
          0.03744705333013294,
          0.0001498361313232705,
          0.48662326704070297,
          0.0014076262125537003,
          0.45070180113403735,
          0.03594793739565773,
          0.001727999161656192,
          0.0005145804019503272,
          0.00016273407449372116,
          0.0009396187539481911,
          0.0020752082452239855,
          0.009251802117220218,
          0.3060651120102096,
          0.0008023481935921847,
          0.005215877267250146,
          2.355632089591351e-05,
          0.01700646401457288,
          8.791667341548169e-05,
          0.0025201885166778216,
          0.9025328696883523,
          0.0072753002627068,
          0.028988910088807107,
          0.3655138444827934,
          1.6441553423928586e-05,
          0.016680454415120987,
          4.383553506413286e-05,
          8.646468252878775e-05,
          0.025624007986197524,
          0.010639601235255092,
          0.45321786761120214,
          0.01893210301767004,
          0.045541820105747005,
          0.032407409570681396,
          0.004886035687917576,
          6.9773675401903e-05,
          0.0002994577931628791,
          3.029455120441029e-05,
          0.07804309633816553,
          0.0214192177247517,
          0.00030545523888651153,
          5.123926837359683e-05,
          0.10326974401324215,
          0.6209754159359121,
          0.0035083640392018028,
          0.004110020355712326,
          0.0014962293869339406,
          0.008936871473212853,
          0.15171772111072648,
          2.3487917678860135e-05,
          0.05304209581958482,
          0.2260496879820698,
          0.0007026546322933692,
          0.002611326653652335,
          0.10907314176464473,
          6.0494771447510596e-05,
          0.0016775414674122502,
          0.9168103042096023,
          0.0001393595509759378,
          0.0016398921822246646,
          0.1589660165295701,
          0.00018902694950399506
         ],
         "xaxis": "x6",
         "y": [
          1.2253651671962258,
          1.0886760006421088,
          1.2299367685549611,
          1.0322713984871954,
          1.0478327953424666,
          1.3222336702443098,
          1.0429666578601564,
          1.1573608435909424,
          1.1521700602731288,
          1.0535772981571168,
          1.2662574471580461,
          1.1587908693915672,
          0.95716120779985,
          1.163632601336601,
          1.1005189813487375,
          1.042223361191775,
          1.1036266126335,
          1.2164549670538352,
          1.1874901842839116,
          1.1205273432940805,
          1.2230883082245456,
          1.1105388045652826,
          1.0435636964418058,
          1.0252866065944646,
          1.1607871015066702,
          1.1275452514641364,
          1.0954060856217458,
          0.9994573640880674,
          1.2223153721400337,
          1.133033399546282,
          1.2446066559097837,
          1.0504895214332977,
          1.0209942426667096,
          1.020801490869592,
          1.089700879915049,
          1.2326109175530076,
          1.152344982188902,
          1.087780518905435,
          1.0476824243420302,
          1.1100100073422383,
          1.14567618025675,
          1.2135988553426211,
          1.2006943503028624,
          1.0068953338754945,
          1.0288379275782153,
          1.2257505550031225,
          1.1354960709126287,
          1.0985877667891601,
          1.0818769324489963,
          1.1187978834102479,
          0.9981712286863432,
          1.0766639504662632,
          1.0031689628219282,
          1.1019720144146394,
          1.1385406753860632,
          1.1386316486106074,
          1.141948717272526,
          1.0706992954708419,
          1.04692472138216,
          1.115688133137732,
          1.050844646044364,
          1.18019109311829,
          1.0502992129243052,
          1.1185393404621362,
          1.175711577832087,
          1.1947145393196261,
          1.2072016866718578,
          1.1867218957593144,
          1.166472816300286,
          1.145994625052507,
          1.2012493414724512,
          1.2296036164053166,
          1.0985666453684029,
          1.0420548714138587,
          1.107091541373813,
          1.0906563577599027,
          1.0425939654254324,
          1.0049710132226557,
          1.1701127399518976,
          1.135421432716622,
          1.1037234468413228,
          0.9592992924282197,
          0.9514993959299727,
          1.2100135408602735,
          1.1357442089579393,
          1.0565774121488232,
          1.0262397791073283,
          1.0906969333769208,
          1.108305644084801,
          1.2154636930054221,
          1.0649589820122047,
          1.0196044532022985,
          1.1303787366328948,
          1.0910586695742512,
          1.094736776560892,
          1.097724315407346,
          1.1727357636224216,
          1.079338709048943,
          1.140249737556344,
          1.0532968094031294
         ],
         "yaxis": "y6"
        },
        {
         "marker": {
          "color": [
           0,
           1,
           2,
           3,
           4,
           5,
           6,
           7,
           8,
           9,
           10,
           11,
           12,
           13,
           14,
           15,
           16,
           17,
           18,
           19,
           20,
           21,
           22,
           23,
           24,
           25,
           26,
           27,
           28,
           29,
           30,
           31,
           32,
           33,
           34,
           35,
           36,
           37,
           38,
           39,
           40,
           41,
           42,
           43,
           44,
           45,
           46,
           47,
           48,
           49,
           50,
           51,
           52,
           53,
           54,
           55,
           56,
           57,
           58,
           59,
           60,
           61,
           62,
           63,
           64,
           65,
           66,
           67,
           68,
           69,
           70,
           71,
           72,
           73,
           74,
           75,
           76,
           77,
           78,
           79,
           80,
           81,
           82,
           83,
           84,
           85,
           86,
           87,
           88,
           89,
           90,
           91,
           92,
           93,
           94,
           95,
           96,
           97,
           98,
           99
          ],
          "colorbar": {
           "title": {
            "text": "Trial"
           },
           "x": 1,
           "xpad": 40
          },
          "colorscale": [
           [
            0,
            "rgb(247,251,255)"
           ],
           [
            0.125,
            "rgb(222,235,247)"
           ],
           [
            0.25,
            "rgb(198,219,239)"
           ],
           [
            0.375,
            "rgb(158,202,225)"
           ],
           [
            0.5,
            "rgb(107,174,214)"
           ],
           [
            0.625,
            "rgb(66,146,198)"
           ],
           [
            0.75,
            "rgb(33,113,181)"
           ],
           [
            0.875,
            "rgb(8,81,156)"
           ],
           [
            1,
            "rgb(8,48,107)"
           ]
          ],
          "line": {
           "color": "Grey",
           "width": 0.5
          },
          "showscale": false
         },
         "mode": "markers",
         "name": "Feasible Trial",
         "showlegend": false,
         "type": "scatter",
         "x": [
          0.8582968215957516,
          0.7954824103619228,
          0.5057910973453676,
          0.6453042528336161,
          0.7424784137478403,
          0.5012690556127861,
          0.8534763097192721,
          0.7559194188481714,
          0.7169693232339172,
          0.927287242027379,
          0.7105472973299771,
          0.7701390174230464,
          0.8801981471886976,
          0.7092426965974418,
          0.8083946597663134,
          0.9308323700277985,
          0.7168533978848157,
          0.9486670244114604,
          0.5279392481943801,
          0.6732324260624987,
          0.6418931064609251,
          0.5477229276291571,
          0.7417228969458574,
          0.8214975195673008,
          0.7167895092493024,
          0.5985862423837117,
          0.8133250988256652,
          0.7334141653727871,
          0.9814073573458049,
          0.7568892392649167,
          0.8634572390100252,
          0.6253193267689232,
          0.9669974343961958,
          0.8050771941823052,
          0.7810549927883651,
          0.640896659158062,
          0.8643979397755102,
          0.7379051864241173,
          0.8693648058107502,
          0.6277114893120733,
          0.557243697195334,
          0.5070326324373764,
          0.6383020177912591,
          0.583534900117662,
          0.9696681758176697,
          0.5527993759271521,
          0.8220622217687561,
          0.6662244394081649,
          0.7021355180189364,
          0.679099385618829,
          0.566711914124362,
          0.927722932978353,
          0.7250398489548725,
          0.6722436679985454,
          0.9557535472452103,
          0.7440138575989793,
          0.9278204672369126,
          0.7959663840313009,
          0.6070730736780037,
          0.7627856043612139,
          0.7892620105079571,
          0.6431184949945834,
          0.8904917004398092,
          0.5379584027473465,
          0.7717597166976969,
          0.5073518539917683,
          0.7101595152446323,
          0.6003223876312661,
          0.6652037756089735,
          0.5813697334479088,
          0.8568563658797343,
          0.8752581458731136,
          0.5551986085176415,
          0.8873459538322975,
          0.5660535513382552,
          0.8975288656724788,
          0.8427826388003326,
          0.8743077129753076,
          0.7231263757833506,
          0.9426187824242456,
          0.835761568986187,
          0.9872767319371626,
          0.6528148108808043,
          0.5434598070884897,
          0.8123074021729286,
          0.7201324234530966,
          0.8405390891682338,
          0.9829176207656183,
          0.6717212737605,
          0.8378362038339879,
          0.5761903936042432,
          0.7015668678253307,
          0.6032817126698666,
          0.707273109013568,
          0.673187319764277,
          0.811984531948126,
          0.8058648915009878,
          0.8911723872482816,
          0.680986961528756,
          0.9333700523953109
         ],
         "xaxis": "x7",
         "y": [
          1.2253651671962258,
          1.0886760006421088,
          1.2299367685549611,
          1.0322713984871954,
          1.0478327953424666,
          1.3222336702443098,
          1.0429666578601564,
          1.1573608435909424,
          1.1521700602731288,
          1.0535772981571168,
          1.2662574471580461,
          1.1587908693915672,
          0.95716120779985,
          1.163632601336601,
          1.1005189813487375,
          1.042223361191775,
          1.1036266126335,
          1.2164549670538352,
          1.1874901842839116,
          1.1205273432940805,
          1.2230883082245456,
          1.1105388045652826,
          1.0435636964418058,
          1.0252866065944646,
          1.1607871015066702,
          1.1275452514641364,
          1.0954060856217458,
          0.9994573640880674,
          1.2223153721400337,
          1.133033399546282,
          1.2446066559097837,
          1.0504895214332977,
          1.0209942426667096,
          1.020801490869592,
          1.089700879915049,
          1.2326109175530076,
          1.152344982188902,
          1.087780518905435,
          1.0476824243420302,
          1.1100100073422383,
          1.14567618025675,
          1.2135988553426211,
          1.2006943503028624,
          1.0068953338754945,
          1.0288379275782153,
          1.2257505550031225,
          1.1354960709126287,
          1.0985877667891601,
          1.0818769324489963,
          1.1187978834102479,
          0.9981712286863432,
          1.0766639504662632,
          1.0031689628219282,
          1.1019720144146394,
          1.1385406753860632,
          1.1386316486106074,
          1.141948717272526,
          1.0706992954708419,
          1.04692472138216,
          1.115688133137732,
          1.050844646044364,
          1.18019109311829,
          1.0502992129243052,
          1.1185393404621362,
          1.175711577832087,
          1.1947145393196261,
          1.2072016866718578,
          1.1867218957593144,
          1.166472816300286,
          1.145994625052507,
          1.2012493414724512,
          1.2296036164053166,
          1.0985666453684029,
          1.0420548714138587,
          1.107091541373813,
          1.0906563577599027,
          1.0425939654254324,
          1.0049710132226557,
          1.1701127399518976,
          1.135421432716622,
          1.1037234468413228,
          0.9592992924282197,
          0.9514993959299727,
          1.2100135408602735,
          1.1357442089579393,
          1.0565774121488232,
          1.0262397791073283,
          1.0906969333769208,
          1.108305644084801,
          1.2154636930054221,
          1.0649589820122047,
          1.0196044532022985,
          1.1303787366328948,
          1.0910586695742512,
          1.094736776560892,
          1.097724315407346,
          1.1727357636224216,
          1.079338709048943,
          1.140249737556344,
          1.0532968094031294
         ],
         "yaxis": "y7"
        }
       ],
       "layout": {
        "height": 360,
        "template": {
         "data": {
          "bar": [
           {
            "error_x": {
             "color": "#2a3f5f"
            },
            "error_y": {
             "color": "#2a3f5f"
            },
            "marker": {
             "line": {
              "color": "#E5ECF6",
              "width": 0.5
             },
             "pattern": {
              "fillmode": "overlay",
              "size": 10,
              "solidity": 0.2
             }
            },
            "type": "bar"
           }
          ],
          "barpolar": [
           {
            "marker": {
             "line": {
              "color": "#E5ECF6",
              "width": 0.5
             },
             "pattern": {
              "fillmode": "overlay",
              "size": 10,
              "solidity": 0.2
             }
            },
            "type": "barpolar"
           }
          ],
          "carpet": [
           {
            "aaxis": {
             "endlinecolor": "#2a3f5f",
             "gridcolor": "white",
             "linecolor": "white",
             "minorgridcolor": "white",
             "startlinecolor": "#2a3f5f"
            },
            "baxis": {
             "endlinecolor": "#2a3f5f",
             "gridcolor": "white",
             "linecolor": "white",
             "minorgridcolor": "white",
             "startlinecolor": "#2a3f5f"
            },
            "type": "carpet"
           }
          ],
          "choropleth": [
           {
            "colorbar": {
             "outlinewidth": 0,
             "ticks": ""
            },
            "type": "choropleth"
           }
          ],
          "contour": [
           {
            "colorbar": {
             "outlinewidth": 0,
             "ticks": ""
            },
            "colorscale": [
             [
              0,
              "#0d0887"
             ],
             [
              0.1111111111111111,
              "#46039f"
             ],
             [
              0.2222222222222222,
              "#7201a8"
             ],
             [
              0.3333333333333333,
              "#9c179e"
             ],
             [
              0.4444444444444444,
              "#bd3786"
             ],
             [
              0.5555555555555556,
              "#d8576b"
             ],
             [
              0.6666666666666666,
              "#ed7953"
             ],
             [
              0.7777777777777778,
              "#fb9f3a"
             ],
             [
              0.8888888888888888,
              "#fdca26"
             ],
             [
              1,
              "#f0f921"
             ]
            ],
            "type": "contour"
           }
          ],
          "contourcarpet": [
           {
            "colorbar": {
             "outlinewidth": 0,
             "ticks": ""
            },
            "type": "contourcarpet"
           }
          ],
          "heatmap": [
           {
            "colorbar": {
             "outlinewidth": 0,
             "ticks": ""
            },
            "colorscale": [
             [
              0,
              "#0d0887"
             ],
             [
              0.1111111111111111,
              "#46039f"
             ],
             [
              0.2222222222222222,
              "#7201a8"
             ],
             [
              0.3333333333333333,
              "#9c179e"
             ],
             [
              0.4444444444444444,
              "#bd3786"
             ],
             [
              0.5555555555555556,
              "#d8576b"
             ],
             [
              0.6666666666666666,
              "#ed7953"
             ],
             [
              0.7777777777777778,
              "#fb9f3a"
             ],
             [
              0.8888888888888888,
              "#fdca26"
             ],
             [
              1,
              "#f0f921"
             ]
            ],
            "type": "heatmap"
           }
          ],
          "heatmapgl": [
           {
            "colorbar": {
             "outlinewidth": 0,
             "ticks": ""
            },
            "colorscale": [
             [
              0,
              "#0d0887"
             ],
             [
              0.1111111111111111,
              "#46039f"
             ],
             [
              0.2222222222222222,
              "#7201a8"
             ],
             [
              0.3333333333333333,
              "#9c179e"
             ],
             [
              0.4444444444444444,
              "#bd3786"
             ],
             [
              0.5555555555555556,
              "#d8576b"
             ],
             [
              0.6666666666666666,
              "#ed7953"
             ],
             [
              0.7777777777777778,
              "#fb9f3a"
             ],
             [
              0.8888888888888888,
              "#fdca26"
             ],
             [
              1,
              "#f0f921"
             ]
            ],
            "type": "heatmapgl"
           }
          ],
          "histogram": [
           {
            "marker": {
             "pattern": {
              "fillmode": "overlay",
              "size": 10,
              "solidity": 0.2
             }
            },
            "type": "histogram"
           }
          ],
          "histogram2d": [
           {
            "colorbar": {
             "outlinewidth": 0,
             "ticks": ""
            },
            "colorscale": [
             [
              0,
              "#0d0887"
             ],
             [
              0.1111111111111111,
              "#46039f"
             ],
             [
              0.2222222222222222,
              "#7201a8"
             ],
             [
              0.3333333333333333,
              "#9c179e"
             ],
             [
              0.4444444444444444,
              "#bd3786"
             ],
             [
              0.5555555555555556,
              "#d8576b"
             ],
             [
              0.6666666666666666,
              "#ed7953"
             ],
             [
              0.7777777777777778,
              "#fb9f3a"
             ],
             [
              0.8888888888888888,
              "#fdca26"
             ],
             [
              1,
              "#f0f921"
             ]
            ],
            "type": "histogram2d"
           }
          ],
          "histogram2dcontour": [
           {
            "colorbar": {
             "outlinewidth": 0,
             "ticks": ""
            },
            "colorscale": [
             [
              0,
              "#0d0887"
             ],
             [
              0.1111111111111111,
              "#46039f"
             ],
             [
              0.2222222222222222,
              "#7201a8"
             ],
             [
              0.3333333333333333,
              "#9c179e"
             ],
             [
              0.4444444444444444,
              "#bd3786"
             ],
             [
              0.5555555555555556,
              "#d8576b"
             ],
             [
              0.6666666666666666,
              "#ed7953"
             ],
             [
              0.7777777777777778,
              "#fb9f3a"
             ],
             [
              0.8888888888888888,
              "#fdca26"
             ],
             [
              1,
              "#f0f921"
             ]
            ],
            "type": "histogram2dcontour"
           }
          ],
          "mesh3d": [
           {
            "colorbar": {
             "outlinewidth": 0,
             "ticks": ""
            },
            "type": "mesh3d"
           }
          ],
          "parcoords": [
           {
            "line": {
             "colorbar": {
              "outlinewidth": 0,
              "ticks": ""
             }
            },
            "type": "parcoords"
           }
          ],
          "pie": [
           {
            "automargin": true,
            "type": "pie"
           }
          ],
          "scatter": [
           {
            "fillpattern": {
             "fillmode": "overlay",
             "size": 10,
             "solidity": 0.2
            },
            "type": "scatter"
           }
          ],
          "scatter3d": [
           {
            "line": {
             "colorbar": {
              "outlinewidth": 0,
              "ticks": ""
             }
            },
            "marker": {
             "colorbar": {
              "outlinewidth": 0,
              "ticks": ""
             }
            },
            "type": "scatter3d"
           }
          ],
          "scattercarpet": [
           {
            "marker": {
             "colorbar": {
              "outlinewidth": 0,
              "ticks": ""
             }
            },
            "type": "scattercarpet"
           }
          ],
          "scattergeo": [
           {
            "marker": {
             "colorbar": {
              "outlinewidth": 0,
              "ticks": ""
             }
            },
            "type": "scattergeo"
           }
          ],
          "scattergl": [
           {
            "marker": {
             "colorbar": {
              "outlinewidth": 0,
              "ticks": ""
             }
            },
            "type": "scattergl"
           }
          ],
          "scattermapbox": [
           {
            "marker": {
             "colorbar": {
              "outlinewidth": 0,
              "ticks": ""
             }
            },
            "type": "scattermapbox"
           }
          ],
          "scatterpolar": [
           {
            "marker": {
             "colorbar": {
              "outlinewidth": 0,
              "ticks": ""
             }
            },
            "type": "scatterpolar"
           }
          ],
          "scatterpolargl": [
           {
            "marker": {
             "colorbar": {
              "outlinewidth": 0,
              "ticks": ""
             }
            },
            "type": "scatterpolargl"
           }
          ],
          "scatterternary": [
           {
            "marker": {
             "colorbar": {
              "outlinewidth": 0,
              "ticks": ""
             }
            },
            "type": "scatterternary"
           }
          ],
          "surface": [
           {
            "colorbar": {
             "outlinewidth": 0,
             "ticks": ""
            },
            "colorscale": [
             [
              0,
              "#0d0887"
             ],
             [
              0.1111111111111111,
              "#46039f"
             ],
             [
              0.2222222222222222,
              "#7201a8"
             ],
             [
              0.3333333333333333,
              "#9c179e"
             ],
             [
              0.4444444444444444,
              "#bd3786"
             ],
             [
              0.5555555555555556,
              "#d8576b"
             ],
             [
              0.6666666666666666,
              "#ed7953"
             ],
             [
              0.7777777777777778,
              "#fb9f3a"
             ],
             [
              0.8888888888888888,
              "#fdca26"
             ],
             [
              1,
              "#f0f921"
             ]
            ],
            "type": "surface"
           }
          ],
          "table": [
           {
            "cells": {
             "fill": {
              "color": "#EBF0F8"
             },
             "line": {
              "color": "white"
             }
            },
            "header": {
             "fill": {
              "color": "#C8D4E3"
             },
             "line": {
              "color": "white"
             }
            },
            "type": "table"
           }
          ]
         },
         "layout": {
          "annotationdefaults": {
           "arrowcolor": "#2a3f5f",
           "arrowhead": 0,
           "arrowwidth": 1
          },
          "autotypenumbers": "strict",
          "coloraxis": {
           "colorbar": {
            "outlinewidth": 0,
            "ticks": ""
           }
          },
          "colorscale": {
           "diverging": [
            [
             0,
             "#8e0152"
            ],
            [
             0.1,
             "#c51b7d"
            ],
            [
             0.2,
             "#de77ae"
            ],
            [
             0.3,
             "#f1b6da"
            ],
            [
             0.4,
             "#fde0ef"
            ],
            [
             0.5,
             "#f7f7f7"
            ],
            [
             0.6,
             "#e6f5d0"
            ],
            [
             0.7,
             "#b8e186"
            ],
            [
             0.8,
             "#7fbc41"
            ],
            [
             0.9,
             "#4d9221"
            ],
            [
             1,
             "#276419"
            ]
           ],
           "sequential": [
            [
             0,
             "#0d0887"
            ],
            [
             0.1111111111111111,
             "#46039f"
            ],
            [
             0.2222222222222222,
             "#7201a8"
            ],
            [
             0.3333333333333333,
             "#9c179e"
            ],
            [
             0.4444444444444444,
             "#bd3786"
            ],
            [
             0.5555555555555556,
             "#d8576b"
            ],
            [
             0.6666666666666666,
             "#ed7953"
            ],
            [
             0.7777777777777778,
             "#fb9f3a"
            ],
            [
             0.8888888888888888,
             "#fdca26"
            ],
            [
             1,
             "#f0f921"
            ]
           ],
           "sequentialminus": [
            [
             0,
             "#0d0887"
            ],
            [
             0.1111111111111111,
             "#46039f"
            ],
            [
             0.2222222222222222,
             "#7201a8"
            ],
            [
             0.3333333333333333,
             "#9c179e"
            ],
            [
             0.4444444444444444,
             "#bd3786"
            ],
            [
             0.5555555555555556,
             "#d8576b"
            ],
            [
             0.6666666666666666,
             "#ed7953"
            ],
            [
             0.7777777777777778,
             "#fb9f3a"
            ],
            [
             0.8888888888888888,
             "#fdca26"
            ],
            [
             1,
             "#f0f921"
            ]
           ]
          },
          "colorway": [
           "#636efa",
           "#EF553B",
           "#00cc96",
           "#ab63fa",
           "#FFA15A",
           "#19d3f3",
           "#FF6692",
           "#B6E880",
           "#FF97FF",
           "#FECB52"
          ],
          "font": {
           "color": "#2a3f5f"
          },
          "geo": {
           "bgcolor": "white",
           "lakecolor": "white",
           "landcolor": "#E5ECF6",
           "showlakes": true,
           "showland": true,
           "subunitcolor": "white"
          },
          "hoverlabel": {
           "align": "left"
          },
          "hovermode": "closest",
          "mapbox": {
           "style": "light"
          },
          "paper_bgcolor": "white",
          "plot_bgcolor": "#E5ECF6",
          "polar": {
           "angularaxis": {
            "gridcolor": "white",
            "linecolor": "white",
            "ticks": ""
           },
           "bgcolor": "#E5ECF6",
           "radialaxis": {
            "gridcolor": "white",
            "linecolor": "white",
            "ticks": ""
           }
          },
          "scene": {
           "xaxis": {
            "backgroundcolor": "#E5ECF6",
            "gridcolor": "white",
            "gridwidth": 2,
            "linecolor": "white",
            "showbackground": true,
            "ticks": "",
            "zerolinecolor": "white"
           },
           "yaxis": {
            "backgroundcolor": "#E5ECF6",
            "gridcolor": "white",
            "gridwidth": 2,
            "linecolor": "white",
            "showbackground": true,
            "ticks": "",
            "zerolinecolor": "white"
           },
           "zaxis": {
            "backgroundcolor": "#E5ECF6",
            "gridcolor": "white",
            "gridwidth": 2,
            "linecolor": "white",
            "showbackground": true,
            "ticks": "",
            "zerolinecolor": "white"
           }
          },
          "shapedefaults": {
           "line": {
            "color": "#2a3f5f"
           }
          },
          "ternary": {
           "aaxis": {
            "gridcolor": "white",
            "linecolor": "white",
            "ticks": ""
           },
           "baxis": {
            "gridcolor": "white",
            "linecolor": "white",
            "ticks": ""
           },
           "bgcolor": "#E5ECF6",
           "caxis": {
            "gridcolor": "white",
            "linecolor": "white",
            "ticks": ""
           }
          },
          "title": {
           "x": 0.05
          },
          "xaxis": {
           "automargin": true,
           "gridcolor": "white",
           "linecolor": "white",
           "ticks": "",
           "title": {
            "standoff": 15
           },
           "zerolinecolor": "white",
           "zerolinewidth": 2
          },
          "yaxis": {
           "automargin": true,
           "gridcolor": "white",
           "linecolor": "white",
           "ticks": "",
           "title": {
            "standoff": 15
           },
           "zerolinecolor": "white",
           "zerolinewidth": 2
          }
         }
        },
        "title": {
         "text": "Slice Plot"
        },
        "width": 2100,
        "xaxis": {
         "anchor": "y",
         "autorange": true,
         "domain": [
          0,
          0.1183673469387755
         ],
         "range": [
          0.7450107951982975,
          0.9598235166182639
         ],
         "title": {
          "text": "colsample_bytree"
         },
         "type": "linear"
        },
        "xaxis2": {
         "anchor": "y2",
         "autorange": true,
         "domain": [
          0.14693877551020407,
          0.26530612244897955
         ],
         "range": [
          -1.340479333478932,
          -0.6580041281397108
         ],
         "title": {
          "text": "learning_rate"
         },
         "type": "log"
        },
        "xaxis3": {
         "anchor": "y3",
         "autorange": true,
         "domain": [
          0.29387755102040813,
          0.4122448979591836
         ],
         "range": [
          3.1340458560953577,
          105.86595414390464
         ],
         "title": {
          "text": "max_leaves"
         },
         "type": "linear"
        },
        "xaxis4": {
         "anchor": "y4",
         "autorange": true,
         "domain": [
          0.4408163265306122,
          0.5591836734693877
         ],
         "range": [
          -0.007520366709248403,
          0.10724596012614024
         ],
         "title": {
          "text": "min_child_weight"
         },
         "type": "linear"
        },
        "xaxis5": {
         "anchor": "y5",
         "autorange": true,
         "domain": [
          0.5877551020408163,
          0.7061224489795918
         ],
         "range": [
          -5.138434082580545,
          -2.91146447957555
         ],
         "title": {
          "text": "min_split_loss"
         },
         "type": "log"
        },
        "xaxis6": {
         "anchor": "y6",
         "autorange": true,
         "domain": [
          0.7346938775510204,
          0.8530612244897959
         ],
         "range": [
          -5.234905184902778,
          0.3394873338288173
         ],
         "title": {
          "text": "reg_lambda"
         },
         "type": "log"
        },
        "xaxis7": {
         "anchor": "y7",
         "autorange": true,
         "domain": [
          0.8816326530612244,
          0.9999999999999999
         ],
         "range": [
          0.4637757250596533,
          1.0247700624902953
         ],
         "title": {
          "text": "subsample"
         },
         "type": "linear"
        },
        "yaxis": {
         "anchor": "x",
         "autorange": true,
         "domain": [
          0,
          1
         ],
         "range": [
          0.9209048198943235,
          1.352828246279959
         ],
         "title": {
          "text": "Objective Value"
         },
         "type": "linear"
        },
        "yaxis2": {
         "anchor": "x2",
         "autorange": true,
         "domain": [
          0,
          1
         ],
         "matches": "y",
         "range": [
          0.9209048198943235,
          1.352828246279959
         ],
         "showticklabels": false,
         "type": "linear"
        },
        "yaxis3": {
         "anchor": "x3",
         "autorange": true,
         "domain": [
          0,
          1
         ],
         "matches": "y",
         "range": [
          0.9209048198943235,
          1.352828246279959
         ],
         "showticklabels": false,
         "type": "linear"
        },
        "yaxis4": {
         "anchor": "x4",
         "autorange": true,
         "domain": [
          0,
          1
         ],
         "matches": "y",
         "range": [
          0.9209048198943235,
          1.352828246279959
         ],
         "showticklabels": false,
         "type": "linear"
        },
        "yaxis5": {
         "anchor": "x5",
         "autorange": true,
         "domain": [
          0,
          1
         ],
         "matches": "y",
         "range": [
          0.9209048198943235,
          1.352828246279959
         ],
         "showticklabels": false,
         "type": "linear"
        },
        "yaxis6": {
         "anchor": "x6",
         "autorange": true,
         "domain": [
          0,
          1
         ],
         "matches": "y",
         "range": [
          0.9209048198943235,
          1.352828246279959
         ],
         "showticklabels": false,
         "type": "linear"
        },
        "yaxis7": {
         "anchor": "x7",
         "autorange": true,
         "domain": [
          0,
          1
         ],
         "matches": "y",
         "range": [
          0.9209048198943235,
          1.352828246279959
         ],
         "showticklabels": false,
         "type": "linear"
        }
       }
      },
      "image/png": "[encoded data removed]",
      "text/html": [
       "<div>                            <div id=\"ed23bf8c-8ab0-461d-a75c-64b1680ecab6\" class=\"plotly-graph-div\" style=\"height:525px; width:2100px;\"></div>            <script type=\"text/javascript\">                require([\"plotly\"], function(Plotly) {                    window.PLOTLYENV=window.PLOTLYENV || {};                                    if (document.getElementById(\"ed23bf8c-8ab0-461d-a75c-64b1680ecab6\")) {                    Plotly.newPlot(                        \"ed23bf8c-8ab0-461d-a75c-64b1680ecab6\",                        [{\"marker\":{\"color\":[0,1,2,3,4,5,6,7,8,9,10,11,12,13,14,15,16,17,18,19,20,21,22,23,24,25,26,27,28,29,30,31,32,33,34,35,36,37,38,39,40,41,42,43,44,45,46,47,48,49,50,51,52,53,54,55,56,57,58,59,60,61,62,63,64,65,66,67,68,69,70,71,72,73,74,75,76,77,78,79,80,81,82,83,84,85,86,87,88,89,90,91,92,93,94,95,96,97,98,99],\"colorbar\":{\"title\":{\"text\":\"Trial\"},\"x\":1.0,\"xpad\":40},\"colorscale\":[[0.0,\"rgb(247,251,255)\"],[0.125,\"rgb(222,235,247)\"],[0.25,\"rgb(198,219,239)\"],[0.375,\"rgb(158,202,225)\"],[0.5,\"rgb(107,174,214)\"],[0.625,\"rgb(66,146,198)\"],[0.75,\"rgb(33,113,181)\"],[0.875,\"rgb(8,81,156)\"],[1.0,\"rgb(8,48,107)\"]],\"line\":{\"color\":\"Grey\",\"width\":0.5},\"showscale\":true},\"mode\":\"markers\",\"name\":\"Feasible Trial\",\"showlegend\":false,\"x\":[0.8616085911995337,0.7720643598115076,0.8488435470374711,0.8455190454695688,0.9380595054356914,0.8534524345008889,0.8938734426189322,0.8917389881753617,0.8103873565793864,0.7674179281339989,0.8867589262910739,0.9009330409953086,0.8043349027476966,0.7748122467444005,0.939557307618387,0.8795300646745003,0.8629921266644325,0.8790386222593246,0.7915136840809125,0.945466786373705,0.7629339008615673,0.8451304353298178,0.9048158319419819,0.9182856967439836,0.7922135970748041,0.7868873093436611,0.8756524858077946,0.9421621378514469,0.8473336638099414,0.7750709129779867,0.7931553012658981,0.871194760818061,0.7617094790281325,0.827866958375296,0.8040538304107026,0.8982683452273366,0.8718861551869774,0.9098721116134901,0.9335804359614028,0.9342117488496224,0.8236750480551147,0.8396121691687095,0.875082274775993,0.9368170954032414,0.9160097638852538,0.808944576694125,0.8465151925080893,0.8709483205572892,0.8057054867113228,0.9006114161446258,0.7644796109593417,0.7593675254428565,0.8318184952910029,0.8258440469315357,0.7637351442324272,0.9333251419746185,0.8547391976303697,0.7634962884353601,0.844676980604469,0.8072803395870238,0.8965544800474313,0.826570073707559,0.9011845218917857,0.8087378941676494,0.9068109737942605,0.8565552998859203,0.7629939913294868,0.7993459801138952,0.9293418077949722,0.9076562448768364,0.8373770765476034,0.8699350809564104,0.8230971421701634,0.7692003232153882,0.9015845376795002,0.9442846303021541,0.8598008925628204,0.9094074538506127,0.8922949831056035,0.7929670343758596,0.9071486092646595,0.7816442398754532,0.7988915307129162,0.7885846065588291,0.8580106678539344,0.8754337022586987,0.876754914925557,0.8134607094945222,0.8258894229616439,0.8609148829713393,0.7707786194907404,0.8900183573046617,0.8427138164752371,0.8684281956932878,0.9072192320249447,0.9418053125090535,0.8637823905484616,0.8646055954125899,0.7640712759936134,0.9144315427702181],\"y\":[1.2253651671962258,1.0886760006421088,1.2299367685549611,1.0322713984871954,1.0478327953424666,1.3222336702443098,1.0429666578601564,1.1573608435909424,1.1521700602731288,1.0535772981571168,1.2662574471580461,1.1587908693915672,0.95716120779985,1.163632601336601,1.1005189813487375,1.042223361191775,1.1036266126335,1.2164549670538352,1.1874901842839116,1.1205273432940805,1.2230883082245456,1.1105388045652826,1.0435636964418058,1.0252866065944646,1.1607871015066702,1.1275452514641364,1.0954060856217458,0.9994573640880674,1.2223153721400337,1.133033399546282,1.2446066559097837,1.0504895214332977,1.0209942426667096,1.020801490869592,1.089700879915049,1.2326109175530076,1.152344982188902,1.087780518905435,1.0476824243420302,1.1100100073422383,1.14567618025675,1.2135988553426211,1.2006943503028624,1.0068953338754945,1.0288379275782153,1.2257505550031225,1.1354960709126287,1.0985877667891601,1.0818769324489963,1.1187978834102479,0.9981712286863432,1.0766639504662632,1.0031689628219282,1.1019720144146394,1.1385406753860632,1.1386316486106074,1.141948717272526,1.0706992954708419,1.04692472138216,1.115688133137732,1.050844646044364,1.18019109311829,1.0502992129243052,1.1185393404621362,1.175711577832087,1.1947145393196261,1.2072016866718578,1.1867218957593144,1.166472816300286,1.145994625052507,1.2012493414724512,1.2296036164053166,1.0985666453684029,1.0420548714138587,1.107091541373813,1.0906563577599027,1.0425939654254324,1.0049710132226557,1.1701127399518976,1.135421432716622,1.1037234468413228,0.9592992924282197,0.9514993959299727,1.2100135408602735,1.1357442089579393,1.0565774121488232,1.0262397791073283,1.0906969333769208,1.108305644084801,1.2154636930054221,1.0649589820122047,1.0196044532022985,1.1303787366328948,1.0910586695742512,1.094736776560892,1.097724315407346,1.1727357636224216,1.079338709048943,1.140249737556344,1.0532968094031294],\"type\":\"scatter\",\"xaxis\":\"x\",\"yaxis\":\"y\"},{\"marker\":{\"color\":[0,1,2,3,4,5,6,7,8,9,10,11,12,13,14,15,16,17,18,19,20,21,22,23,24,25,26,27,28,29,30,31,32,33,34,35,36,37,38,39,40,41,42,43,44,45,46,47,48,49,50,51,52,53,54,55,56,57,58,59,60,61,62,63,64,65,66,67,68,69,70,71,72,73,74,75,76,77,78,79,80,81,82,83,84,85,86,87,88,89,90,91,92,93,94,95,96,97,98,99],\"colorbar\":{\"title\":{\"text\":\"Trial\"},\"x\":1.0,\"xpad\":40},\"colorscale\":[[0.0,\"rgb(247,251,255)\"],[0.125,\"rgb(222,235,247)\"],[0.25,\"rgb(198,219,239)\"],[0.375,\"rgb(158,202,225)\"],[0.5,\"rgb(107,174,214)\"],[0.625,\"rgb(66,146,198)\"],[0.75,\"rgb(33,113,181)\"],[0.875,\"rgb(8,81,156)\"],[1.0,\"rgb(8,48,107)\"]],\"line\":{\"color\":\"Grey\",\"width\":0.5},\"showscale\":false},\"mode\":\"markers\",\"name\":\"Feasible Trial\",\"showlegend\":false,\"x\":[0.08943932814419386,0.07954523761910215,0.06206195396058381,0.05647137051036084,0.13298583602602582,0.19787162697110974,0.1354106231151941,0.09597783926849017,0.11697800000816334,0.0950252324031339,0.18790985356157003,0.0575367987215756,0.18050618172047775,0.14613052765400553,0.12730248608448488,0.06588437687790272,0.11915793003611433,0.06861890950810112,0.19488278574317047,0.09241560003827173,0.08198803363015779,0.06284022641146715,0.0832329289903086,0.0840547932599103,0.1834390828639183,0.08480200298308663,0.1003684404999574,0.09584027376399538,0.1252201719641653,0.1148684218092709,0.14620100572186828,0.06441417444565145,0.07830944865631459,0.07632820054776998,0.10024839728647182,0.17713962983371587,0.15379559927650788,0.09423085604825521,0.050714601078554376,0.05768803459589369,0.06234341593933159,0.06605721439221718,0.1476664357729806,0.12585487965198217,0.17374602170781697,0.08310590363608202,0.07560985466759362,0.07483918702301331,0.1594373190690837,0.08922399589683334,0.1848988538372784,0.19387105729103546,0.08100349795775597,0.07099084041120192,0.13714672521450083,0.07159660609943161,0.055456996790520616,0.13277745153703915,0.051068009793764954,0.1234692734439045,0.1142664713514987,0.06442822074662405,0.1491373989801484,0.05147550466929481,0.07140991398198537,0.07407477225480565,0.18864119639673294,0.16946128792497542,0.18969292976660984,0.06544386328943565,0.058714467885612555,0.07797275981152707,0.1543663399254804,0.10726832077143389,0.06986091530178351,0.13920749226016602,0.10025826628966178,0.0866006670520475,0.05566953178730264,0.1236312953910627,0.12145448687639789,0.18090264589964167,0.14985154541201998,0.1763352891388206,0.12187379225044596,0.09695912138196232,0.19110444270996124,0.145739418084386,0.08980550139107206,0.07653955799913792,0.16286376873576985,0.0528013617774359,0.14682943640560536,0.1131420740046391,0.08585979100463349,0.13198223344208795,0.09800128438126557,0.0961629125943158,0.11336166655907993,0.09136563176491276],\"y\":[1.2253651671962258,1.0886760006421088,1.2299367685549611,1.0322713984871954,1.0478327953424666,1.3222336702443098,1.0429666578601564,1.1573608435909424,1.1521700602731288,1.0535772981571168,1.2662574471580461,1.1587908693915672,0.95716120779985,1.163632601336601,1.1005189813487375,1.042223361191775,1.1036266126335,1.2164549670538352,1.1874901842839116,1.1205273432940805,1.2230883082245456,1.1105388045652826,1.0435636964418058,1.0252866065944646,1.1607871015066702,1.1275452514641364,1.0954060856217458,0.9994573640880674,1.2223153721400337,1.133033399546282,1.2446066559097837,1.0504895214332977,1.0209942426667096,1.020801490869592,1.089700879915049,1.2326109175530076,1.152344982188902,1.087780518905435,1.0476824243420302,1.1100100073422383,1.14567618025675,1.2135988553426211,1.2006943503028624,1.0068953338754945,1.0288379275782153,1.2257505550031225,1.1354960709126287,1.0985877667891601,1.0818769324489963,1.1187978834102479,0.9981712286863432,1.0766639504662632,1.0031689628219282,1.1019720144146394,1.1385406753860632,1.1386316486106074,1.141948717272526,1.0706992954708419,1.04692472138216,1.115688133137732,1.050844646044364,1.18019109311829,1.0502992129243052,1.1185393404621362,1.175711577832087,1.1947145393196261,1.2072016866718578,1.1867218957593144,1.166472816300286,1.145994625052507,1.2012493414724512,1.2296036164053166,1.0985666453684029,1.0420548714138587,1.107091541373813,1.0906563577599027,1.0425939654254324,1.0049710132226557,1.1701127399518976,1.135421432716622,1.1037234468413228,0.9592992924282197,0.9514993959299727,1.2100135408602735,1.1357442089579393,1.0565774121488232,1.0262397791073283,1.0906969333769208,1.108305644084801,1.2154636930054221,1.0649589820122047,1.0196044532022985,1.1303787366328948,1.0910586695742512,1.094736776560892,1.097724315407346,1.1727357636224216,1.079338709048943,1.140249737556344,1.0532968094031294],\"type\":\"scatter\",\"xaxis\":\"x2\",\"yaxis\":\"y2\"},{\"marker\":{\"color\":[0,1,2,3,4,5,6,7,8,9,10,11,12,13,14,15,16,17,18,19,20,21,22,23,24,25,26,27,28,29,30,31,32,33,34,35,36,37,38,39,40,41,42,43,44,45,46,47,48,49,50,51,52,53,54,55,56,57,58,59,60,61,62,63,64,65,66,67,68,69,70,71,72,73,74,75,76,77,78,79,80,81,82,83,84,85,86,87,88,89,90,91,92,93,94,95,96,97,98,99],\"colorbar\":{\"title\":{\"text\":\"Trial\"},\"x\":1.0,\"xpad\":40},\"colorscale\":[[0.0,\"rgb(247,251,255)\"],[0.125,\"rgb(222,235,247)\"],[0.25,\"rgb(198,219,239)\"],[0.375,\"rgb(158,202,225)\"],[0.5,\"rgb(107,174,214)\"],[0.625,\"rgb(66,146,198)\"],[0.75,\"rgb(33,113,181)\"],[0.875,\"rgb(8,81,156)\"],[1.0,\"rgb(8,48,107)\"]],\"line\":{\"color\":\"Grey\",\"width\":0.5},\"showscale\":false},\"mode\":\"markers\",\"name\":\"Feasible Trial\",\"showlegend\":false,\"x\":[25,90,80,92,63,36,86,80,22,61,79,39,49,80,52,96,17,26,78,99,20,50,68,98,60,45,78,85,61,23,97,65,84,64,28,62,11,97,79,18,20,45,15,39,44,55,65,86,28,81,58,57,61,88,59,69,45,88,80,29,96,39,13,35,17,71,91,54,21,22,16,16,64,81,10,67,57,63,18,30,73,92,33,21,10,13,64,12,44,22,66,63,20,83,97,52,19,98,22,98],\"y\":[1.2253651671962258,1.0886760006421088,1.2299367685549611,1.0322713984871954,1.0478327953424666,1.3222336702443098,1.0429666578601564,1.1573608435909424,1.1521700602731288,1.0535772981571168,1.2662574471580461,1.1587908693915672,0.95716120779985,1.163632601336601,1.1005189813487375,1.042223361191775,1.1036266126335,1.2164549670538352,1.1874901842839116,1.1205273432940805,1.2230883082245456,1.1105388045652826,1.0435636964418058,1.0252866065944646,1.1607871015066702,1.1275452514641364,1.0954060856217458,0.9994573640880674,1.2223153721400337,1.133033399546282,1.2446066559097837,1.0504895214332977,1.0209942426667096,1.020801490869592,1.089700879915049,1.2326109175530076,1.152344982188902,1.087780518905435,1.0476824243420302,1.1100100073422383,1.14567618025675,1.2135988553426211,1.2006943503028624,1.0068953338754945,1.0288379275782153,1.2257505550031225,1.1354960709126287,1.0985877667891601,1.0818769324489963,1.1187978834102479,0.9981712286863432,1.0766639504662632,1.0031689628219282,1.1019720144146394,1.1385406753860632,1.1386316486106074,1.141948717272526,1.0706992954708419,1.04692472138216,1.115688133137732,1.050844646044364,1.18019109311829,1.0502992129243052,1.1185393404621362,1.175711577832087,1.1947145393196261,1.2072016866718578,1.1867218957593144,1.166472816300286,1.145994625052507,1.2012493414724512,1.2296036164053166,1.0985666453684029,1.0420548714138587,1.107091541373813,1.0906563577599027,1.0425939654254324,1.0049710132226557,1.1701127399518976,1.135421432716622,1.1037234468413228,0.9592992924282197,0.9514993959299727,1.2100135408602735,1.1357442089579393,1.0565774121488232,1.0262397791073283,1.0906969333769208,1.108305644084801,1.2154636930054221,1.0649589820122047,1.0196044532022985,1.1303787366328948,1.0910586695742512,1.094736776560892,1.097724315407346,1.1727357636224216,1.079338709048943,1.140249737556344,1.0532968094031294],\"type\":\"scatter\",\"xaxis\":\"x3\",\"yaxis\":\"y3\"},{\"marker\":{\"color\":[0,1,2,3,4,5,6,7,8,9,10,11,12,13,14,15,16,17,18,19,20,21,22,23,24,25,26,27,28,29,30,31,32,33,34,35,36,37,38,39,40,41,42,43,44,45,46,47,48,49,50,51,52,53,54,55,56,57,58,59,60,61,62,63,64,65,66,67,68,69,70,71,72,73,74,75,76,77,78,79,80,81,82,83,84,85,86,87,88,89,90,91,92,93,94,95,96,97,98,99],\"colorbar\":{\"title\":{\"text\":\"Trial\"},\"x\":1.0,\"xpad\":40},\"colorscale\":[[0.0,\"rgb(247,251,255)\"],[0.125,\"rgb(222,235,247)\"],[0.25,\"rgb(198,219,239)\"],[0.375,\"rgb(158,202,225)\"],[0.5,\"rgb(107,174,214)\"],[0.625,\"rgb(66,146,198)\"],[0.75,\"rgb(33,113,181)\"],[0.875,\"rgb(8,81,156)\"],[1.0,\"rgb(8,48,107)\"]],\"line\":{\"color\":\"Grey\",\"width\":0.5},\"showscale\":false},\"mode\":\"markers\",\"name\":\"Feasible Trial\",\"showlegend\":false,\"x\":[0.09062090000697552,0.00014989222440811413,0.05807128247569465,0.09616540961734298,0.020152010260843137,0.032466405620530436,0.07195745065939732,0.05055484193927053,0.09627436220780222,0.09575569520340353,0.09059741358709238,0.031329690722435764,0.023983100088959538,0.08828277719146971,0.05914233896993635,0.036278476949167575,0.0327446980578377,0.03889608295890626,0.009608581397880648,0.06290459299640624,0.053117992424294214,0.05897940473138452,0.04842482272570522,0.0020518341062332364,0.044429048979442096,0.05244470309272747,0.07014162423020358,0.026952490107305896,0.0018405962088782135,0.038835473265668954,0.016602752346942088,0.028212892173646774,0.03375616093523024,0.09492611452598529,0.09758136696343862,0.09451755797805614,0.0017410868414028723,0.07191084558877864,0.03470146545178998,0.02871796278918465,0.05124901159568331,0.02622033723512171,0.03035343811061913,0.09012864473575041,0.09218091862089907,0.013561041142924215,0.006046165193331535,0.009371151664211038,0.030674403857938983,0.06727933524465787,0.004457517505280005,0.05677224054046507,0.07033443376132284,0.04700099352211581,0.03224143582275578,0.0015101033025922794,0.055865764522053864,0.01477814416456801,0.042095095437267166,0.09957171357287237,0.06620448366151645,0.09832058178970958,0.09747442383213341,0.034765372900704875,0.036093248924470876,0.06179785176773496,0.04608936771113887,0.07464231022987858,0.034791640999568,0.03744338833926022,0.06465070231115405,0.07633558467169578,0.09477243929204353,0.003340341101669914,0.03843753558063368,0.016849159635150286,0.06908952621065646,0.03418678618736209,0.02964109483619971,0.04581124803996634,0.03882298885052036,0.054215927944658515,0.07821650029560907,0.04168141425475735,0.08030686012166807,0.04421699835832747,0.05056871417363918,0.03291718348239762,0.0022735825335787534,0.07958037739577817,0.016663427221383375,0.05758831240256832,0.010454920774295861,0.06343376367828446,0.006248899854930334,0.09957570119248373,0.08234574967580864,0.028154518173188026,0.08748520053485304,0.07238089585538549],\"y\":[1.2253651671962258,1.0886760006421088,1.2299367685549611,1.0322713984871954,1.0478327953424666,1.3222336702443098,1.0429666578601564,1.1573608435909424,1.1521700602731288,1.0535772981571168,1.2662574471580461,1.1587908693915672,0.95716120779985,1.163632601336601,1.1005189813487375,1.042223361191775,1.1036266126335,1.2164549670538352,1.1874901842839116,1.1205273432940805,1.2230883082245456,1.1105388045652826,1.0435636964418058,1.0252866065944646,1.1607871015066702,1.1275452514641364,1.0954060856217458,0.9994573640880674,1.2223153721400337,1.133033399546282,1.2446066559097837,1.0504895214332977,1.0209942426667096,1.020801490869592,1.089700879915049,1.2326109175530076,1.152344982188902,1.087780518905435,1.0476824243420302,1.1100100073422383,1.14567618025675,1.2135988553426211,1.2006943503028624,1.0068953338754945,1.0288379275782153,1.2257505550031225,1.1354960709126287,1.0985877667891601,1.0818769324489963,1.1187978834102479,0.9981712286863432,1.0766639504662632,1.0031689628219282,1.1019720144146394,1.1385406753860632,1.1386316486106074,1.141948717272526,1.0706992954708419,1.04692472138216,1.115688133137732,1.050844646044364,1.18019109311829,1.0502992129243052,1.1185393404621362,1.175711577832087,1.1947145393196261,1.2072016866718578,1.1867218957593144,1.166472816300286,1.145994625052507,1.2012493414724512,1.2296036164053166,1.0985666453684029,1.0420548714138587,1.107091541373813,1.0906563577599027,1.0425939654254324,1.0049710132226557,1.1701127399518976,1.135421432716622,1.1037234468413228,0.9592992924282197,0.9514993959299727,1.2100135408602735,1.1357442089579393,1.0565774121488232,1.0262397791073283,1.0906969333769208,1.108305644084801,1.2154636930054221,1.0649589820122047,1.0196044532022985,1.1303787366328948,1.0910586695742512,1.094736776560892,1.097724315407346,1.1727357636224216,1.079338709048943,1.140249737556344,1.0532968094031294],\"type\":\"scatter\",\"xaxis\":\"x4\",\"yaxis\":\"y4\"},{\"marker\":{\"color\":[0,1,2,3,4,5,6,7,8,9,10,11,12,13,14,15,16,17,18,19,20,21,22,23,24,25,26,27,28,29,30,31,32,33,34,35,36,37,38,39,40,41,42,43,44,45,46,47,48,49,50,51,52,53,54,55,56,57,58,59,60,61,62,63,64,65,66,67,68,69,70,71,72,73,74,75,76,77,78,79,80,81,82,83,84,85,86,87,88,89,90,91,92,93,94,95,96,97,98,99],\"colorbar\":{\"title\":{\"text\":\"Trial\"},\"x\":1.0,\"xpad\":40},\"colorscale\":[[0.0,\"rgb(247,251,255)\"],[0.125,\"rgb(222,235,247)\"],[0.25,\"rgb(198,219,239)\"],[0.375,\"rgb(158,202,225)\"],[0.5,\"rgb(107,174,214)\"],[0.625,\"rgb(66,146,198)\"],[0.75,\"rgb(33,113,181)\"],[0.875,\"rgb(8,81,156)\"],[1.0,\"rgb(8,48,107)\"]],\"line\":{\"color\":\"Grey\",\"width\":0.5},\"showscale\":false},\"mode\":\"markers\",\"name\":\"Feasible Trial\",\"showlegend\":false,\"x\":[8.70329267497706e-05,9.893906041247999e-05,0.0002457023858717551,0.00012077758825899426,4.3649862642447866e-05,2.6691139643823637e-05,3.654510994732038e-05,0.000449189338996323,1.2466369411788835e-05,1.4412358563624959e-05,5.160026624529506e-05,6.161523387922787e-05,1.024241925416856e-05,1.508593227580309e-05,2.934533351690519e-05,5.9143496352283716e-05,3.717513421028439e-05,1.933566696688933e-05,1.1432461281186068e-05,0.00040452978596834763,0.00015074297739902162,0.0003061650425570257,0.0002248877271351685,0.0008500415822149802,1.4868813594584176e-05,0.0008703599307480894,0.00011481008552117529,1.2856900224954618e-05,0.00018807571339524054,1.0520980468748844e-05,0.000556531879289152,1.9965828885678173e-05,4.4817950845851574e-05,0.00040656181807251414,3.674591174458338e-05,0.0002005058810010942,0.0001874451763394056,0.0008600871350890931,0.0004631070007272381,0.00027784249336441284,6.750686130286284e-05,1.61099720482588e-05,8.318669934756753e-05,2.6079634533963603e-05,1.2179681723589451e-05,0.0003186600744839804,1.1125254145574119e-05,2.262666957561258e-05,0.0006214103025311472,0.00014026364541691223,9.932781592150067e-05,7.887631949499925e-05,6.22881900920259e-05,0.00011495452920113755,0.0008215344917352679,0.00021502253541266474,0.0007964595438188427,0.00047003417060239737,0.0002926819303732867,4.74054046982165e-05,4.2352891289831684e-05,0.0008126466780815389,0.0002744227207611904,0.00024584247705864803,0.000626422601164258,2.4968703426582176e-05,3.003975026177971e-05,0.00020260466823386166,4.7634806793346e-05,0.00021085569707748268,0.0008409558130247855,0.000595535429023934,3.1934696035290916e-05,3.5037368341946594e-05,0.0006571969308677298,0.00010027784205313107,0.0001449481628122486,0.00018784354311905896,2.1480814120587985e-05,0.0006696444874419071,0.0004105320314052198,7.913644071518435e-05,3.086901226827798e-05,0.0008235236771908554,0.0007689576467784507,0.00017042034613853018,0.00034562037864176024,0.0006845724390654164,0.0002613349406328381,2.0405473015727812e-05,0.0002773493909015327,1.692427722371425e-05,1.2553081812504167e-05,3.886202008090142e-05,0.00020307984121773235,0.00015126388008233766,1.0790976266493214e-05,0.0001568005598485833,0.0007527412085041768,0.0007078752830604932],\"y\":[1.2253651671962258,1.0886760006421088,1.2299367685549611,1.0322713984871954,1.0478327953424666,1.3222336702443098,1.0429666578601564,1.1573608435909424,1.1521700602731288,1.0535772981571168,1.2662574471580461,1.1587908693915672,0.95716120779985,1.163632601336601,1.1005189813487375,1.042223361191775,1.1036266126335,1.2164549670538352,1.1874901842839116,1.1205273432940805,1.2230883082245456,1.1105388045652826,1.0435636964418058,1.0252866065944646,1.1607871015066702,1.1275452514641364,1.0954060856217458,0.9994573640880674,1.2223153721400337,1.133033399546282,1.2446066559097837,1.0504895214332977,1.0209942426667096,1.020801490869592,1.089700879915049,1.2326109175530076,1.152344982188902,1.087780518905435,1.0476824243420302,1.1100100073422383,1.14567618025675,1.2135988553426211,1.2006943503028624,1.0068953338754945,1.0288379275782153,1.2257505550031225,1.1354960709126287,1.0985877667891601,1.0818769324489963,1.1187978834102479,0.9981712286863432,1.0766639504662632,1.0031689628219282,1.1019720144146394,1.1385406753860632,1.1386316486106074,1.141948717272526,1.0706992954708419,1.04692472138216,1.115688133137732,1.050844646044364,1.18019109311829,1.0502992129243052,1.1185393404621362,1.175711577832087,1.1947145393196261,1.2072016866718578,1.1867218957593144,1.166472816300286,1.145994625052507,1.2012493414724512,1.2296036164053166,1.0985666453684029,1.0420548714138587,1.107091541373813,1.0906563577599027,1.0425939654254324,1.0049710132226557,1.1701127399518976,1.135421432716622,1.1037234468413228,0.9592992924282197,0.9514993959299727,1.2100135408602735,1.1357442089579393,1.0565774121488232,1.0262397791073283,1.0906969333769208,1.108305644084801,1.2154636930054221,1.0649589820122047,1.0196044532022985,1.1303787366328948,1.0910586695742512,1.094736776560892,1.097724315407346,1.1727357636224216,1.079338709048943,1.140249737556344,1.0532968094031294],\"type\":\"scatter\",\"xaxis\":\"x5\",\"yaxis\":\"y5\"},{\"marker\":{\"color\":[0,1,2,3,4,5,6,7,8,9,10,11,12,13,14,15,16,17,18,19,20,21,22,23,24,25,26,27,28,29,30,31,32,33,34,35,36,37,38,39,40,41,42,43,44,45,46,47,48,49,50,51,52,53,54,55,56,57,58,59,60,61,62,63,64,65,66,67,68,69,70,71,72,73,74,75,76,77,78,79,80,81,82,83,84,85,86,87,88,89,90,91,92,93,94,95,96,97,98,99],\"colorbar\":{\"title\":{\"text\":\"Trial\"},\"x\":1.0,\"xpad\":40},\"colorscale\":[[0.0,\"rgb(247,251,255)\"],[0.125,\"rgb(222,235,247)\"],[0.25,\"rgb(198,219,239)\"],[0.375,\"rgb(158,202,225)\"],[0.5,\"rgb(107,174,214)\"],[0.625,\"rgb(66,146,198)\"],[0.75,\"rgb(33,113,181)\"],[0.875,\"rgb(8,81,156)\"],[1.0,\"rgb(8,48,107)\"]],\"line\":{\"color\":\"Grey\",\"width\":0.5},\"showscale\":false},\"mode\":\"markers\",\"name\":\"Feasible Trial\",\"showlegend\":false,\"x\":[0.0013718954047648526,0.9266804987198038,0.10139681914396642,0.00027539962630269196,0.005402986783672557,3.0450979063943838e-05,0.005419187343769838,0.1136405964526311,0.012667938633522339,0.00010492530867480933,0.01631097551887395,0.05599994400403188,0.00015330304714637064,0.00015740548557002348,0.0024460112317228064,0.023049030089403004,0.00012345334769510522,0.00030781355952310183,0.00025700625472370735,0.006815529752969084,0.046841006814636627,0.21595826819023317,0.00020894050304806944,0.001667685097089135,0.00015079254172375476,0.00018439551642494647,0.003018536612881772,0.00010528549883648992,0.18451448843841628,0.0003500105257991178,0.00010676266054369149,0.0790672541496167,0.0008024847961244736,1.3729417925219337e-05,0.0070871125521607715,0.8966968208411514,0.007389930614491009,0.0003095595738898999,0.0002196768905140377,0.03744705333013294,0.0001498361313232705,0.48662326704070297,0.0014076262125537003,0.45070180113403735,0.03594793739565773,0.001727999161656192,0.0005145804019503272,0.00016273407449372116,0.0009396187539481911,0.0020752082452239855,0.009251802117220218,0.3060651120102096,0.0008023481935921847,0.005215877267250146,2.355632089591351e-05,0.01700646401457288,8.791667341548169e-05,0.0025201885166778216,0.9025328696883523,0.0072753002627068,0.028988910088807107,0.3655138444827934,1.6441553423928586e-05,0.016680454415120987,4.383553506413286e-05,8.646468252878775e-05,0.025624007986197524,0.010639601235255092,0.45321786761120214,0.01893210301767004,0.045541820105747005,0.032407409570681396,0.004886035687917576,6.9773675401903e-05,0.0002994577931628791,3.029455120441029e-05,0.07804309633816553,0.0214192177247517,0.00030545523888651153,5.123926837359683e-05,0.10326974401324215,0.6209754159359121,0.0035083640392018028,0.004110020355712326,0.0014962293869339406,0.008936871473212853,0.15171772111072648,2.3487917678860135e-05,0.05304209581958482,0.2260496879820698,0.0007026546322933692,0.002611326653652335,0.10907314176464473,6.0494771447510596e-05,0.0016775414674122502,0.9168103042096023,0.0001393595509759378,0.0016398921822246646,0.1589660165295701,0.00018902694950399506],\"y\":[1.2253651671962258,1.0886760006421088,1.2299367685549611,1.0322713984871954,1.0478327953424666,1.3222336702443098,1.0429666578601564,1.1573608435909424,1.1521700602731288,1.0535772981571168,1.2662574471580461,1.1587908693915672,0.95716120779985,1.163632601336601,1.1005189813487375,1.042223361191775,1.1036266126335,1.2164549670538352,1.1874901842839116,1.1205273432940805,1.2230883082245456,1.1105388045652826,1.0435636964418058,1.0252866065944646,1.1607871015066702,1.1275452514641364,1.0954060856217458,0.9994573640880674,1.2223153721400337,1.133033399546282,1.2446066559097837,1.0504895214332977,1.0209942426667096,1.020801490869592,1.089700879915049,1.2326109175530076,1.152344982188902,1.087780518905435,1.0476824243420302,1.1100100073422383,1.14567618025675,1.2135988553426211,1.2006943503028624,1.0068953338754945,1.0288379275782153,1.2257505550031225,1.1354960709126287,1.0985877667891601,1.0818769324489963,1.1187978834102479,0.9981712286863432,1.0766639504662632,1.0031689628219282,1.1019720144146394,1.1385406753860632,1.1386316486106074,1.141948717272526,1.0706992954708419,1.04692472138216,1.115688133137732,1.050844646044364,1.18019109311829,1.0502992129243052,1.1185393404621362,1.175711577832087,1.1947145393196261,1.2072016866718578,1.1867218957593144,1.166472816300286,1.145994625052507,1.2012493414724512,1.2296036164053166,1.0985666453684029,1.0420548714138587,1.107091541373813,1.0906563577599027,1.0425939654254324,1.0049710132226557,1.1701127399518976,1.135421432716622,1.1037234468413228,0.9592992924282197,0.9514993959299727,1.2100135408602735,1.1357442089579393,1.0565774121488232,1.0262397791073283,1.0906969333769208,1.108305644084801,1.2154636930054221,1.0649589820122047,1.0196044532022985,1.1303787366328948,1.0910586695742512,1.094736776560892,1.097724315407346,1.1727357636224216,1.079338709048943,1.140249737556344,1.0532968094031294],\"type\":\"scatter\",\"xaxis\":\"x6\",\"yaxis\":\"y6\"},{\"marker\":{\"color\":[0,1,2,3,4,5,6,7,8,9,10,11,12,13,14,15,16,17,18,19,20,21,22,23,24,25,26,27,28,29,30,31,32,33,34,35,36,37,38,39,40,41,42,43,44,45,46,47,48,49,50,51,52,53,54,55,56,57,58,59,60,61,62,63,64,65,66,67,68,69,70,71,72,73,74,75,76,77,78,79,80,81,82,83,84,85,86,87,88,89,90,91,92,93,94,95,96,97,98,99],\"colorbar\":{\"title\":{\"text\":\"Trial\"},\"x\":1.0,\"xpad\":40},\"colorscale\":[[0.0,\"rgb(247,251,255)\"],[0.125,\"rgb(222,235,247)\"],[0.25,\"rgb(198,219,239)\"],[0.375,\"rgb(158,202,225)\"],[0.5,\"rgb(107,174,214)\"],[0.625,\"rgb(66,146,198)\"],[0.75,\"rgb(33,113,181)\"],[0.875,\"rgb(8,81,156)\"],[1.0,\"rgb(8,48,107)\"]],\"line\":{\"color\":\"Grey\",\"width\":0.5},\"showscale\":false},\"mode\":\"markers\",\"name\":\"Feasible Trial\",\"showlegend\":false,\"x\":[0.8582968215957516,0.7954824103619228,0.5057910973453676,0.6453042528336161,0.7424784137478403,0.5012690556127861,0.8534763097192721,0.7559194188481714,0.7169693232339172,0.927287242027379,0.7105472973299771,0.7701390174230464,0.8801981471886976,0.7092426965974418,0.8083946597663134,0.9308323700277985,0.7168533978848157,0.9486670244114604,0.5279392481943801,0.6732324260624987,0.6418931064609251,0.5477229276291571,0.7417228969458574,0.8214975195673008,0.7167895092493024,0.5985862423837117,0.8133250988256652,0.7334141653727871,0.9814073573458049,0.7568892392649167,0.8634572390100252,0.6253193267689232,0.9669974343961958,0.8050771941823052,0.7810549927883651,0.640896659158062,0.8643979397755102,0.7379051864241173,0.8693648058107502,0.6277114893120733,0.557243697195334,0.5070326324373764,0.6383020177912591,0.583534900117662,0.9696681758176697,0.5527993759271521,0.8220622217687561,0.6662244394081649,0.7021355180189364,0.679099385618829,0.566711914124362,0.927722932978353,0.7250398489548725,0.6722436679985454,0.9557535472452103,0.7440138575989793,0.9278204672369126,0.7959663840313009,0.6070730736780037,0.7627856043612139,0.7892620105079571,0.6431184949945834,0.8904917004398092,0.5379584027473465,0.7717597166976969,0.5073518539917683,0.7101595152446323,0.6003223876312661,0.6652037756089735,0.5813697334479088,0.8568563658797343,0.8752581458731136,0.5551986085176415,0.8873459538322975,0.5660535513382552,0.8975288656724788,0.8427826388003326,0.8743077129753076,0.7231263757833506,0.9426187824242456,0.835761568986187,0.9872767319371626,0.6528148108808043,0.5434598070884897,0.8123074021729286,0.7201324234530966,0.8405390891682338,0.9829176207656183,0.6717212737605,0.8378362038339879,0.5761903936042432,0.7015668678253307,0.6032817126698666,0.707273109013568,0.673187319764277,0.811984531948126,0.8058648915009878,0.8911723872482816,0.680986961528756,0.9333700523953109],\"y\":[1.2253651671962258,1.0886760006421088,1.2299367685549611,1.0322713984871954,1.0478327953424666,1.3222336702443098,1.0429666578601564,1.1573608435909424,1.1521700602731288,1.0535772981571168,1.2662574471580461,1.1587908693915672,0.95716120779985,1.163632601336601,1.1005189813487375,1.042223361191775,1.1036266126335,1.2164549670538352,1.1874901842839116,1.1205273432940805,1.2230883082245456,1.1105388045652826,1.0435636964418058,1.0252866065944646,1.1607871015066702,1.1275452514641364,1.0954060856217458,0.9994573640880674,1.2223153721400337,1.133033399546282,1.2446066559097837,1.0504895214332977,1.0209942426667096,1.020801490869592,1.089700879915049,1.2326109175530076,1.152344982188902,1.087780518905435,1.0476824243420302,1.1100100073422383,1.14567618025675,1.2135988553426211,1.2006943503028624,1.0068953338754945,1.0288379275782153,1.2257505550031225,1.1354960709126287,1.0985877667891601,1.0818769324489963,1.1187978834102479,0.9981712286863432,1.0766639504662632,1.0031689628219282,1.1019720144146394,1.1385406753860632,1.1386316486106074,1.141948717272526,1.0706992954708419,1.04692472138216,1.115688133137732,1.050844646044364,1.18019109311829,1.0502992129243052,1.1185393404621362,1.175711577832087,1.1947145393196261,1.2072016866718578,1.1867218957593144,1.166472816300286,1.145994625052507,1.2012493414724512,1.2296036164053166,1.0985666453684029,1.0420548714138587,1.107091541373813,1.0906563577599027,1.0425939654254324,1.0049710132226557,1.1701127399518976,1.135421432716622,1.1037234468413228,0.9592992924282197,0.9514993959299727,1.2100135408602735,1.1357442089579393,1.0565774121488232,1.0262397791073283,1.0906969333769208,1.108305644084801,1.2154636930054221,1.0649589820122047,1.0196044532022985,1.1303787366328948,1.0910586695742512,1.094736776560892,1.097724315407346,1.1727357636224216,1.079338709048943,1.140249737556344,1.0532968094031294],\"type\":\"scatter\",\"xaxis\":\"x7\",\"yaxis\":\"y7\"}],                        {\"template\":{\"data\":{\"histogram2dcontour\":[{\"type\":\"histogram2dcontour\",\"colorbar\":{\"outlinewidth\":0,\"ticks\":\"\"},\"colorscale\":[[0.0,\"#0d0887\"],[0.1111111111111111,\"#46039f\"],[0.2222222222222222,\"#7201a8\"],[0.3333333333333333,\"#9c179e\"],[0.4444444444444444,\"#bd3786\"],[0.5555555555555556,\"#d8576b\"],[0.6666666666666666,\"#ed7953\"],[0.7777777777777778,\"#fb9f3a\"],[0.8888888888888888,\"#fdca26\"],[1.0,\"#f0f921\"]]}],\"choropleth\":[{\"type\":\"choropleth\",\"colorbar\":{\"outlinewidth\":0,\"ticks\":\"\"}}],\"histogram2d\":[{\"type\":\"histogram2d\",\"colorbar\":{\"outlinewidth\":0,\"ticks\":\"\"},\"colorscale\":[[0.0,\"#0d0887\"],[0.1111111111111111,\"#46039f\"],[0.2222222222222222,\"#7201a8\"],[0.3333333333333333,\"#9c179e\"],[0.4444444444444444,\"#bd3786\"],[0.5555555555555556,\"#d8576b\"],[0.6666666666666666,\"#ed7953\"],[0.7777777777777778,\"#fb9f3a\"],[0.8888888888888888,\"#fdca26\"],[1.0,\"#f0f921\"]]}],\"heatmap\":[{\"type\":\"heatmap\",\"colorbar\":{\"outlinewidth\":0,\"ticks\":\"\"},\"colorscale\":[[0.0,\"#0d0887\"],[0.1111111111111111,\"#46039f\"],[0.2222222222222222,\"#7201a8\"],[0.3333333333333333,\"#9c179e\"],[0.4444444444444444,\"#bd3786\"],[0.5555555555555556,\"#d8576b\"],[0.6666666666666666,\"#ed7953\"],[0.7777777777777778,\"#fb9f3a\"],[0.8888888888888888,\"#fdca26\"],[1.0,\"#f0f921\"]]}],\"heatmapgl\":[{\"type\":\"heatmapgl\",\"colorbar\":{\"outlinewidth\":0,\"ticks\":\"\"},\"colorscale\":[[0.0,\"#0d0887\"],[0.1111111111111111,\"#46039f\"],[0.2222222222222222,\"#7201a8\"],[0.3333333333333333,\"#9c179e\"],[0.4444444444444444,\"#bd3786\"],[0.5555555555555556,\"#d8576b\"],[0.6666666666666666,\"#ed7953\"],[0.7777777777777778,\"#fb9f3a\"],[0.8888888888888888,\"#fdca26\"],[1.0,\"#f0f921\"]]}],\"contourcarpet\":[{\"type\":\"contourcarpet\",\"colorbar\":{\"outlinewidth\":0,\"ticks\":\"\"}}],\"contour\":[{\"type\":\"contour\",\"colorbar\":{\"outlinewidth\":0,\"ticks\":\"\"},\"colorscale\":[[0.0,\"#0d0887\"],[0.1111111111111111,\"#46039f\"],[0.2222222222222222,\"#7201a8\"],[0.3333333333333333,\"#9c179e\"],[0.4444444444444444,\"#bd3786\"],[0.5555555555555556,\"#d8576b\"],[0.6666666666666666,\"#ed7953\"],[0.7777777777777778,\"#fb9f3a\"],[0.8888888888888888,\"#fdca26\"],[1.0,\"#f0f921\"]]}],\"surface\":[{\"type\":\"surface\",\"colorbar\":{\"outlinewidth\":0,\"ticks\":\"\"},\"colorscale\":[[0.0,\"#0d0887\"],[0.1111111111111111,\"#46039f\"],[0.2222222222222222,\"#7201a8\"],[0.3333333333333333,\"#9c179e\"],[0.4444444444444444,\"#bd3786\"],[0.5555555555555556,\"#d8576b\"],[0.6666666666666666,\"#ed7953\"],[0.7777777777777778,\"#fb9f3a\"],[0.8888888888888888,\"#fdca26\"],[1.0,\"#f0f921\"]]}],\"mesh3d\":[{\"type\":\"mesh3d\",\"colorbar\":{\"outlinewidth\":0,\"ticks\":\"\"}}],\"scatter\":[{\"fillpattern\":{\"fillmode\":\"overlay\",\"size\":10,\"solidity\":0.2},\"type\":\"scatter\"}],\"parcoords\":[{\"type\":\"parcoords\",\"line\":{\"colorbar\":{\"outlinewidth\":0,\"ticks\":\"\"}}}],\"scatterpolargl\":[{\"type\":\"scatterpolargl\",\"marker\":{\"colorbar\":{\"outlinewidth\":0,\"ticks\":\"\"}}}],\"bar\":[{\"error_x\":{\"color\":\"#2a3f5f\"},\"error_y\":{\"color\":\"#2a3f5f\"},\"marker\":{\"line\":{\"color\":\"#E5ECF6\",\"width\":0.5},\"pattern\":{\"fillmode\":\"overlay\",\"size\":10,\"solidity\":0.2}},\"type\":\"bar\"}],\"scattergeo\":[{\"type\":\"scattergeo\",\"marker\":{\"colorbar\":{\"outlinewidth\":0,\"ticks\":\"\"}}}],\"scatterpolar\":[{\"type\":\"scatterpolar\",\"marker\":{\"colorbar\":{\"outlinewidth\":0,\"ticks\":\"\"}}}],\"histogram\":[{\"marker\":{\"pattern\":{\"fillmode\":\"overlay\",\"size\":10,\"solidity\":0.2}},\"type\":\"histogram\"}],\"scattergl\":[{\"type\":\"scattergl\",\"marker\":{\"colorbar\":{\"outlinewidth\":0,\"ticks\":\"\"}}}],\"scatter3d\":[{\"type\":\"scatter3d\",\"line\":{\"colorbar\":{\"outlinewidth\":0,\"ticks\":\"\"}},\"marker\":{\"colorbar\":{\"outlinewidth\":0,\"ticks\":\"\"}}}],\"scattermapbox\":[{\"type\":\"scattermapbox\",\"marker\":{\"colorbar\":{\"outlinewidth\":0,\"ticks\":\"\"}}}],\"scatterternary\":[{\"type\":\"scatterternary\",\"marker\":{\"colorbar\":{\"outlinewidth\":0,\"ticks\":\"\"}}}],\"scattercarpet\":[{\"type\":\"scattercarpet\",\"marker\":{\"colorbar\":{\"outlinewidth\":0,\"ticks\":\"\"}}}],\"carpet\":[{\"aaxis\":{\"endlinecolor\":\"#2a3f5f\",\"gridcolor\":\"white\",\"linecolor\":\"white\",\"minorgridcolor\":\"white\",\"startlinecolor\":\"#2a3f5f\"},\"baxis\":{\"endlinecolor\":\"#2a3f5f\",\"gridcolor\":\"white\",\"linecolor\":\"white\",\"minorgridcolor\":\"white\",\"startlinecolor\":\"#2a3f5f\"},\"type\":\"carpet\"}],\"table\":[{\"cells\":{\"fill\":{\"color\":\"#EBF0F8\"},\"line\":{\"color\":\"white\"}},\"header\":{\"fill\":{\"color\":\"#C8D4E3\"},\"line\":{\"color\":\"white\"}},\"type\":\"table\"}],\"barpolar\":[{\"marker\":{\"line\":{\"color\":\"#E5ECF6\",\"width\":0.5},\"pattern\":{\"fillmode\":\"overlay\",\"size\":10,\"solidity\":0.2}},\"type\":\"barpolar\"}],\"pie\":[{\"automargin\":true,\"type\":\"pie\"}]},\"layout\":{\"autotypenumbers\":\"strict\",\"colorway\":[\"#636efa\",\"#EF553B\",\"#00cc96\",\"#ab63fa\",\"#FFA15A\",\"#19d3f3\",\"#FF6692\",\"#B6E880\",\"#FF97FF\",\"#FECB52\"],\"font\":{\"color\":\"#2a3f5f\"},\"hovermode\":\"closest\",\"hoverlabel\":{\"align\":\"left\"},\"paper_bgcolor\":\"white\",\"plot_bgcolor\":\"#E5ECF6\",\"polar\":{\"bgcolor\":\"#E5ECF6\",\"angularaxis\":{\"gridcolor\":\"white\",\"linecolor\":\"white\",\"ticks\":\"\"},\"radialaxis\":{\"gridcolor\":\"white\",\"linecolor\":\"white\",\"ticks\":\"\"}},\"ternary\":{\"bgcolor\":\"#E5ECF6\",\"aaxis\":{\"gridcolor\":\"white\",\"linecolor\":\"white\",\"ticks\":\"\"},\"baxis\":{\"gridcolor\":\"white\",\"linecolor\":\"white\",\"ticks\":\"\"},\"caxis\":{\"gridcolor\":\"white\",\"linecolor\":\"white\",\"ticks\":\"\"}},\"coloraxis\":{\"colorbar\":{\"outlinewidth\":0,\"ticks\":\"\"}},\"colorscale\":{\"sequential\":[[0.0,\"#0d0887\"],[0.1111111111111111,\"#46039f\"],[0.2222222222222222,\"#7201a8\"],[0.3333333333333333,\"#9c179e\"],[0.4444444444444444,\"#bd3786\"],[0.5555555555555556,\"#d8576b\"],[0.6666666666666666,\"#ed7953\"],[0.7777777777777778,\"#fb9f3a\"],[0.8888888888888888,\"#fdca26\"],[1.0,\"#f0f921\"]],\"sequentialminus\":[[0.0,\"#0d0887\"],[0.1111111111111111,\"#46039f\"],[0.2222222222222222,\"#7201a8\"],[0.3333333333333333,\"#9c179e\"],[0.4444444444444444,\"#bd3786\"],[0.5555555555555556,\"#d8576b\"],[0.6666666666666666,\"#ed7953\"],[0.7777777777777778,\"#fb9f3a\"],[0.8888888888888888,\"#fdca26\"],[1.0,\"#f0f921\"]],\"diverging\":[[0,\"#8e0152\"],[0.1,\"#c51b7d\"],[0.2,\"#de77ae\"],[0.3,\"#f1b6da\"],[0.4,\"#fde0ef\"],[0.5,\"#f7f7f7\"],[0.6,\"#e6f5d0\"],[0.7,\"#b8e186\"],[0.8,\"#7fbc41\"],[0.9,\"#4d9221\"],[1,\"#276419\"]]},\"xaxis\":{\"gridcolor\":\"white\",\"linecolor\":\"white\",\"ticks\":\"\",\"title\":{\"standoff\":15},\"zerolinecolor\":\"white\",\"automargin\":true,\"zerolinewidth\":2},\"yaxis\":{\"gridcolor\":\"white\",\"linecolor\":\"white\",\"ticks\":\"\",\"title\":{\"standoff\":15},\"zerolinecolor\":\"white\",\"automargin\":true,\"zerolinewidth\":2},\"scene\":{\"xaxis\":{\"backgroundcolor\":\"#E5ECF6\",\"gridcolor\":\"white\",\"linecolor\":\"white\",\"showbackground\":true,\"ticks\":\"\",\"zerolinecolor\":\"white\",\"gridwidth\":2},\"yaxis\":{\"backgroundcolor\":\"#E5ECF6\",\"gridcolor\":\"white\",\"linecolor\":\"white\",\"showbackground\":true,\"ticks\":\"\",\"zerolinecolor\":\"white\",\"gridwidth\":2},\"zaxis\":{\"backgroundcolor\":\"#E5ECF6\",\"gridcolor\":\"white\",\"linecolor\":\"white\",\"showbackground\":true,\"ticks\":\"\",\"zerolinecolor\":\"white\",\"gridwidth\":2}},\"shapedefaults\":{\"line\":{\"color\":\"#2a3f5f\"}},\"annotationdefaults\":{\"arrowcolor\":\"#2a3f5f\",\"arrowhead\":0,\"arrowwidth\":1},\"geo\":{\"bgcolor\":\"white\",\"landcolor\":\"#E5ECF6\",\"subunitcolor\":\"white\",\"showland\":true,\"showlakes\":true,\"lakecolor\":\"white\"},\"title\":{\"x\":0.05},\"mapbox\":{\"style\":\"light\"}}},\"xaxis\":{\"anchor\":\"y\",\"domain\":[0.0,0.1183673469387755],\"title\":{\"text\":\"colsample_bytree\"}},\"yaxis\":{\"anchor\":\"x\",\"domain\":[0.0,1.0],\"title\":{\"text\":\"Objective Value\"}},\"xaxis2\":{\"anchor\":\"y2\",\"domain\":[0.14693877551020407,0.26530612244897955],\"title\":{\"text\":\"learning_rate\"},\"type\":\"log\"},\"yaxis2\":{\"anchor\":\"x2\",\"domain\":[0.0,1.0],\"matches\":\"y\",\"showticklabels\":false},\"xaxis3\":{\"anchor\":\"y3\",\"domain\":[0.29387755102040813,0.4122448979591836],\"title\":{\"text\":\"max_leaves\"}},\"yaxis3\":{\"anchor\":\"x3\",\"domain\":[0.0,1.0],\"matches\":\"y\",\"showticklabels\":false},\"xaxis4\":{\"anchor\":\"y4\",\"domain\":[0.4408163265306122,0.5591836734693877],\"title\":{\"text\":\"min_child_weight\"}},\"yaxis4\":{\"anchor\":\"x4\",\"domain\":[0.0,1.0],\"matches\":\"y\",\"showticklabels\":false},\"xaxis5\":{\"anchor\":\"y5\",\"domain\":[0.5877551020408163,0.7061224489795918],\"title\":{\"text\":\"min_split_loss\"},\"type\":\"log\"},\"yaxis5\":{\"anchor\":\"x5\",\"domain\":[0.0,1.0],\"matches\":\"y\",\"showticklabels\":false},\"xaxis6\":{\"anchor\":\"y6\",\"domain\":[0.7346938775510204,0.8530612244897959],\"title\":{\"text\":\"reg_lambda\"},\"type\":\"log\"},\"yaxis6\":{\"anchor\":\"x6\",\"domain\":[0.0,1.0],\"matches\":\"y\",\"showticklabels\":false},\"xaxis7\":{\"anchor\":\"y7\",\"domain\":[0.8816326530612244,0.9999999999999999],\"title\":{\"text\":\"subsample\"}},\"yaxis7\":{\"anchor\":\"x7\",\"domain\":[0.0,1.0],\"matches\":\"y\",\"showticklabels\":false},\"title\":{\"text\":\"Slice Plot\"},\"width\":2100},                        {\"responsive\": true}                    ).then(function(){\n",
       "                            \n",
       "var gd = document.getElementById('ed23bf8c-8ab0-461d-a75c-64b1680ecab6');\n",
       "var x = new MutationObserver(function (mutations, observer) {{\n",
       "        var display = window.getComputedStyle(gd).display;\n",
       "        if (!display || display === 'none') {{\n",
       "            console.log([gd, 'removed!']);\n",
       "            Plotly.purge(gd);\n",
       "            observer.disconnect();\n",
       "        }}\n",
       "}});\n",
       "\n",
       "// Listen for the removal of the full notebook cells\n",
       "var notebookContainer = gd.closest('#notebook-container');\n",
       "if (notebookContainer) {{\n",
       "    x.observe(notebookContainer, {childList: true});\n",
       "}}\n",
       "\n",
       "// Listen for the clearing of the current output cell\n",
       "var outputEl = gd.closest('.output');\n",
       "if (outputEl) {{\n",
       "    x.observe(outputEl, {childList: true});\n",
       "}}\n",
       "\n",
       "                        })                };                });            </script>        </div>"
      ]
     },
     "metadata": {},
     "output_type": "display_data"
    },
    {
     "data": {
      "application/vnd.plotly.v1+json": {
       "config": {
        "plotlyServerURL": "https://plot.ly"
       },
       "data": [
        {
         "dimensions": [
          {
           "label": "Objective Value",
           "range": [
            0.9514993959299727,
            1.3222336702443098
           ],
           "values": [
            1.2253651671962258,
            1.0886760006421088,
            1.2299367685549611,
            1.0322713984871954,
            1.0478327953424666,
            1.3222336702443098,
            1.0429666578601564,
            1.1573608435909424,
            1.1521700602731288,
            1.0535772981571168,
            1.2662574471580461,
            1.1587908693915672,
            0.95716120779985,
            1.163632601336601,
            1.1005189813487375,
            1.042223361191775,
            1.1036266126335,
            1.2164549670538352,
            1.1874901842839116,
            1.1205273432940805,
            1.2230883082245456,
            1.1105388045652826,
            1.0435636964418058,
            1.0252866065944646,
            1.1607871015066702,
            1.1275452514641364,
            1.0954060856217458,
            0.9994573640880674,
            1.2223153721400337,
            1.133033399546282,
            1.2446066559097837,
            1.0504895214332977,
            1.0209942426667096,
            1.020801490869592,
            1.089700879915049,
            1.2326109175530076,
            1.152344982188902,
            1.087780518905435,
            1.0476824243420302,
            1.1100100073422383,
            1.14567618025675,
            1.2135988553426211,
            1.2006943503028624,
            1.0068953338754945,
            1.0288379275782153,
            1.2257505550031225,
            1.1354960709126287,
            1.0985877667891601,
            1.0818769324489963,
            1.1187978834102479,
            0.9981712286863432,
            1.0766639504662632,
            1.0031689628219282,
            1.1019720144146394,
            1.1385406753860632,
            1.1386316486106074,
            1.141948717272526,
            1.0706992954708419,
            1.04692472138216,
            1.115688133137732,
            1.050844646044364,
            1.18019109311829,
            1.0502992129243052,
            1.1185393404621362,
            1.175711577832087,
            1.1947145393196261,
            1.2072016866718578,
            1.1867218957593144,
            1.166472816300286,
            1.145994625052507,
            1.2012493414724512,
            1.2296036164053166,
            1.0985666453684029,
            1.0420548714138587,
            1.107091541373813,
            1.0906563577599027,
            1.0425939654254324,
            1.0049710132226557,
            1.1701127399518976,
            1.135421432716622,
            1.1037234468413228,
            0.9592992924282197,
            0.9514993959299727,
            1.2100135408602735,
            1.1357442089579393,
            1.0565774121488232,
            1.0262397791073283,
            1.0906969333769208,
            1.108305644084801,
            1.2154636930054221,
            1.0649589820122047,
            1.0196044532022985,
            1.1303787366328948,
            1.0910586695742512,
            1.094736776560892,
            1.097724315407346,
            1.1727357636224216,
            1.079338709048943,
            1.140249737556344,
            1.0532968094031294
           ]
          },
          {
           "label": "colsample_bytree",
           "range": [
            0.7593675254428565,
            0.945466786373705
           ],
           "values": [
            0.8616085911995337,
            0.7720643598115076,
            0.8488435470374711,
            0.8455190454695688,
            0.9380595054356914,
            0.8534524345008889,
            0.8938734426189322,
            0.8917389881753617,
            0.8103873565793864,
            0.7674179281339989,
            0.8867589262910739,
            0.9009330409953086,
            0.8043349027476966,
            0.7748122467444005,
            0.939557307618387,
            0.8795300646745003,
            0.8629921266644325,
            0.8790386222593246,
            0.7915136840809125,
            0.945466786373705,
            0.7629339008615673,
            0.8451304353298178,
            0.9048158319419819,
            0.9182856967439836,
            0.7922135970748041,
            0.7868873093436611,
            0.8756524858077946,
            0.9421621378514469,
            0.8473336638099414,
            0.7750709129779867,
            0.7931553012658981,
            0.871194760818061,
            0.7617094790281325,
            0.827866958375296,
            0.8040538304107026,
            0.8982683452273366,
            0.8718861551869774,
            0.9098721116134901,
            0.9335804359614028,
            0.9342117488496224,
            0.8236750480551147,
            0.8396121691687095,
            0.875082274775993,
            0.9368170954032414,
            0.9160097638852538,
            0.808944576694125,
            0.8465151925080893,
            0.8709483205572892,
            0.8057054867113228,
            0.9006114161446258,
            0.7644796109593417,
            0.7593675254428565,
            0.8318184952910029,
            0.8258440469315357,
            0.7637351442324272,
            0.9333251419746185,
            0.8547391976303697,
            0.7634962884353601,
            0.844676980604469,
            0.8072803395870238,
            0.8965544800474313,
            0.826570073707559,
            0.9011845218917857,
            0.8087378941676494,
            0.9068109737942605,
            0.8565552998859203,
            0.7629939913294868,
            0.7993459801138952,
            0.9293418077949722,
            0.9076562448768364,
            0.8373770765476034,
            0.8699350809564104,
            0.8230971421701634,
            0.7692003232153882,
            0.9015845376795002,
            0.9442846303021541,
            0.8598008925628204,
            0.9094074538506127,
            0.8922949831056035,
            0.7929670343758596,
            0.9071486092646595,
            0.7816442398754532,
            0.7988915307129162,
            0.7885846065588291,
            0.8580106678539344,
            0.8754337022586987,
            0.876754914925557,
            0.8134607094945222,
            0.8258894229616439,
            0.8609148829713393,
            0.7707786194907404,
            0.8900183573046617,
            0.8427138164752371,
            0.8684281956932878,
            0.9072192320249447,
            0.9418053125090535,
            0.8637823905484616,
            0.8646055954125899,
            0.7640712759936134,
            0.9144315427702181
           ]
          },
          {
           "label": "learning_rate",
           "range": [
            -1.2948669863288789,
            -0.7036164752897641
           ],
           "ticktext": [
            "0.0507",
            "0.1",
            "0.198"
           ],
           "tickvals": [
            -1.2948669863288789,
            -1,
            -0.7036164752897641
           ],
           "values": [
            -1.048471471805205,
            -1.0993858164907793,
            -1.2071745551949618,
            -1.2481716721911447,
            -0.8761946121404971,
            -0.7036164752897641,
            -0.868347263425356,
            -1.0178290314856402,
            -0.9318958081124097,
            -1.0221610595698971,
            -0.7260504458961992,
            -1.240054305397227,
            -0.7435079204003124,
            -0.8352590475376976,
            -0.8951631149462611,
            -1.1812175571832142,
            -0.9238770497814447,
            -1.1635561880341068,
            -0.7102265210000104,
            -1.0342547123439043,
            -1.08624952941659,
            -1.2017622588791412,
            -1.0797048221525074,
            -1.0754375156929965,
            -0.7365081296046283,
            -1.0715938897924766,
            -0.9984028237581899,
            -1.0184519544077821,
            -0.9023257041362978,
            -0.93979934571452,
            -0.8350496398408437,
            -1.1910185549045575,
            -1.1061858337054156,
            -1.117314976074918,
            -0.9989225619018484,
            -0.7516842671965661,
            -0.8130560913048903,
            -1.02580686347862,
            -1.2948669863288789,
            -1.2389142569977978,
            -1.205209405412425,
            -1.1800797442927475,
            -0.8307182075661109,
            -0.9001299413007917,
            -0.7600851307385543,
            -1.0803681239234184,
            -1.1214215967099377,
            -1.1258709388809658,
            -0.7974100168871736,
            -1.0495183307796236,
            -0.7330657809646137,
            -0.7124870212307344,
            -1.091496226665172,
            -1.148797682484987,
            -0.8628145580066005,
            -1.1451075641058788,
            -1.256043652836413,
            -0.8768756712367914,
            -1.2918510670010845,
            -0.9084411074574529,
            -0.9420811838054812,
            -1.1909238619889435,
            -0.8264134354603279,
            -1.288399386836876,
            -1.146241490061649,
            -1.1303296750977694,
            -0.7243634578657608,
            -0.7709294972293577,
            -0.7219488558302062,
            -1.184131071259705,
            -1.2312548706657913,
            -1.108057093845176,
            -0.8114473929789178,
            -0.9695285179737354,
            -1.1557657286338172,
            -0.8563373900150891,
            -0.998879809670533,
            -1.0624787627643202,
            -1.2543824313434286,
            -0.9078715802563309,
            -0.9155864364811953,
            -0.7425550810605258,
            -0.8243387738364433,
            -0.7536607657233031,
            -0.9140896750601003,
            -1.013411328622244,
            -0.7187292165452317,
            -0.8364229688804219,
            -1.0466970580921253,
            -1.116114050069315,
            -0.7881755196708311,
            -1.2773548766177125,
            -0.8331868682145052,
            -0.9463758644809328,
            -1.0662101729919735,
            -0.8794845266530344,
            -1.0087682325111675,
            -1.0169923911765781,
            -0.9455337780385429,
            -1.0392171384213151
           ]
          },
          {
           "label": "max_leaves",
           "range": [
            10,
            99
           ],
           "values": [
            25,
            90,
            80,
            92,
            63,
            36,
            86,
            80,
            22,
            61,
            79,
            39,
            49,
            80,
            52,
            96,
            17,
            26,
            78,
            99,
            20,
            50,
            68,
            98,
            60,
            45,
            78,
            85,
            61,
            23,
            97,
            65,
            84,
            64,
            28,
            62,
            11,
            97,
            79,
            18,
            20,
            45,
            15,
            39,
            44,
            55,
            65,
            86,
            28,
            81,
            58,
            57,
            61,
            88,
            59,
            69,
            45,
            88,
            80,
            29,
            96,
            39,
            13,
            35,
            17,
            71,
            91,
            54,
            21,
            22,
            16,
            16,
            64,
            81,
            10,
            67,
            57,
            63,
            18,
            30,
            73,
            92,
            33,
            21,
            10,
            13,
            64,
            12,
            44,
            22,
            66,
            63,
            20,
            83,
            97,
            52,
            19,
            98,
            22,
            98
           ]
          },
          {
           "label": "min_child_weight",
           "range": [
            0.00014989222440811413,
            0.09957570119248373
           ],
           "values": [
            0.09062090000697552,
            0.00014989222440811413,
            0.05807128247569465,
            0.09616540961734298,
            0.020152010260843137,
            0.032466405620530436,
            0.07195745065939732,
            0.05055484193927053,
            0.09627436220780222,
            0.09575569520340353,
            0.09059741358709238,
            0.031329690722435764,
            0.023983100088959538,
            0.08828277719146971,
            0.05914233896993635,
            0.036278476949167575,
            0.0327446980578377,
            0.03889608295890626,
            0.009608581397880648,
            0.06290459299640624,
            0.053117992424294214,
            0.05897940473138452,
            0.04842482272570522,
            0.0020518341062332364,
            0.044429048979442096,
            0.05244470309272747,
            0.07014162423020358,
            0.026952490107305896,
            0.0018405962088782135,
            0.038835473265668954,
            0.016602752346942088,
            0.028212892173646774,
            0.03375616093523024,
            0.09492611452598529,
            0.09758136696343862,
            0.09451755797805614,
            0.0017410868414028723,
            0.07191084558877864,
            0.03470146545178998,
            0.02871796278918465,
            0.05124901159568331,
            0.02622033723512171,
            0.03035343811061913,
            0.09012864473575041,
            0.09218091862089907,
            0.013561041142924215,
            0.006046165193331535,
            0.009371151664211038,
            0.030674403857938983,
            0.06727933524465787,
            0.004457517505280005,
            0.05677224054046507,
            0.07033443376132284,
            0.04700099352211581,
            0.03224143582275578,
            0.0015101033025922794,
            0.055865764522053864,
            0.01477814416456801,
            0.042095095437267166,
            0.09957171357287237,
            0.06620448366151645,
            0.09832058178970958,
            0.09747442383213341,
            0.034765372900704875,
            0.036093248924470876,
            0.06179785176773496,
            0.04608936771113887,
            0.07464231022987858,
            0.034791640999568,
            0.03744338833926022,
            0.06465070231115405,
            0.07633558467169578,
            0.09477243929204353,
            0.003340341101669914,
            0.03843753558063368,
            0.016849159635150286,
            0.06908952621065646,
            0.03418678618736209,
            0.02964109483619971,
            0.04581124803996634,
            0.03882298885052036,
            0.054215927944658515,
            0.07821650029560907,
            0.04168141425475735,
            0.08030686012166807,
            0.04421699835832747,
            0.05056871417363918,
            0.03291718348239762,
            0.0022735825335787534,
            0.07958037739577817,
            0.016663427221383375,
            0.05758831240256832,
            0.010454920774295861,
            0.06343376367828446,
            0.006248899854930334,
            0.09957570119248373,
            0.08234574967580864,
            0.028154518173188026,
            0.08748520053485304,
            0.07238089585538549
           ]
          },
          {
           "label": "min_split_loss",
           "range": [
            -4.989597451109969,
            -3.0603011110461273
           ],
           "ticktext": [
            "1.02e-05",
            "0.0001",
            "0.00087"
           ],
           "tickvals": [
            -4.989597451109969,
            -4,
            -3.0603011110461273
           ],
           "values": [
            -4.060316411744786,
            -4.004632218285693,
            -3.6095906263204607,
            -3.9180136468279505,
            -4.360017118595772,
            -4.573632882546047,
            -4.437170727186967,
            -3.347570559779262,
            -4.904260007949043,
            -4.841264941646151,
            -4.287348057509142,
            -4.210311898683892,
            -4.989597451109969,
            -4.821427846262858,
            -4.532460950259168,
            -4.228093005112232,
            -4.429747454906057,
            -4.7136408427249314,
            -4.941860260788803,
            -3.3930494952990804,
            -3.8217629110146376,
            -3.5140443978679037,
            -3.6480342447996263,
            -3.0705598290094698,
            -4.8277236831176635,
            -3.0603011110461273,
            -3.9400199595530014,
            -4.890863726393858,
            -3.7256672821711234,
            -4.977943785626615,
            -3.2545099533367785,
            -4.699712655266603,
            -4.34854800404111,
            -3.3908734102012836,
            -4.434790972376617,
            -3.697872884645464,
            -3.7271257311087047,
            -3.0654575483245545,
            -3.3343186537842793,
            -3.556201332311939,
            -4.170652083842542,
            -4.792905213106387,
            -4.0799461071434635,
            -4.583698498867841,
            -4.914364060430143,
            -3.4966723466847047,
            -4.953690059200088,
            -4.645379365239946,
            -3.2066215507345106,
            -3.853054878086062,
            -4.002929113946055,
            -4.103053362523037,
            -4.205594288237525,
            -3.939473912882645,
            -3.0853741981986835,
            -3.6675160215146887,
            -3.098836279300966,
            -3.327870568522522,
            -3.533604089255353,
            -4.324172141515733,
            -4.373116936493646,
            -3.0900982356017574,
            -3.561579934172612,
            -3.6093430768670274,
            -3.203132581435668,
            -4.602604009082399,
            -4.522303682199888,
            -3.6933505522390675,
            -4.322075591940121,
            -3.6760146603551256,
            -3.0752268230649418,
            -3.2250923967808656,
            -4.495737213240899,
            -4.455468521153842,
            -3.1823044734024073,
            -3.998795020490659,
            -3.8387872848661355,
            -3.726203728659993,
            -4.667949262945537,
            -3.174155701955146,
            -3.386652951772747,
            -4.101623486702242,
            -4.510477266640332,
            -3.084323909881583,
            -3.114097579934529,
            -3.7684785569390264,
            -3.4614006583495645,
            -3.1645805895725942,
            -3.582802520967013,
            -4.690253333469028,
            -3.5569727835561706,
            -4.771489869434853,
            -4.901249640728012,
            -4.410474628152437,
            -3.692333184829623,
            -3.820264763673243,
            -4.966939262641362,
            -3.8046523910220116,
            -3.1233543080442563,
            -3.1500432517025705
           ]
          },
          {
           "label": "reg_lambda",
           "range": [
            -4.862347874797034,
            -0.03306997627692681
           ],
           "ticktext": [
            "1.37e-05",
            "0.0001",
            "0.001",
            "0.01",
            "0.1",
            "0.927"
           ],
           "tickvals": [
            -4.862347874797034,
            -4,
            -3,
            -2,
            -1,
            -0.03306997627692681
           ],
           "values": [
            -2.8626789985892174,
            -0.03306997627692681,
            -0.9939756687688648,
            -3.560036653384792,
            -2.2673660947937857,
            -4.516398739312466,
            -2.266065834970433,
            -0.9444664955104656,
            -1.8972940491197636,
            -3.979119744484171,
            -1.78752006411027,
            -1.2518124072572303,
            -3.8144492127535683,
            -3.8029801365812848,
            -2.611541553078949,
            -1.6373473451412646,
            -3.908497128771348,
            -3.5117122529374387,
            -3.5900563071786764,
            -2.1665003819643487,
            -1.3293737786436173,
            -0.6656301638755548,
            -3.6799773640156968,
            -2.777885952204104,
            -3.821620138362266,
            -3.734249643019796,
            -2.5202035520695487,
            -3.977631440865565,
            -0.7339695265140846,
            -3.4559188949990447,
            -3.9715806120571897,
            -1.1020033431346608,
            -3.095563186987631,
            -4.862347874797034,
            -2.1495306700472594,
            -0.04735436999079767,
            -2.1313596392621625,
            -3.509255759820171,
            -3.6582156274222895,
            -1.426582350803285,
            -3.8243834487044013,
            -0.3128071298774296,
            -2.8515126544104232,
            -0.3461107063598843,
            -1.4443260233167723,
            -2.7624564725563028,
            -3.2885467581313192,
            -3.788521501671674,
            -3.027048323679306,
            -2.6829383157163536,
            -2.033773664738251,
            -0.5141861722810632,
            -3.0956371208193887,
            -2.2826726363679923,
            -4.627892538136744,
            -1.7693859755464665,
            -4.055928753075832,
            -2.598566971642766,
            -0.04453697239812214,
            -2.138149077978386,
            -1.5377681127345153,
            -0.4370961687235983,
            -4.784057152029025,
            -1.7777921223258957,
            -4.358173688003629,
            -4.063161248777526,
            -1.5913529389882803,
            -1.9730746487866104,
            -0.3436929768933998,
            -1.7228011410155843,
            -1.3415896165384746,
            -1.4893556821464524,
            -2.3110433652362885,
            -4.156308399498661,
            -3.5236643802468466,
            -4.51863547693183,
            -1.1076655084227873,
            -1.6691963945698758,
            -3.515052421849726,
            -4.290397080012014,
            -0.9860268995141296,
            -0.20692559295500765,
            -2.4548953491675247,
            -2.3861560271867908,
            -2.8250018196782714,
            -2.048814487883333,
            -0.8189636892784306,
            -4.62915548388934,
            -1.2753793242545206,
            -0.6457960880889165,
            -3.153258086281629,
            -2.583138798416282,
            -0.9622821771789628,
            -4.218282159721434,
            -2.775326735632453,
            -0.03772051422897307,
            -3.8558632616546284,
            -2.785184704515798,
            -0.7986957084539494,
            -3.723476274204976
           ]
          },
          {
           "label": "subsample",
           "range": [
            0.5012690556127861,
            0.9872767319371626
           ],
           "values": [
            0.8582968215957516,
            0.7954824103619228,
            0.5057910973453676,
            0.6453042528336161,
            0.7424784137478403,
            0.5012690556127861,
            0.8534763097192721,
            0.7559194188481714,
            0.7169693232339172,
            0.927287242027379,
            0.7105472973299771,
            0.7701390174230464,
            0.8801981471886976,
            0.7092426965974418,
            0.8083946597663134,
            0.9308323700277985,
            0.7168533978848157,
            0.9486670244114604,
            0.5279392481943801,
            0.6732324260624987,
            0.6418931064609251,
            0.5477229276291571,
            0.7417228969458574,
            0.8214975195673008,
            0.7167895092493024,
            0.5985862423837117,
            0.8133250988256652,
            0.7334141653727871,
            0.9814073573458049,
            0.7568892392649167,
            0.8634572390100252,
            0.6253193267689232,
            0.9669974343961958,
            0.8050771941823052,
            0.7810549927883651,
            0.640896659158062,
            0.8643979397755102,
            0.7379051864241173,
            0.8693648058107502,
            0.6277114893120733,
            0.557243697195334,
            0.5070326324373764,
            0.6383020177912591,
            0.583534900117662,
            0.9696681758176697,
            0.5527993759271521,
            0.8220622217687561,
            0.6662244394081649,
            0.7021355180189364,
            0.679099385618829,
            0.566711914124362,
            0.927722932978353,
            0.7250398489548725,
            0.6722436679985454,
            0.9557535472452103,
            0.7440138575989793,
            0.9278204672369126,
            0.7959663840313009,
            0.6070730736780037,
            0.7627856043612139,
            0.7892620105079571,
            0.6431184949945834,
            0.8904917004398092,
            0.5379584027473465,
            0.7717597166976969,
            0.5073518539917683,
            0.7101595152446323,
            0.6003223876312661,
            0.6652037756089735,
            0.5813697334479088,
            0.8568563658797343,
            0.8752581458731136,
            0.5551986085176415,
            0.8873459538322975,
            0.5660535513382552,
            0.8975288656724788,
            0.8427826388003326,
            0.8743077129753076,
            0.7231263757833506,
            0.9426187824242456,
            0.835761568986187,
            0.9872767319371626,
            0.6528148108808043,
            0.5434598070884897,
            0.8123074021729286,
            0.7201324234530966,
            0.8405390891682338,
            0.9829176207656183,
            0.6717212737605,
            0.8378362038339879,
            0.5761903936042432,
            0.7015668678253307,
            0.6032817126698666,
            0.707273109013568,
            0.673187319764277,
            0.811984531948126,
            0.8058648915009878,
            0.8911723872482816,
            0.680986961528756,
            0.9333700523953109
           ]
          }
         ],
         "labelangle": 30,
         "labelside": "bottom",
         "line": {
          "color": [
           1.2253651671962258,
           1.0886760006421088,
           1.2299367685549611,
           1.0322713984871954,
           1.0478327953424666,
           1.3222336702443098,
           1.0429666578601564,
           1.1573608435909424,
           1.1521700602731288,
           1.0535772981571168,
           1.2662574471580461,
           1.1587908693915672,
           0.95716120779985,
           1.163632601336601,
           1.1005189813487375,
           1.042223361191775,
           1.1036266126335,
           1.2164549670538352,
           1.1874901842839116,
           1.1205273432940805,
           1.2230883082245456,
           1.1105388045652826,
           1.0435636964418058,
           1.0252866065944646,
           1.1607871015066702,
           1.1275452514641364,
           1.0954060856217458,
           0.9994573640880674,
           1.2223153721400337,
           1.133033399546282,
           1.2446066559097837,
           1.0504895214332977,
           1.0209942426667096,
           1.020801490869592,
           1.089700879915049,
           1.2326109175530076,
           1.152344982188902,
           1.087780518905435,
           1.0476824243420302,
           1.1100100073422383,
           1.14567618025675,
           1.2135988553426211,
           1.2006943503028624,
           1.0068953338754945,
           1.0288379275782153,
           1.2257505550031225,
           1.1354960709126287,
           1.0985877667891601,
           1.0818769324489963,
           1.1187978834102479,
           0.9981712286863432,
           1.0766639504662632,
           1.0031689628219282,
           1.1019720144146394,
           1.1385406753860632,
           1.1386316486106074,
           1.141948717272526,
           1.0706992954708419,
           1.04692472138216,
           1.115688133137732,
           1.050844646044364,
           1.18019109311829,
           1.0502992129243052,
           1.1185393404621362,
           1.175711577832087,
           1.1947145393196261,
           1.2072016866718578,
           1.1867218957593144,
           1.166472816300286,
           1.145994625052507,
           1.2012493414724512,
           1.2296036164053166,
           1.0985666453684029,
           1.0420548714138587,
           1.107091541373813,
           1.0906563577599027,
           1.0425939654254324,
           1.0049710132226557,
           1.1701127399518976,
           1.135421432716622,
           1.1037234468413228,
           0.9592992924282197,
           0.9514993959299727,
           1.2100135408602735,
           1.1357442089579393,
           1.0565774121488232,
           1.0262397791073283,
           1.0906969333769208,
           1.108305644084801,
           1.2154636930054221,
           1.0649589820122047,
           1.0196044532022985,
           1.1303787366328948,
           1.0910586695742512,
           1.094736776560892,
           1.097724315407346,
           1.1727357636224216,
           1.079338709048943,
           1.140249737556344,
           1.0532968094031294
          ],
          "colorbar": {
           "title": {
            "text": "Objective Value"
           }
          },
          "colorscale": [
           [
            0,
            "rgb(247,251,255)"
           ],
           [
            0.125,
            "rgb(222,235,247)"
           ],
           [
            0.25,
            "rgb(198,219,239)"
           ],
           [
            0.375,
            "rgb(158,202,225)"
           ],
           [
            0.5,
            "rgb(107,174,214)"
           ],
           [
            0.625,
            "rgb(66,146,198)"
           ],
           [
            0.75,
            "rgb(33,113,181)"
           ],
           [
            0.875,
            "rgb(8,81,156)"
           ],
           [
            1,
            "rgb(8,48,107)"
           ]
          ],
          "reversescale": true,
          "showscale": true
         },
         "type": "parcoords"
        }
       ],
       "layout": {
        "autosize": true,
        "template": {
         "data": {
          "bar": [
           {
            "error_x": {
             "color": "#2a3f5f"
            },
            "error_y": {
             "color": "#2a3f5f"
            },
            "marker": {
             "line": {
              "color": "#E5ECF6",
              "width": 0.5
             },
             "pattern": {
              "fillmode": "overlay",
              "size": 10,
              "solidity": 0.2
             }
            },
            "type": "bar"
           }
          ],
          "barpolar": [
           {
            "marker": {
             "line": {
              "color": "#E5ECF6",
              "width": 0.5
             },
             "pattern": {
              "fillmode": "overlay",
              "size": 10,
              "solidity": 0.2
             }
            },
            "type": "barpolar"
           }
          ],
          "carpet": [
           {
            "aaxis": {
             "endlinecolor": "#2a3f5f",
             "gridcolor": "white",
             "linecolor": "white",
             "minorgridcolor": "white",
             "startlinecolor": "#2a3f5f"
            },
            "baxis": {
             "endlinecolor": "#2a3f5f",
             "gridcolor": "white",
             "linecolor": "white",
             "minorgridcolor": "white",
             "startlinecolor": "#2a3f5f"
            },
            "type": "carpet"
           }
          ],
          "choropleth": [
           {
            "colorbar": {
             "outlinewidth": 0,
             "ticks": ""
            },
            "type": "choropleth"
           }
          ],
          "contour": [
           {
            "colorbar": {
             "outlinewidth": 0,
             "ticks": ""
            },
            "colorscale": [
             [
              0,
              "#0d0887"
             ],
             [
              0.1111111111111111,
              "#46039f"
             ],
             [
              0.2222222222222222,
              "#7201a8"
             ],
             [
              0.3333333333333333,
              "#9c179e"
             ],
             [
              0.4444444444444444,
              "#bd3786"
             ],
             [
              0.5555555555555556,
              "#d8576b"
             ],
             [
              0.6666666666666666,
              "#ed7953"
             ],
             [
              0.7777777777777778,
              "#fb9f3a"
             ],
             [
              0.8888888888888888,
              "#fdca26"
             ],
             [
              1,
              "#f0f921"
             ]
            ],
            "type": "contour"
           }
          ],
          "contourcarpet": [
           {
            "colorbar": {
             "outlinewidth": 0,
             "ticks": ""
            },
            "type": "contourcarpet"
           }
          ],
          "heatmap": [
           {
            "colorbar": {
             "outlinewidth": 0,
             "ticks": ""
            },
            "colorscale": [
             [
              0,
              "#0d0887"
             ],
             [
              0.1111111111111111,
              "#46039f"
             ],
             [
              0.2222222222222222,
              "#7201a8"
             ],
             [
              0.3333333333333333,
              "#9c179e"
             ],
             [
              0.4444444444444444,
              "#bd3786"
             ],
             [
              0.5555555555555556,
              "#d8576b"
             ],
             [
              0.6666666666666666,
              "#ed7953"
             ],
             [
              0.7777777777777778,
              "#fb9f3a"
             ],
             [
              0.8888888888888888,
              "#fdca26"
             ],
             [
              1,
              "#f0f921"
             ]
            ],
            "type": "heatmap"
           }
          ],
          "heatmapgl": [
           {
            "colorbar": {
             "outlinewidth": 0,
             "ticks": ""
            },
            "colorscale": [
             [
              0,
              "#0d0887"
             ],
             [
              0.1111111111111111,
              "#46039f"
             ],
             [
              0.2222222222222222,
              "#7201a8"
             ],
             [
              0.3333333333333333,
              "#9c179e"
             ],
             [
              0.4444444444444444,
              "#bd3786"
             ],
             [
              0.5555555555555556,
              "#d8576b"
             ],
             [
              0.6666666666666666,
              "#ed7953"
             ],
             [
              0.7777777777777778,
              "#fb9f3a"
             ],
             [
              0.8888888888888888,
              "#fdca26"
             ],
             [
              1,
              "#f0f921"
             ]
            ],
            "type": "heatmapgl"
           }
          ],
          "histogram": [
           {
            "marker": {
             "pattern": {
              "fillmode": "overlay",
              "size": 10,
              "solidity": 0.2
             }
            },
            "type": "histogram"
           }
          ],
          "histogram2d": [
           {
            "colorbar": {
             "outlinewidth": 0,
             "ticks": ""
            },
            "colorscale": [
             [
              0,
              "#0d0887"
             ],
             [
              0.1111111111111111,
              "#46039f"
             ],
             [
              0.2222222222222222,
              "#7201a8"
             ],
             [
              0.3333333333333333,
              "#9c179e"
             ],
             [
              0.4444444444444444,
              "#bd3786"
             ],
             [
              0.5555555555555556,
              "#d8576b"
             ],
             [
              0.6666666666666666,
              "#ed7953"
             ],
             [
              0.7777777777777778,
              "#fb9f3a"
             ],
             [
              0.8888888888888888,
              "#fdca26"
             ],
             [
              1,
              "#f0f921"
             ]
            ],
            "type": "histogram2d"
           }
          ],
          "histogram2dcontour": [
           {
            "colorbar": {
             "outlinewidth": 0,
             "ticks": ""
            },
            "colorscale": [
             [
              0,
              "#0d0887"
             ],
             [
              0.1111111111111111,
              "#46039f"
             ],
             [
              0.2222222222222222,
              "#7201a8"
             ],
             [
              0.3333333333333333,
              "#9c179e"
             ],
             [
              0.4444444444444444,
              "#bd3786"
             ],
             [
              0.5555555555555556,
              "#d8576b"
             ],
             [
              0.6666666666666666,
              "#ed7953"
             ],
             [
              0.7777777777777778,
              "#fb9f3a"
             ],
             [
              0.8888888888888888,
              "#fdca26"
             ],
             [
              1,
              "#f0f921"
             ]
            ],
            "type": "histogram2dcontour"
           }
          ],
          "mesh3d": [
           {
            "colorbar": {
             "outlinewidth": 0,
             "ticks": ""
            },
            "type": "mesh3d"
           }
          ],
          "parcoords": [
           {
            "line": {
             "colorbar": {
              "outlinewidth": 0,
              "ticks": ""
             }
            },
            "type": "parcoords"
           }
          ],
          "pie": [
           {
            "automargin": true,
            "type": "pie"
           }
          ],
          "scatter": [
           {
            "fillpattern": {
             "fillmode": "overlay",
             "size": 10,
             "solidity": 0.2
            },
            "type": "scatter"
           }
          ],
          "scatter3d": [
           {
            "line": {
             "colorbar": {
              "outlinewidth": 0,
              "ticks": ""
             }
            },
            "marker": {
             "colorbar": {
              "outlinewidth": 0,
              "ticks": ""
             }
            },
            "type": "scatter3d"
           }
          ],
          "scattercarpet": [
           {
            "marker": {
             "colorbar": {
              "outlinewidth": 0,
              "ticks": ""
             }
            },
            "type": "scattercarpet"
           }
          ],
          "scattergeo": [
           {
            "marker": {
             "colorbar": {
              "outlinewidth": 0,
              "ticks": ""
             }
            },
            "type": "scattergeo"
           }
          ],
          "scattergl": [
           {
            "marker": {
             "colorbar": {
              "outlinewidth": 0,
              "ticks": ""
             }
            },
            "type": "scattergl"
           }
          ],
          "scattermapbox": [
           {
            "marker": {
             "colorbar": {
              "outlinewidth": 0,
              "ticks": ""
             }
            },
            "type": "scattermapbox"
           }
          ],
          "scatterpolar": [
           {
            "marker": {
             "colorbar": {
              "outlinewidth": 0,
              "ticks": ""
             }
            },
            "type": "scatterpolar"
           }
          ],
          "scatterpolargl": [
           {
            "marker": {
             "colorbar": {
              "outlinewidth": 0,
              "ticks": ""
             }
            },
            "type": "scatterpolargl"
           }
          ],
          "scatterternary": [
           {
            "marker": {
             "colorbar": {
              "outlinewidth": 0,
              "ticks": ""
             }
            },
            "type": "scatterternary"
           }
          ],
          "surface": [
           {
            "colorbar": {
             "outlinewidth": 0,
             "ticks": ""
            },
            "colorscale": [
             [
              0,
              "#0d0887"
             ],
             [
              0.1111111111111111,
              "#46039f"
             ],
             [
              0.2222222222222222,
              "#7201a8"
             ],
             [
              0.3333333333333333,
              "#9c179e"
             ],
             [
              0.4444444444444444,
              "#bd3786"
             ],
             [
              0.5555555555555556,
              "#d8576b"
             ],
             [
              0.6666666666666666,
              "#ed7953"
             ],
             [
              0.7777777777777778,
              "#fb9f3a"
             ],
             [
              0.8888888888888888,
              "#fdca26"
             ],
             [
              1,
              "#f0f921"
             ]
            ],
            "type": "surface"
           }
          ],
          "table": [
           {
            "cells": {
             "fill": {
              "color": "#EBF0F8"
             },
             "line": {
              "color": "white"
             }
            },
            "header": {
             "fill": {
              "color": "#C8D4E3"
             },
             "line": {
              "color": "white"
             }
            },
            "type": "table"
           }
          ]
         },
         "layout": {
          "annotationdefaults": {
           "arrowcolor": "#2a3f5f",
           "arrowhead": 0,
           "arrowwidth": 1
          },
          "autotypenumbers": "strict",
          "coloraxis": {
           "colorbar": {
            "outlinewidth": 0,
            "ticks": ""
           }
          },
          "colorscale": {
           "diverging": [
            [
             0,
             "#8e0152"
            ],
            [
             0.1,
             "#c51b7d"
            ],
            [
             0.2,
             "#de77ae"
            ],
            [
             0.3,
             "#f1b6da"
            ],
            [
             0.4,
             "#fde0ef"
            ],
            [
             0.5,
             "#f7f7f7"
            ],
            [
             0.6,
             "#e6f5d0"
            ],
            [
             0.7,
             "#b8e186"
            ],
            [
             0.8,
             "#7fbc41"
            ],
            [
             0.9,
             "#4d9221"
            ],
            [
             1,
             "#276419"
            ]
           ],
           "sequential": [
            [
             0,
             "#0d0887"
            ],
            [
             0.1111111111111111,
             "#46039f"
            ],
            [
             0.2222222222222222,
             "#7201a8"
            ],
            [
             0.3333333333333333,
             "#9c179e"
            ],
            [
             0.4444444444444444,
             "#bd3786"
            ],
            [
             0.5555555555555556,
             "#d8576b"
            ],
            [
             0.6666666666666666,
             "#ed7953"
            ],
            [
             0.7777777777777778,
             "#fb9f3a"
            ],
            [
             0.8888888888888888,
             "#fdca26"
            ],
            [
             1,
             "#f0f921"
            ]
           ],
           "sequentialminus": [
            [
             0,
             "#0d0887"
            ],
            [
             0.1111111111111111,
             "#46039f"
            ],
            [
             0.2222222222222222,
             "#7201a8"
            ],
            [
             0.3333333333333333,
             "#9c179e"
            ],
            [
             0.4444444444444444,
             "#bd3786"
            ],
            [
             0.5555555555555556,
             "#d8576b"
            ],
            [
             0.6666666666666666,
             "#ed7953"
            ],
            [
             0.7777777777777778,
             "#fb9f3a"
            ],
            [
             0.8888888888888888,
             "#fdca26"
            ],
            [
             1,
             "#f0f921"
            ]
           ]
          },
          "colorway": [
           "#636efa",
           "#EF553B",
           "#00cc96",
           "#ab63fa",
           "#FFA15A",
           "#19d3f3",
           "#FF6692",
           "#B6E880",
           "#FF97FF",
           "#FECB52"
          ],
          "font": {
           "color": "#2a3f5f"
          },
          "geo": {
           "bgcolor": "white",
           "lakecolor": "white",
           "landcolor": "#E5ECF6",
           "showlakes": true,
           "showland": true,
           "subunitcolor": "white"
          },
          "hoverlabel": {
           "align": "left"
          },
          "hovermode": "closest",
          "mapbox": {
           "style": "light"
          },
          "paper_bgcolor": "white",
          "plot_bgcolor": "#E5ECF6",
          "polar": {
           "angularaxis": {
            "gridcolor": "white",
            "linecolor": "white",
            "ticks": ""
           },
           "bgcolor": "#E5ECF6",
           "radialaxis": {
            "gridcolor": "white",
            "linecolor": "white",
            "ticks": ""
           }
          },
          "scene": {
           "xaxis": {
            "backgroundcolor": "#E5ECF6",
            "gridcolor": "white",
            "gridwidth": 2,
            "linecolor": "white",
            "showbackground": true,
            "ticks": "",
            "zerolinecolor": "white"
           },
           "yaxis": {
            "backgroundcolor": "#E5ECF6",
            "gridcolor": "white",
            "gridwidth": 2,
            "linecolor": "white",
            "showbackground": true,
            "ticks": "",
            "zerolinecolor": "white"
           },
           "zaxis": {
            "backgroundcolor": "#E5ECF6",
            "gridcolor": "white",
            "gridwidth": 2,
            "linecolor": "white",
            "showbackground": true,
            "ticks": "",
            "zerolinecolor": "white"
           }
          },
          "shapedefaults": {
           "line": {
            "color": "#2a3f5f"
           }
          },
          "ternary": {
           "aaxis": {
            "gridcolor": "white",
            "linecolor": "white",
            "ticks": ""
           },
           "baxis": {
            "gridcolor": "white",
            "linecolor": "white",
            "ticks": ""
           },
           "bgcolor": "#E5ECF6",
           "caxis": {
            "gridcolor": "white",
            "linecolor": "white",
            "ticks": ""
           }
          },
          "title": {
           "x": 0.05
          },
          "xaxis": {
           "automargin": true,
           "gridcolor": "white",
           "linecolor": "white",
           "ticks": "",
           "title": {
            "standoff": 15
           },
           "zerolinecolor": "white",
           "zerolinewidth": 2
          },
          "yaxis": {
           "automargin": true,
           "gridcolor": "white",
           "linecolor": "white",
           "ticks": "",
           "title": {
            "standoff": 15
           },
           "zerolinecolor": "white",
           "zerolinewidth": 2
          }
         }
        },
        "title": {
         "text": "Parallel Coordinate Plot"
        }
       }
      },
      "image/png": "[encoded data removed]",
      "text/html": [
       "<div>                            <div id=\"e1b669f3-8b6b-42c2-bc8f-50e67ac65324\" class=\"plotly-graph-div\" style=\"height:525px; width:100%;\"></div>            <script type=\"text/javascript\">                require([\"plotly\"], function(Plotly) {                    window.PLOTLYENV=window.PLOTLYENV || {};                                    if (document.getElementById(\"e1b669f3-8b6b-42c2-bc8f-50e67ac65324\")) {                    Plotly.newPlot(                        \"e1b669f3-8b6b-42c2-bc8f-50e67ac65324\",                        [{\"dimensions\":[{\"label\":\"Objective Value\",\"range\":[0.9514993959299727,1.3222336702443098],\"values\":[1.2253651671962258,1.0886760006421088,1.2299367685549611,1.0322713984871954,1.0478327953424666,1.3222336702443098,1.0429666578601564,1.1573608435909424,1.1521700602731288,1.0535772981571168,1.2662574471580461,1.1587908693915672,0.95716120779985,1.163632601336601,1.1005189813487375,1.042223361191775,1.1036266126335,1.2164549670538352,1.1874901842839116,1.1205273432940805,1.2230883082245456,1.1105388045652826,1.0435636964418058,1.0252866065944646,1.1607871015066702,1.1275452514641364,1.0954060856217458,0.9994573640880674,1.2223153721400337,1.133033399546282,1.2446066559097837,1.0504895214332977,1.0209942426667096,1.020801490869592,1.089700879915049,1.2326109175530076,1.152344982188902,1.087780518905435,1.0476824243420302,1.1100100073422383,1.14567618025675,1.2135988553426211,1.2006943503028624,1.0068953338754945,1.0288379275782153,1.2257505550031225,1.1354960709126287,1.0985877667891601,1.0818769324489963,1.1187978834102479,0.9981712286863432,1.0766639504662632,1.0031689628219282,1.1019720144146394,1.1385406753860632,1.1386316486106074,1.141948717272526,1.0706992954708419,1.04692472138216,1.115688133137732,1.050844646044364,1.18019109311829,1.0502992129243052,1.1185393404621362,1.175711577832087,1.1947145393196261,1.2072016866718578,1.1867218957593144,1.166472816300286,1.145994625052507,1.2012493414724512,1.2296036164053166,1.0985666453684029,1.0420548714138587,1.107091541373813,1.0906563577599027,1.0425939654254324,1.0049710132226557,1.1701127399518976,1.135421432716622,1.1037234468413228,0.9592992924282197,0.9514993959299727,1.2100135408602735,1.1357442089579393,1.0565774121488232,1.0262397791073283,1.0906969333769208,1.108305644084801,1.2154636930054221,1.0649589820122047,1.0196044532022985,1.1303787366328948,1.0910586695742512,1.094736776560892,1.097724315407346,1.1727357636224216,1.079338709048943,1.140249737556344,1.0532968094031294]},{\"label\":\"colsample_bytree\",\"range\":[0.7593675254428565,0.945466786373705],\"values\":[0.8616085911995337,0.7720643598115076,0.8488435470374711,0.8455190454695688,0.9380595054356914,0.8534524345008889,0.8938734426189322,0.8917389881753617,0.8103873565793864,0.7674179281339989,0.8867589262910739,0.9009330409953086,0.8043349027476966,0.7748122467444005,0.939557307618387,0.8795300646745003,0.8629921266644325,0.8790386222593246,0.7915136840809125,0.945466786373705,0.7629339008615673,0.8451304353298178,0.9048158319419819,0.9182856967439836,0.7922135970748041,0.7868873093436611,0.8756524858077946,0.9421621378514469,0.8473336638099414,0.7750709129779867,0.7931553012658981,0.871194760818061,0.7617094790281325,0.827866958375296,0.8040538304107026,0.8982683452273366,0.8718861551869774,0.9098721116134901,0.9335804359614028,0.9342117488496224,0.8236750480551147,0.8396121691687095,0.875082274775993,0.9368170954032414,0.9160097638852538,0.808944576694125,0.8465151925080893,0.8709483205572892,0.8057054867113228,0.9006114161446258,0.7644796109593417,0.7593675254428565,0.8318184952910029,0.8258440469315357,0.7637351442324272,0.9333251419746185,0.8547391976303697,0.7634962884353601,0.844676980604469,0.8072803395870238,0.8965544800474313,0.826570073707559,0.9011845218917857,0.8087378941676494,0.9068109737942605,0.8565552998859203,0.7629939913294868,0.7993459801138952,0.9293418077949722,0.9076562448768364,0.8373770765476034,0.8699350809564104,0.8230971421701634,0.7692003232153882,0.9015845376795002,0.9442846303021541,0.8598008925628204,0.9094074538506127,0.8922949831056035,0.7929670343758596,0.9071486092646595,0.7816442398754532,0.7988915307129162,0.7885846065588291,0.8580106678539344,0.8754337022586987,0.876754914925557,0.8134607094945222,0.8258894229616439,0.8609148829713393,0.7707786194907404,0.8900183573046617,0.8427138164752371,0.8684281956932878,0.9072192320249447,0.9418053125090535,0.8637823905484616,0.8646055954125899,0.7640712759936134,0.9144315427702181]},{\"label\":\"learning_rate\",\"range\":[-1.2948669863288789,-0.7036164752897641],\"ticktext\":[\"0.0507\",\"0.1\",\"0.198\"],\"tickvals\":[-1.2948669863288789,-1,-0.7036164752897641],\"values\":[-1.048471471805205,-1.0993858164907793,-1.2071745551949618,-1.2481716721911447,-0.8761946121404971,-0.7036164752897641,-0.868347263425356,-1.0178290314856402,-0.9318958081124097,-1.0221610595698971,-0.7260504458961992,-1.240054305397227,-0.7435079204003124,-0.8352590475376976,-0.8951631149462611,-1.1812175571832142,-0.9238770497814447,-1.1635561880341068,-0.7102265210000104,-1.0342547123439043,-1.08624952941659,-1.2017622588791412,-1.0797048221525074,-1.0754375156929965,-0.7365081296046283,-1.0715938897924766,-0.9984028237581899,-1.0184519544077821,-0.9023257041362978,-0.93979934571452,-0.8350496398408437,-1.1910185549045575,-1.1061858337054156,-1.117314976074918,-0.9989225619018484,-0.7516842671965661,-0.8130560913048903,-1.02580686347862,-1.2948669863288789,-1.2389142569977978,-1.205209405412425,-1.1800797442927475,-0.8307182075661109,-0.9001299413007917,-0.7600851307385543,-1.0803681239234184,-1.1214215967099377,-1.1258709388809658,-0.7974100168871736,-1.0495183307796236,-0.7330657809646137,-0.7124870212307344,-1.091496226665172,-1.148797682484987,-0.8628145580066005,-1.1451075641058788,-1.256043652836413,-0.8768756712367914,-1.2918510670010845,-0.9084411074574529,-0.9420811838054812,-1.1909238619889435,-0.8264134354603279,-1.288399386836876,-1.146241490061649,-1.1303296750977694,-0.7243634578657608,-0.7709294972293577,-0.7219488558302062,-1.184131071259705,-1.2312548706657913,-1.108057093845176,-0.8114473929789178,-0.9695285179737354,-1.1557657286338172,-0.8563373900150891,-0.998879809670533,-1.0624787627643202,-1.2543824313434286,-0.9078715802563309,-0.9155864364811953,-0.7425550810605258,-0.8243387738364433,-0.7536607657233031,-0.9140896750601003,-1.013411328622244,-0.7187292165452317,-0.8364229688804219,-1.0466970580921253,-1.116114050069315,-0.7881755196708311,-1.2773548766177125,-0.8331868682145052,-0.9463758644809328,-1.0662101729919735,-0.8794845266530344,-1.0087682325111675,-1.0169923911765781,-0.9455337780385429,-1.0392171384213151]},{\"label\":\"max_leaves\",\"range\":[10,99],\"values\":[25,90,80,92,63,36,86,80,22,61,79,39,49,80,52,96,17,26,78,99,20,50,68,98,60,45,78,85,61,23,97,65,84,64,28,62,11,97,79,18,20,45,15,39,44,55,65,86,28,81,58,57,61,88,59,69,45,88,80,29,96,39,13,35,17,71,91,54,21,22,16,16,64,81,10,67,57,63,18,30,73,92,33,21,10,13,64,12,44,22,66,63,20,83,97,52,19,98,22,98]},{\"label\":\"min_child_weight\",\"range\":[0.00014989222440811413,0.09957570119248373],\"values\":[0.09062090000697552,0.00014989222440811413,0.05807128247569465,0.09616540961734298,0.020152010260843137,0.032466405620530436,0.07195745065939732,0.05055484193927053,0.09627436220780222,0.09575569520340353,0.09059741358709238,0.031329690722435764,0.023983100088959538,0.08828277719146971,0.05914233896993635,0.036278476949167575,0.0327446980578377,0.03889608295890626,0.009608581397880648,0.06290459299640624,0.053117992424294214,0.05897940473138452,0.04842482272570522,0.0020518341062332364,0.044429048979442096,0.05244470309272747,0.07014162423020358,0.026952490107305896,0.0018405962088782135,0.038835473265668954,0.016602752346942088,0.028212892173646774,0.03375616093523024,0.09492611452598529,0.09758136696343862,0.09451755797805614,0.0017410868414028723,0.07191084558877864,0.03470146545178998,0.02871796278918465,0.05124901159568331,0.02622033723512171,0.03035343811061913,0.09012864473575041,0.09218091862089907,0.013561041142924215,0.006046165193331535,0.009371151664211038,0.030674403857938983,0.06727933524465787,0.004457517505280005,0.05677224054046507,0.07033443376132284,0.04700099352211581,0.03224143582275578,0.0015101033025922794,0.055865764522053864,0.01477814416456801,0.042095095437267166,0.09957171357287237,0.06620448366151645,0.09832058178970958,0.09747442383213341,0.034765372900704875,0.036093248924470876,0.06179785176773496,0.04608936771113887,0.07464231022987858,0.034791640999568,0.03744338833926022,0.06465070231115405,0.07633558467169578,0.09477243929204353,0.003340341101669914,0.03843753558063368,0.016849159635150286,0.06908952621065646,0.03418678618736209,0.02964109483619971,0.04581124803996634,0.03882298885052036,0.054215927944658515,0.07821650029560907,0.04168141425475735,0.08030686012166807,0.04421699835832747,0.05056871417363918,0.03291718348239762,0.0022735825335787534,0.07958037739577817,0.016663427221383375,0.05758831240256832,0.010454920774295861,0.06343376367828446,0.006248899854930334,0.09957570119248373,0.08234574967580864,0.028154518173188026,0.08748520053485304,0.07238089585538549]},{\"label\":\"min_split_loss\",\"range\":[-4.989597451109969,-3.0603011110461273],\"ticktext\":[\"1.02e-05\",\"0.0001\",\"0.00087\"],\"tickvals\":[-4.989597451109969,-4,-3.0603011110461273],\"values\":[-4.060316411744786,-4.004632218285693,-3.6095906263204607,-3.9180136468279505,-4.360017118595772,-4.573632882546047,-4.437170727186967,-3.347570559779262,-4.904260007949043,-4.841264941646151,-4.287348057509142,-4.210311898683892,-4.989597451109969,-4.821427846262858,-4.532460950259168,-4.228093005112232,-4.429747454906057,-4.7136408427249314,-4.941860260788803,-3.3930494952990804,-3.8217629110146376,-3.5140443978679037,-3.6480342447996263,-3.0705598290094698,-4.8277236831176635,-3.0603011110461273,-3.9400199595530014,-4.890863726393858,-3.7256672821711234,-4.977943785626615,-3.2545099533367785,-4.699712655266603,-4.34854800404111,-3.3908734102012836,-4.434790972376617,-3.697872884645464,-3.7271257311087047,-3.0654575483245545,-3.3343186537842793,-3.556201332311939,-4.170652083842542,-4.792905213106387,-4.0799461071434635,-4.583698498867841,-4.914364060430143,-3.4966723466847047,-4.953690059200088,-4.645379365239946,-3.2066215507345106,-3.853054878086062,-4.002929113946055,-4.103053362523037,-4.205594288237525,-3.939473912882645,-3.0853741981986835,-3.6675160215146887,-3.098836279300966,-3.327870568522522,-3.533604089255353,-4.324172141515733,-4.373116936493646,-3.0900982356017574,-3.561579934172612,-3.6093430768670274,-3.203132581435668,-4.602604009082399,-4.522303682199888,-3.6933505522390675,-4.322075591940121,-3.6760146603551256,-3.0752268230649418,-3.2250923967808656,-4.495737213240899,-4.455468521153842,-3.1823044734024073,-3.998795020490659,-3.8387872848661355,-3.726203728659993,-4.667949262945537,-3.174155701955146,-3.386652951772747,-4.101623486702242,-4.510477266640332,-3.084323909881583,-3.114097579934529,-3.7684785569390264,-3.4614006583495645,-3.1645805895725942,-3.582802520967013,-4.690253333469028,-3.5569727835561706,-4.771489869434853,-4.901249640728012,-4.410474628152437,-3.692333184829623,-3.820264763673243,-4.966939262641362,-3.8046523910220116,-3.1233543080442563,-3.1500432517025705]},{\"label\":\"reg_lambda\",\"range\":[-4.862347874797034,-0.03306997627692681],\"ticktext\":[\"1.37e-05\",\"0.0001\",\"0.001\",\"0.01\",\"0.1\",\"0.927\"],\"tickvals\":[-4.862347874797034,-4,-3,-2,-1,-0.03306997627692681],\"values\":[-2.8626789985892174,-0.03306997627692681,-0.9939756687688648,-3.560036653384792,-2.2673660947937857,-4.516398739312466,-2.266065834970433,-0.9444664955104656,-1.8972940491197636,-3.979119744484171,-1.78752006411027,-1.2518124072572303,-3.8144492127535683,-3.8029801365812848,-2.611541553078949,-1.6373473451412646,-3.908497128771348,-3.5117122529374387,-3.5900563071786764,-2.1665003819643487,-1.3293737786436173,-0.6656301638755548,-3.6799773640156968,-2.777885952204104,-3.821620138362266,-3.734249643019796,-2.5202035520695487,-3.977631440865565,-0.7339695265140846,-3.4559188949990447,-3.9715806120571897,-1.1020033431346608,-3.095563186987631,-4.862347874797034,-2.1495306700472594,-0.04735436999079767,-2.1313596392621625,-3.509255759820171,-3.6582156274222895,-1.426582350803285,-3.8243834487044013,-0.3128071298774296,-2.8515126544104232,-0.3461107063598843,-1.4443260233167723,-2.7624564725563028,-3.2885467581313192,-3.788521501671674,-3.027048323679306,-2.6829383157163536,-2.033773664738251,-0.5141861722810632,-3.0956371208193887,-2.2826726363679923,-4.627892538136744,-1.7693859755464665,-4.055928753075832,-2.598566971642766,-0.04453697239812214,-2.138149077978386,-1.5377681127345153,-0.4370961687235983,-4.784057152029025,-1.7777921223258957,-4.358173688003629,-4.063161248777526,-1.5913529389882803,-1.9730746487866104,-0.3436929768933998,-1.7228011410155843,-1.3415896165384746,-1.4893556821464524,-2.3110433652362885,-4.156308399498661,-3.5236643802468466,-4.51863547693183,-1.1076655084227873,-1.6691963945698758,-3.515052421849726,-4.290397080012014,-0.9860268995141296,-0.20692559295500765,-2.4548953491675247,-2.3861560271867908,-2.8250018196782714,-2.048814487883333,-0.8189636892784306,-4.62915548388934,-1.2753793242545206,-0.6457960880889165,-3.153258086281629,-2.583138798416282,-0.9622821771789628,-4.218282159721434,-2.775326735632453,-0.03772051422897307,-3.8558632616546284,-2.785184704515798,-0.7986957084539494,-3.723476274204976]},{\"label\":\"subsample\",\"range\":[0.5012690556127861,0.9872767319371626],\"values\":[0.8582968215957516,0.7954824103619228,0.5057910973453676,0.6453042528336161,0.7424784137478403,0.5012690556127861,0.8534763097192721,0.7559194188481714,0.7169693232339172,0.927287242027379,0.7105472973299771,0.7701390174230464,0.8801981471886976,0.7092426965974418,0.8083946597663134,0.9308323700277985,0.7168533978848157,0.9486670244114604,0.5279392481943801,0.6732324260624987,0.6418931064609251,0.5477229276291571,0.7417228969458574,0.8214975195673008,0.7167895092493024,0.5985862423837117,0.8133250988256652,0.7334141653727871,0.9814073573458049,0.7568892392649167,0.8634572390100252,0.6253193267689232,0.9669974343961958,0.8050771941823052,0.7810549927883651,0.640896659158062,0.8643979397755102,0.7379051864241173,0.8693648058107502,0.6277114893120733,0.557243697195334,0.5070326324373764,0.6383020177912591,0.583534900117662,0.9696681758176697,0.5527993759271521,0.8220622217687561,0.6662244394081649,0.7021355180189364,0.679099385618829,0.566711914124362,0.927722932978353,0.7250398489548725,0.6722436679985454,0.9557535472452103,0.7440138575989793,0.9278204672369126,0.7959663840313009,0.6070730736780037,0.7627856043612139,0.7892620105079571,0.6431184949945834,0.8904917004398092,0.5379584027473465,0.7717597166976969,0.5073518539917683,0.7101595152446323,0.6003223876312661,0.6652037756089735,0.5813697334479088,0.8568563658797343,0.8752581458731136,0.5551986085176415,0.8873459538322975,0.5660535513382552,0.8975288656724788,0.8427826388003326,0.8743077129753076,0.7231263757833506,0.9426187824242456,0.835761568986187,0.9872767319371626,0.6528148108808043,0.5434598070884897,0.8123074021729286,0.7201324234530966,0.8405390891682338,0.9829176207656183,0.6717212737605,0.8378362038339879,0.5761903936042432,0.7015668678253307,0.6032817126698666,0.707273109013568,0.673187319764277,0.811984531948126,0.8058648915009878,0.8911723872482816,0.680986961528756,0.9333700523953109]}],\"labelangle\":30,\"labelside\":\"bottom\",\"line\":{\"color\":[1.2253651671962258,1.0886760006421088,1.2299367685549611,1.0322713984871954,1.0478327953424666,1.3222336702443098,1.0429666578601564,1.1573608435909424,1.1521700602731288,1.0535772981571168,1.2662574471580461,1.1587908693915672,0.95716120779985,1.163632601336601,1.1005189813487375,1.042223361191775,1.1036266126335,1.2164549670538352,1.1874901842839116,1.1205273432940805,1.2230883082245456,1.1105388045652826,1.0435636964418058,1.0252866065944646,1.1607871015066702,1.1275452514641364,1.0954060856217458,0.9994573640880674,1.2223153721400337,1.133033399546282,1.2446066559097837,1.0504895214332977,1.0209942426667096,1.020801490869592,1.089700879915049,1.2326109175530076,1.152344982188902,1.087780518905435,1.0476824243420302,1.1100100073422383,1.14567618025675,1.2135988553426211,1.2006943503028624,1.0068953338754945,1.0288379275782153,1.2257505550031225,1.1354960709126287,1.0985877667891601,1.0818769324489963,1.1187978834102479,0.9981712286863432,1.0766639504662632,1.0031689628219282,1.1019720144146394,1.1385406753860632,1.1386316486106074,1.141948717272526,1.0706992954708419,1.04692472138216,1.115688133137732,1.050844646044364,1.18019109311829,1.0502992129243052,1.1185393404621362,1.175711577832087,1.1947145393196261,1.2072016866718578,1.1867218957593144,1.166472816300286,1.145994625052507,1.2012493414724512,1.2296036164053166,1.0985666453684029,1.0420548714138587,1.107091541373813,1.0906563577599027,1.0425939654254324,1.0049710132226557,1.1701127399518976,1.135421432716622,1.1037234468413228,0.9592992924282197,0.9514993959299727,1.2100135408602735,1.1357442089579393,1.0565774121488232,1.0262397791073283,1.0906969333769208,1.108305644084801,1.2154636930054221,1.0649589820122047,1.0196044532022985,1.1303787366328948,1.0910586695742512,1.094736776560892,1.097724315407346,1.1727357636224216,1.079338709048943,1.140249737556344,1.0532968094031294],\"colorbar\":{\"title\":{\"text\":\"Objective Value\"}},\"colorscale\":[[0.0,\"rgb(247,251,255)\"],[0.125,\"rgb(222,235,247)\"],[0.25,\"rgb(198,219,239)\"],[0.375,\"rgb(158,202,225)\"],[0.5,\"rgb(107,174,214)\"],[0.625,\"rgb(66,146,198)\"],[0.75,\"rgb(33,113,181)\"],[0.875,\"rgb(8,81,156)\"],[1.0,\"rgb(8,48,107)\"]],\"reversescale\":true,\"showscale\":true},\"type\":\"parcoords\"}],                        {\"title\":{\"text\":\"Parallel Coordinate Plot\"},\"template\":{\"data\":{\"histogram2dcontour\":[{\"type\":\"histogram2dcontour\",\"colorbar\":{\"outlinewidth\":0,\"ticks\":\"\"},\"colorscale\":[[0.0,\"#0d0887\"],[0.1111111111111111,\"#46039f\"],[0.2222222222222222,\"#7201a8\"],[0.3333333333333333,\"#9c179e\"],[0.4444444444444444,\"#bd3786\"],[0.5555555555555556,\"#d8576b\"],[0.6666666666666666,\"#ed7953\"],[0.7777777777777778,\"#fb9f3a\"],[0.8888888888888888,\"#fdca26\"],[1.0,\"#f0f921\"]]}],\"choropleth\":[{\"type\":\"choropleth\",\"colorbar\":{\"outlinewidth\":0,\"ticks\":\"\"}}],\"histogram2d\":[{\"type\":\"histogram2d\",\"colorbar\":{\"outlinewidth\":0,\"ticks\":\"\"},\"colorscale\":[[0.0,\"#0d0887\"],[0.1111111111111111,\"#46039f\"],[0.2222222222222222,\"#7201a8\"],[0.3333333333333333,\"#9c179e\"],[0.4444444444444444,\"#bd3786\"],[0.5555555555555556,\"#d8576b\"],[0.6666666666666666,\"#ed7953\"],[0.7777777777777778,\"#fb9f3a\"],[0.8888888888888888,\"#fdca26\"],[1.0,\"#f0f921\"]]}],\"heatmap\":[{\"type\":\"heatmap\",\"colorbar\":{\"outlinewidth\":0,\"ticks\":\"\"},\"colorscale\":[[0.0,\"#0d0887\"],[0.1111111111111111,\"#46039f\"],[0.2222222222222222,\"#7201a8\"],[0.3333333333333333,\"#9c179e\"],[0.4444444444444444,\"#bd3786\"],[0.5555555555555556,\"#d8576b\"],[0.6666666666666666,\"#ed7953\"],[0.7777777777777778,\"#fb9f3a\"],[0.8888888888888888,\"#fdca26\"],[1.0,\"#f0f921\"]]}],\"heatmapgl\":[{\"type\":\"heatmapgl\",\"colorbar\":{\"outlinewidth\":0,\"ticks\":\"\"},\"colorscale\":[[0.0,\"#0d0887\"],[0.1111111111111111,\"#46039f\"],[0.2222222222222222,\"#7201a8\"],[0.3333333333333333,\"#9c179e\"],[0.4444444444444444,\"#bd3786\"],[0.5555555555555556,\"#d8576b\"],[0.6666666666666666,\"#ed7953\"],[0.7777777777777778,\"#fb9f3a\"],[0.8888888888888888,\"#fdca26\"],[1.0,\"#f0f921\"]]}],\"contourcarpet\":[{\"type\":\"contourcarpet\",\"colorbar\":{\"outlinewidth\":0,\"ticks\":\"\"}}],\"contour\":[{\"type\":\"contour\",\"colorbar\":{\"outlinewidth\":0,\"ticks\":\"\"},\"colorscale\":[[0.0,\"#0d0887\"],[0.1111111111111111,\"#46039f\"],[0.2222222222222222,\"#7201a8\"],[0.3333333333333333,\"#9c179e\"],[0.4444444444444444,\"#bd3786\"],[0.5555555555555556,\"#d8576b\"],[0.6666666666666666,\"#ed7953\"],[0.7777777777777778,\"#fb9f3a\"],[0.8888888888888888,\"#fdca26\"],[1.0,\"#f0f921\"]]}],\"surface\":[{\"type\":\"surface\",\"colorbar\":{\"outlinewidth\":0,\"ticks\":\"\"},\"colorscale\":[[0.0,\"#0d0887\"],[0.1111111111111111,\"#46039f\"],[0.2222222222222222,\"#7201a8\"],[0.3333333333333333,\"#9c179e\"],[0.4444444444444444,\"#bd3786\"],[0.5555555555555556,\"#d8576b\"],[0.6666666666666666,\"#ed7953\"],[0.7777777777777778,\"#fb9f3a\"],[0.8888888888888888,\"#fdca26\"],[1.0,\"#f0f921\"]]}],\"mesh3d\":[{\"type\":\"mesh3d\",\"colorbar\":{\"outlinewidth\":0,\"ticks\":\"\"}}],\"scatter\":[{\"fillpattern\":{\"fillmode\":\"overlay\",\"size\":10,\"solidity\":0.2},\"type\":\"scatter\"}],\"parcoords\":[{\"type\":\"parcoords\",\"line\":{\"colorbar\":{\"outlinewidth\":0,\"ticks\":\"\"}}}],\"scatterpolargl\":[{\"type\":\"scatterpolargl\",\"marker\":{\"colorbar\":{\"outlinewidth\":0,\"ticks\":\"\"}}}],\"bar\":[{\"error_x\":{\"color\":\"#2a3f5f\"},\"error_y\":{\"color\":\"#2a3f5f\"},\"marker\":{\"line\":{\"color\":\"#E5ECF6\",\"width\":0.5},\"pattern\":{\"fillmode\":\"overlay\",\"size\":10,\"solidity\":0.2}},\"type\":\"bar\"}],\"scattergeo\":[{\"type\":\"scattergeo\",\"marker\":{\"colorbar\":{\"outlinewidth\":0,\"ticks\":\"\"}}}],\"scatterpolar\":[{\"type\":\"scatterpolar\",\"marker\":{\"colorbar\":{\"outlinewidth\":0,\"ticks\":\"\"}}}],\"histogram\":[{\"marker\":{\"pattern\":{\"fillmode\":\"overlay\",\"size\":10,\"solidity\":0.2}},\"type\":\"histogram\"}],\"scattergl\":[{\"type\":\"scattergl\",\"marker\":{\"colorbar\":{\"outlinewidth\":0,\"ticks\":\"\"}}}],\"scatter3d\":[{\"type\":\"scatter3d\",\"line\":{\"colorbar\":{\"outlinewidth\":0,\"ticks\":\"\"}},\"marker\":{\"colorbar\":{\"outlinewidth\":0,\"ticks\":\"\"}}}],\"scattermapbox\":[{\"type\":\"scattermapbox\",\"marker\":{\"colorbar\":{\"outlinewidth\":0,\"ticks\":\"\"}}}],\"scatterternary\":[{\"type\":\"scatterternary\",\"marker\":{\"colorbar\":{\"outlinewidth\":0,\"ticks\":\"\"}}}],\"scattercarpet\":[{\"type\":\"scattercarpet\",\"marker\":{\"colorbar\":{\"outlinewidth\":0,\"ticks\":\"\"}}}],\"carpet\":[{\"aaxis\":{\"endlinecolor\":\"#2a3f5f\",\"gridcolor\":\"white\",\"linecolor\":\"white\",\"minorgridcolor\":\"white\",\"startlinecolor\":\"#2a3f5f\"},\"baxis\":{\"endlinecolor\":\"#2a3f5f\",\"gridcolor\":\"white\",\"linecolor\":\"white\",\"minorgridcolor\":\"white\",\"startlinecolor\":\"#2a3f5f\"},\"type\":\"carpet\"}],\"table\":[{\"cells\":{\"fill\":{\"color\":\"#EBF0F8\"},\"line\":{\"color\":\"white\"}},\"header\":{\"fill\":{\"color\":\"#C8D4E3\"},\"line\":{\"color\":\"white\"}},\"type\":\"table\"}],\"barpolar\":[{\"marker\":{\"line\":{\"color\":\"#E5ECF6\",\"width\":0.5},\"pattern\":{\"fillmode\":\"overlay\",\"size\":10,\"solidity\":0.2}},\"type\":\"barpolar\"}],\"pie\":[{\"automargin\":true,\"type\":\"pie\"}]},\"layout\":{\"autotypenumbers\":\"strict\",\"colorway\":[\"#636efa\",\"#EF553B\",\"#00cc96\",\"#ab63fa\",\"#FFA15A\",\"#19d3f3\",\"#FF6692\",\"#B6E880\",\"#FF97FF\",\"#FECB52\"],\"font\":{\"color\":\"#2a3f5f\"},\"hovermode\":\"closest\",\"hoverlabel\":{\"align\":\"left\"},\"paper_bgcolor\":\"white\",\"plot_bgcolor\":\"#E5ECF6\",\"polar\":{\"bgcolor\":\"#E5ECF6\",\"angularaxis\":{\"gridcolor\":\"white\",\"linecolor\":\"white\",\"ticks\":\"\"},\"radialaxis\":{\"gridcolor\":\"white\",\"linecolor\":\"white\",\"ticks\":\"\"}},\"ternary\":{\"bgcolor\":\"#E5ECF6\",\"aaxis\":{\"gridcolor\":\"white\",\"linecolor\":\"white\",\"ticks\":\"\"},\"baxis\":{\"gridcolor\":\"white\",\"linecolor\":\"white\",\"ticks\":\"\"},\"caxis\":{\"gridcolor\":\"white\",\"linecolor\":\"white\",\"ticks\":\"\"}},\"coloraxis\":{\"colorbar\":{\"outlinewidth\":0,\"ticks\":\"\"}},\"colorscale\":{\"sequential\":[[0.0,\"#0d0887\"],[0.1111111111111111,\"#46039f\"],[0.2222222222222222,\"#7201a8\"],[0.3333333333333333,\"#9c179e\"],[0.4444444444444444,\"#bd3786\"],[0.5555555555555556,\"#d8576b\"],[0.6666666666666666,\"#ed7953\"],[0.7777777777777778,\"#fb9f3a\"],[0.8888888888888888,\"#fdca26\"],[1.0,\"#f0f921\"]],\"sequentialminus\":[[0.0,\"#0d0887\"],[0.1111111111111111,\"#46039f\"],[0.2222222222222222,\"#7201a8\"],[0.3333333333333333,\"#9c179e\"],[0.4444444444444444,\"#bd3786\"],[0.5555555555555556,\"#d8576b\"],[0.6666666666666666,\"#ed7953\"],[0.7777777777777778,\"#fb9f3a\"],[0.8888888888888888,\"#fdca26\"],[1.0,\"#f0f921\"]],\"diverging\":[[0,\"#8e0152\"],[0.1,\"#c51b7d\"],[0.2,\"#de77ae\"],[0.3,\"#f1b6da\"],[0.4,\"#fde0ef\"],[0.5,\"#f7f7f7\"],[0.6,\"#e6f5d0\"],[0.7,\"#b8e186\"],[0.8,\"#7fbc41\"],[0.9,\"#4d9221\"],[1,\"#276419\"]]},\"xaxis\":{\"gridcolor\":\"white\",\"linecolor\":\"white\",\"ticks\":\"\",\"title\":{\"standoff\":15},\"zerolinecolor\":\"white\",\"automargin\":true,\"zerolinewidth\":2},\"yaxis\":{\"gridcolor\":\"white\",\"linecolor\":\"white\",\"ticks\":\"\",\"title\":{\"standoff\":15},\"zerolinecolor\":\"white\",\"automargin\":true,\"zerolinewidth\":2},\"scene\":{\"xaxis\":{\"backgroundcolor\":\"#E5ECF6\",\"gridcolor\":\"white\",\"linecolor\":\"white\",\"showbackground\":true,\"ticks\":\"\",\"zerolinecolor\":\"white\",\"gridwidth\":2},\"yaxis\":{\"backgroundcolor\":\"#E5ECF6\",\"gridcolor\":\"white\",\"linecolor\":\"white\",\"showbackground\":true,\"ticks\":\"\",\"zerolinecolor\":\"white\",\"gridwidth\":2},\"zaxis\":{\"backgroundcolor\":\"#E5ECF6\",\"gridcolor\":\"white\",\"linecolor\":\"white\",\"showbackground\":true,\"ticks\":\"\",\"zerolinecolor\":\"white\",\"gridwidth\":2}},\"shapedefaults\":{\"line\":{\"color\":\"#2a3f5f\"}},\"annotationdefaults\":{\"arrowcolor\":\"#2a3f5f\",\"arrowhead\":0,\"arrowwidth\":1},\"geo\":{\"bgcolor\":\"white\",\"landcolor\":\"#E5ECF6\",\"subunitcolor\":\"white\",\"showland\":true,\"showlakes\":true,\"lakecolor\":\"white\"},\"title\":{\"x\":0.05},\"mapbox\":{\"style\":\"light\"}}}},                        {\"responsive\": true}                    ).then(function(){\n",
       "                            \n",
       "var gd = document.getElementById('e1b669f3-8b6b-42c2-bc8f-50e67ac65324');\n",
       "var x = new MutationObserver(function (mutations, observer) {{\n",
       "        var display = window.getComputedStyle(gd).display;\n",
       "        if (!display || display === 'none') {{\n",
       "            console.log([gd, 'removed!']);\n",
       "            Plotly.purge(gd);\n",
       "            observer.disconnect();\n",
       "        }}\n",
       "}});\n",
       "\n",
       "// Listen for the removal of the full notebook cells\n",
       "var notebookContainer = gd.closest('#notebook-container');\n",
       "if (notebookContainer) {{\n",
       "    x.observe(notebookContainer, {childList: true});\n",
       "}}\n",
       "\n",
       "// Listen for the clearing of the current output cell\n",
       "var outputEl = gd.closest('.output');\n",
       "if (outputEl) {{\n",
       "    x.observe(outputEl, {childList: true});\n",
       "}}\n",
       "\n",
       "                        })                };                });            </script>        </div>"
      ]
     },
     "metadata": {},
     "output_type": "display_data"
    },
    {
     "data": {
      "application/vnd.plotly.v1+json": {
       "config": {
        "plotlyServerURL": "https://plot.ly"
       },
       "data": [
        {
         "cliponaxis": false,
         "hovertemplate": [
          "reg_lambda (FloatDistribution): 0.016248759476028392<extra></extra>",
          "min_child_weight (FloatDistribution): 0.054982970579812704<extra></extra>",
          "colsample_bytree (FloatDistribution): 0.08079231774217437<extra></extra>",
          "min_split_loss (FloatDistribution): 0.10336009423054693<extra></extra>",
          "learning_rate (FloatDistribution): 0.18200081069411572<extra></extra>",
          "max_leaves (IntDistribution): 0.2534581700100872<extra></extra>",
          "subsample (FloatDistribution): 0.3091568772672348<extra></extra>"
         ],
         "name": "Objective Value",
         "orientation": "h",
         "text": [
          "0.02",
          "0.05",
          "0.08",
          "0.10",
          "0.18",
          "0.25",
          "0.31"
         ],
         "textposition": "outside",
         "type": "bar",
         "x": [
          0.016248759476028392,
          0.054982970579812704,
          0.08079231774217437,
          0.10336009423054693,
          0.18200081069411572,
          0.2534581700100872,
          0.3091568772672348
         ],
         "y": [
          "reg_lambda",
          "min_child_weight",
          "colsample_bytree",
          "min_split_loss",
          "learning_rate",
          "max_leaves",
          "subsample"
         ]
        }
       ],
       "layout": {
        "autosize": true,
        "template": {
         "data": {
          "bar": [
           {
            "error_x": {
             "color": "#2a3f5f"
            },
            "error_y": {
             "color": "#2a3f5f"
            },
            "marker": {
             "line": {
              "color": "#E5ECF6",
              "width": 0.5
             },
             "pattern": {
              "fillmode": "overlay",
              "size": 10,
              "solidity": 0.2
             }
            },
            "type": "bar"
           }
          ],
          "barpolar": [
           {
            "marker": {
             "line": {
              "color": "#E5ECF6",
              "width": 0.5
             },
             "pattern": {
              "fillmode": "overlay",
              "size": 10,
              "solidity": 0.2
             }
            },
            "type": "barpolar"
           }
          ],
          "carpet": [
           {
            "aaxis": {
             "endlinecolor": "#2a3f5f",
             "gridcolor": "white",
             "linecolor": "white",
             "minorgridcolor": "white",
             "startlinecolor": "#2a3f5f"
            },
            "baxis": {
             "endlinecolor": "#2a3f5f",
             "gridcolor": "white",
             "linecolor": "white",
             "minorgridcolor": "white",
             "startlinecolor": "#2a3f5f"
            },
            "type": "carpet"
           }
          ],
          "choropleth": [
           {
            "colorbar": {
             "outlinewidth": 0,
             "ticks": ""
            },
            "type": "choropleth"
           }
          ],
          "contour": [
           {
            "colorbar": {
             "outlinewidth": 0,
             "ticks": ""
            },
            "colorscale": [
             [
              0,
              "#0d0887"
             ],
             [
              0.1111111111111111,
              "#46039f"
             ],
             [
              0.2222222222222222,
              "#7201a8"
             ],
             [
              0.3333333333333333,
              "#9c179e"
             ],
             [
              0.4444444444444444,
              "#bd3786"
             ],
             [
              0.5555555555555556,
              "#d8576b"
             ],
             [
              0.6666666666666666,
              "#ed7953"
             ],
             [
              0.7777777777777778,
              "#fb9f3a"
             ],
             [
              0.8888888888888888,
              "#fdca26"
             ],
             [
              1,
              "#f0f921"
             ]
            ],
            "type": "contour"
           }
          ],
          "contourcarpet": [
           {
            "colorbar": {
             "outlinewidth": 0,
             "ticks": ""
            },
            "type": "contourcarpet"
           }
          ],
          "heatmap": [
           {
            "colorbar": {
             "outlinewidth": 0,
             "ticks": ""
            },
            "colorscale": [
             [
              0,
              "#0d0887"
             ],
             [
              0.1111111111111111,
              "#46039f"
             ],
             [
              0.2222222222222222,
              "#7201a8"
             ],
             [
              0.3333333333333333,
              "#9c179e"
             ],
             [
              0.4444444444444444,
              "#bd3786"
             ],
             [
              0.5555555555555556,
              "#d8576b"
             ],
             [
              0.6666666666666666,
              "#ed7953"
             ],
             [
              0.7777777777777778,
              "#fb9f3a"
             ],
             [
              0.8888888888888888,
              "#fdca26"
             ],
             [
              1,
              "#f0f921"
             ]
            ],
            "type": "heatmap"
           }
          ],
          "heatmapgl": [
           {
            "colorbar": {
             "outlinewidth": 0,
             "ticks": ""
            },
            "colorscale": [
             [
              0,
              "#0d0887"
             ],
             [
              0.1111111111111111,
              "#46039f"
             ],
             [
              0.2222222222222222,
              "#7201a8"
             ],
             [
              0.3333333333333333,
              "#9c179e"
             ],
             [
              0.4444444444444444,
              "#bd3786"
             ],
             [
              0.5555555555555556,
              "#d8576b"
             ],
             [
              0.6666666666666666,
              "#ed7953"
             ],
             [
              0.7777777777777778,
              "#fb9f3a"
             ],
             [
              0.8888888888888888,
              "#fdca26"
             ],
             [
              1,
              "#f0f921"
             ]
            ],
            "type": "heatmapgl"
           }
          ],
          "histogram": [
           {
            "marker": {
             "pattern": {
              "fillmode": "overlay",
              "size": 10,
              "solidity": 0.2
             }
            },
            "type": "histogram"
           }
          ],
          "histogram2d": [
           {
            "colorbar": {
             "outlinewidth": 0,
             "ticks": ""
            },
            "colorscale": [
             [
              0,
              "#0d0887"
             ],
             [
              0.1111111111111111,
              "#46039f"
             ],
             [
              0.2222222222222222,
              "#7201a8"
             ],
             [
              0.3333333333333333,
              "#9c179e"
             ],
             [
              0.4444444444444444,
              "#bd3786"
             ],
             [
              0.5555555555555556,
              "#d8576b"
             ],
             [
              0.6666666666666666,
              "#ed7953"
             ],
             [
              0.7777777777777778,
              "#fb9f3a"
             ],
             [
              0.8888888888888888,
              "#fdca26"
             ],
             [
              1,
              "#f0f921"
             ]
            ],
            "type": "histogram2d"
           }
          ],
          "histogram2dcontour": [
           {
            "colorbar": {
             "outlinewidth": 0,
             "ticks": ""
            },
            "colorscale": [
             [
              0,
              "#0d0887"
             ],
             [
              0.1111111111111111,
              "#46039f"
             ],
             [
              0.2222222222222222,
              "#7201a8"
             ],
             [
              0.3333333333333333,
              "#9c179e"
             ],
             [
              0.4444444444444444,
              "#bd3786"
             ],
             [
              0.5555555555555556,
              "#d8576b"
             ],
             [
              0.6666666666666666,
              "#ed7953"
             ],
             [
              0.7777777777777778,
              "#fb9f3a"
             ],
             [
              0.8888888888888888,
              "#fdca26"
             ],
             [
              1,
              "#f0f921"
             ]
            ],
            "type": "histogram2dcontour"
           }
          ],
          "mesh3d": [
           {
            "colorbar": {
             "outlinewidth": 0,
             "ticks": ""
            },
            "type": "mesh3d"
           }
          ],
          "parcoords": [
           {
            "line": {
             "colorbar": {
              "outlinewidth": 0,
              "ticks": ""
             }
            },
            "type": "parcoords"
           }
          ],
          "pie": [
           {
            "automargin": true,
            "type": "pie"
           }
          ],
          "scatter": [
           {
            "fillpattern": {
             "fillmode": "overlay",
             "size": 10,
             "solidity": 0.2
            },
            "type": "scatter"
           }
          ],
          "scatter3d": [
           {
            "line": {
             "colorbar": {
              "outlinewidth": 0,
              "ticks": ""
             }
            },
            "marker": {
             "colorbar": {
              "outlinewidth": 0,
              "ticks": ""
             }
            },
            "type": "scatter3d"
           }
          ],
          "scattercarpet": [
           {
            "marker": {
             "colorbar": {
              "outlinewidth": 0,
              "ticks": ""
             }
            },
            "type": "scattercarpet"
           }
          ],
          "scattergeo": [
           {
            "marker": {
             "colorbar": {
              "outlinewidth": 0,
              "ticks": ""
             }
            },
            "type": "scattergeo"
           }
          ],
          "scattergl": [
           {
            "marker": {
             "colorbar": {
              "outlinewidth": 0,
              "ticks": ""
             }
            },
            "type": "scattergl"
           }
          ],
          "scattermapbox": [
           {
            "marker": {
             "colorbar": {
              "outlinewidth": 0,
              "ticks": ""
             }
            },
            "type": "scattermapbox"
           }
          ],
          "scatterpolar": [
           {
            "marker": {
             "colorbar": {
              "outlinewidth": 0,
              "ticks": ""
             }
            },
            "type": "scatterpolar"
           }
          ],
          "scatterpolargl": [
           {
            "marker": {
             "colorbar": {
              "outlinewidth": 0,
              "ticks": ""
             }
            },
            "type": "scatterpolargl"
           }
          ],
          "scatterternary": [
           {
            "marker": {
             "colorbar": {
              "outlinewidth": 0,
              "ticks": ""
             }
            },
            "type": "scatterternary"
           }
          ],
          "surface": [
           {
            "colorbar": {
             "outlinewidth": 0,
             "ticks": ""
            },
            "colorscale": [
             [
              0,
              "#0d0887"
             ],
             [
              0.1111111111111111,
              "#46039f"
             ],
             [
              0.2222222222222222,
              "#7201a8"
             ],
             [
              0.3333333333333333,
              "#9c179e"
             ],
             [
              0.4444444444444444,
              "#bd3786"
             ],
             [
              0.5555555555555556,
              "#d8576b"
             ],
             [
              0.6666666666666666,
              "#ed7953"
             ],
             [
              0.7777777777777778,
              "#fb9f3a"
             ],
             [
              0.8888888888888888,
              "#fdca26"
             ],
             [
              1,
              "#f0f921"
             ]
            ],
            "type": "surface"
           }
          ],
          "table": [
           {
            "cells": {
             "fill": {
              "color": "#EBF0F8"
             },
             "line": {
              "color": "white"
             }
            },
            "header": {
             "fill": {
              "color": "#C8D4E3"
             },
             "line": {
              "color": "white"
             }
            },
            "type": "table"
           }
          ]
         },
         "layout": {
          "annotationdefaults": {
           "arrowcolor": "#2a3f5f",
           "arrowhead": 0,
           "arrowwidth": 1
          },
          "autotypenumbers": "strict",
          "coloraxis": {
           "colorbar": {
            "outlinewidth": 0,
            "ticks": ""
           }
          },
          "colorscale": {
           "diverging": [
            [
             0,
             "#8e0152"
            ],
            [
             0.1,
             "#c51b7d"
            ],
            [
             0.2,
             "#de77ae"
            ],
            [
             0.3,
             "#f1b6da"
            ],
            [
             0.4,
             "#fde0ef"
            ],
            [
             0.5,
             "#f7f7f7"
            ],
            [
             0.6,
             "#e6f5d0"
            ],
            [
             0.7,
             "#b8e186"
            ],
            [
             0.8,
             "#7fbc41"
            ],
            [
             0.9,
             "#4d9221"
            ],
            [
             1,
             "#276419"
            ]
           ],
           "sequential": [
            [
             0,
             "#0d0887"
            ],
            [
             0.1111111111111111,
             "#46039f"
            ],
            [
             0.2222222222222222,
             "#7201a8"
            ],
            [
             0.3333333333333333,
             "#9c179e"
            ],
            [
             0.4444444444444444,
             "#bd3786"
            ],
            [
             0.5555555555555556,
             "#d8576b"
            ],
            [
             0.6666666666666666,
             "#ed7953"
            ],
            [
             0.7777777777777778,
             "#fb9f3a"
            ],
            [
             0.8888888888888888,
             "#fdca26"
            ],
            [
             1,
             "#f0f921"
            ]
           ],
           "sequentialminus": [
            [
             0,
             "#0d0887"
            ],
            [
             0.1111111111111111,
             "#46039f"
            ],
            [
             0.2222222222222222,
             "#7201a8"
            ],
            [
             0.3333333333333333,
             "#9c179e"
            ],
            [
             0.4444444444444444,
             "#bd3786"
            ],
            [
             0.5555555555555556,
             "#d8576b"
            ],
            [
             0.6666666666666666,
             "#ed7953"
            ],
            [
             0.7777777777777778,
             "#fb9f3a"
            ],
            [
             0.8888888888888888,
             "#fdca26"
            ],
            [
             1,
             "#f0f921"
            ]
           ]
          },
          "colorway": [
           "#636efa",
           "#EF553B",
           "#00cc96",
           "#ab63fa",
           "#FFA15A",
           "#19d3f3",
           "#FF6692",
           "#B6E880",
           "#FF97FF",
           "#FECB52"
          ],
          "font": {
           "color": "#2a3f5f"
          },
          "geo": {
           "bgcolor": "white",
           "lakecolor": "white",
           "landcolor": "#E5ECF6",
           "showlakes": true,
           "showland": true,
           "subunitcolor": "white"
          },
          "hoverlabel": {
           "align": "left"
          },
          "hovermode": "closest",
          "mapbox": {
           "style": "light"
          },
          "paper_bgcolor": "white",
          "plot_bgcolor": "#E5ECF6",
          "polar": {
           "angularaxis": {
            "gridcolor": "white",
            "linecolor": "white",
            "ticks": ""
           },
           "bgcolor": "#E5ECF6",
           "radialaxis": {
            "gridcolor": "white",
            "linecolor": "white",
            "ticks": ""
           }
          },
          "scene": {
           "xaxis": {
            "backgroundcolor": "#E5ECF6",
            "gridcolor": "white",
            "gridwidth": 2,
            "linecolor": "white",
            "showbackground": true,
            "ticks": "",
            "zerolinecolor": "white"
           },
           "yaxis": {
            "backgroundcolor": "#E5ECF6",
            "gridcolor": "white",
            "gridwidth": 2,
            "linecolor": "white",
            "showbackground": true,
            "ticks": "",
            "zerolinecolor": "white"
           },
           "zaxis": {
            "backgroundcolor": "#E5ECF6",
            "gridcolor": "white",
            "gridwidth": 2,
            "linecolor": "white",
            "showbackground": true,
            "ticks": "",
            "zerolinecolor": "white"
           }
          },
          "shapedefaults": {
           "line": {
            "color": "#2a3f5f"
           }
          },
          "ternary": {
           "aaxis": {
            "gridcolor": "white",
            "linecolor": "white",
            "ticks": ""
           },
           "baxis": {
            "gridcolor": "white",
            "linecolor": "white",
            "ticks": ""
           },
           "bgcolor": "#E5ECF6",
           "caxis": {
            "gridcolor": "white",
            "linecolor": "white",
            "ticks": ""
           }
          },
          "title": {
           "x": 0.05
          },
          "xaxis": {
           "automargin": true,
           "gridcolor": "white",
           "linecolor": "white",
           "ticks": "",
           "title": {
            "standoff": 15
           },
           "zerolinecolor": "white",
           "zerolinewidth": 2
          },
          "yaxis": {
           "automargin": true,
           "gridcolor": "white",
           "linecolor": "white",
           "ticks": "",
           "title": {
            "standoff": 15
           },
           "zerolinecolor": "white",
           "zerolinewidth": 2
          }
         }
        },
        "title": {
         "text": "Hyperparameter Importances"
        },
        "xaxis": {
         "autorange": true,
         "range": [
          0,
          0.32542829186024713
         ],
         "title": {
          "text": "Hyperparameter Importance"
         },
         "type": "linear"
        },
        "yaxis": {
         "autorange": true,
         "range": [
          -0.5,
          6.5
         ],
         "title": {
          "text": "Hyperparameter"
         },
         "type": "category"
        }
       }
      },
      "image/png": "[encoded data removed]",
      "text/html": [
       "<div>                            <div id=\"0021e51b-9d11-493f-a441-995d7def3285\" class=\"plotly-graph-div\" style=\"height:525px; width:100%;\"></div>            <script type=\"text/javascript\">                require([\"plotly\"], function(Plotly) {                    window.PLOTLYENV=window.PLOTLYENV || {};                                    if (document.getElementById(\"0021e51b-9d11-493f-a441-995d7def3285\")) {                    Plotly.newPlot(                        \"0021e51b-9d11-493f-a441-995d7def3285\",                        [{\"cliponaxis\":false,\"hovertemplate\":[\"reg_lambda (FloatDistribution): 0.016248759476028392\\u003cextra\\u003e\\u003c\\u002fextra\\u003e\",\"min_child_weight (FloatDistribution): 0.054982970579812704\\u003cextra\\u003e\\u003c\\u002fextra\\u003e\",\"colsample_bytree (FloatDistribution): 0.08079231774217437\\u003cextra\\u003e\\u003c\\u002fextra\\u003e\",\"min_split_loss (FloatDistribution): 0.10336009423054693\\u003cextra\\u003e\\u003c\\u002fextra\\u003e\",\"learning_rate (FloatDistribution): 0.18200081069411572\\u003cextra\\u003e\\u003c\\u002fextra\\u003e\",\"max_leaves (IntDistribution): 0.2534581700100872\\u003cextra\\u003e\\u003c\\u002fextra\\u003e\",\"subsample (FloatDistribution): 0.3091568772672348\\u003cextra\\u003e\\u003c\\u002fextra\\u003e\"],\"name\":\"Objective Value\",\"orientation\":\"h\",\"text\":[\"0.02\",\"0.05\",\"0.08\",\"0.10\",\"0.18\",\"0.25\",\"0.31\"],\"textposition\":\"outside\",\"x\":[0.016248759476028392,0.054982970579812704,0.08079231774217437,0.10336009423054693,0.18200081069411572,0.2534581700100872,0.3091568772672348],\"y\":[\"reg_lambda\",\"min_child_weight\",\"colsample_bytree\",\"min_split_loss\",\"learning_rate\",\"max_leaves\",\"subsample\"],\"type\":\"bar\"}],                        {\"title\":{\"text\":\"Hyperparameter Importances\"},\"xaxis\":{\"title\":{\"text\":\"Hyperparameter Importance\"}},\"yaxis\":{\"title\":{\"text\":\"Hyperparameter\"}},\"template\":{\"data\":{\"histogram2dcontour\":[{\"type\":\"histogram2dcontour\",\"colorbar\":{\"outlinewidth\":0,\"ticks\":\"\"},\"colorscale\":[[0.0,\"#0d0887\"],[0.1111111111111111,\"#46039f\"],[0.2222222222222222,\"#7201a8\"],[0.3333333333333333,\"#9c179e\"],[0.4444444444444444,\"#bd3786\"],[0.5555555555555556,\"#d8576b\"],[0.6666666666666666,\"#ed7953\"],[0.7777777777777778,\"#fb9f3a\"],[0.8888888888888888,\"#fdca26\"],[1.0,\"#f0f921\"]]}],\"choropleth\":[{\"type\":\"choropleth\",\"colorbar\":{\"outlinewidth\":0,\"ticks\":\"\"}}],\"histogram2d\":[{\"type\":\"histogram2d\",\"colorbar\":{\"outlinewidth\":0,\"ticks\":\"\"},\"colorscale\":[[0.0,\"#0d0887\"],[0.1111111111111111,\"#46039f\"],[0.2222222222222222,\"#7201a8\"],[0.3333333333333333,\"#9c179e\"],[0.4444444444444444,\"#bd3786\"],[0.5555555555555556,\"#d8576b\"],[0.6666666666666666,\"#ed7953\"],[0.7777777777777778,\"#fb9f3a\"],[0.8888888888888888,\"#fdca26\"],[1.0,\"#f0f921\"]]}],\"heatmap\":[{\"type\":\"heatmap\",\"colorbar\":{\"outlinewidth\":0,\"ticks\":\"\"},\"colorscale\":[[0.0,\"#0d0887\"],[0.1111111111111111,\"#46039f\"],[0.2222222222222222,\"#7201a8\"],[0.3333333333333333,\"#9c179e\"],[0.4444444444444444,\"#bd3786\"],[0.5555555555555556,\"#d8576b\"],[0.6666666666666666,\"#ed7953\"],[0.7777777777777778,\"#fb9f3a\"],[0.8888888888888888,\"#fdca26\"],[1.0,\"#f0f921\"]]}],\"heatmapgl\":[{\"type\":\"heatmapgl\",\"colorbar\":{\"outlinewidth\":0,\"ticks\":\"\"},\"colorscale\":[[0.0,\"#0d0887\"],[0.1111111111111111,\"#46039f\"],[0.2222222222222222,\"#7201a8\"],[0.3333333333333333,\"#9c179e\"],[0.4444444444444444,\"#bd3786\"],[0.5555555555555556,\"#d8576b\"],[0.6666666666666666,\"#ed7953\"],[0.7777777777777778,\"#fb9f3a\"],[0.8888888888888888,\"#fdca26\"],[1.0,\"#f0f921\"]]}],\"contourcarpet\":[{\"type\":\"contourcarpet\",\"colorbar\":{\"outlinewidth\":0,\"ticks\":\"\"}}],\"contour\":[{\"type\":\"contour\",\"colorbar\":{\"outlinewidth\":0,\"ticks\":\"\"},\"colorscale\":[[0.0,\"#0d0887\"],[0.1111111111111111,\"#46039f\"],[0.2222222222222222,\"#7201a8\"],[0.3333333333333333,\"#9c179e\"],[0.4444444444444444,\"#bd3786\"],[0.5555555555555556,\"#d8576b\"],[0.6666666666666666,\"#ed7953\"],[0.7777777777777778,\"#fb9f3a\"],[0.8888888888888888,\"#fdca26\"],[1.0,\"#f0f921\"]]}],\"surface\":[{\"type\":\"surface\",\"colorbar\":{\"outlinewidth\":0,\"ticks\":\"\"},\"colorscale\":[[0.0,\"#0d0887\"],[0.1111111111111111,\"#46039f\"],[0.2222222222222222,\"#7201a8\"],[0.3333333333333333,\"#9c179e\"],[0.4444444444444444,\"#bd3786\"],[0.5555555555555556,\"#d8576b\"],[0.6666666666666666,\"#ed7953\"],[0.7777777777777778,\"#fb9f3a\"],[0.8888888888888888,\"#fdca26\"],[1.0,\"#f0f921\"]]}],\"mesh3d\":[{\"type\":\"mesh3d\",\"colorbar\":{\"outlinewidth\":0,\"ticks\":\"\"}}],\"scatter\":[{\"fillpattern\":{\"fillmode\":\"overlay\",\"size\":10,\"solidity\":0.2},\"type\":\"scatter\"}],\"parcoords\":[{\"type\":\"parcoords\",\"line\":{\"colorbar\":{\"outlinewidth\":0,\"ticks\":\"\"}}}],\"scatterpolargl\":[{\"type\":\"scatterpolargl\",\"marker\":{\"colorbar\":{\"outlinewidth\":0,\"ticks\":\"\"}}}],\"bar\":[{\"error_x\":{\"color\":\"#2a3f5f\"},\"error_y\":{\"color\":\"#2a3f5f\"},\"marker\":{\"line\":{\"color\":\"#E5ECF6\",\"width\":0.5},\"pattern\":{\"fillmode\":\"overlay\",\"size\":10,\"solidity\":0.2}},\"type\":\"bar\"}],\"scattergeo\":[{\"type\":\"scattergeo\",\"marker\":{\"colorbar\":{\"outlinewidth\":0,\"ticks\":\"\"}}}],\"scatterpolar\":[{\"type\":\"scatterpolar\",\"marker\":{\"colorbar\":{\"outlinewidth\":0,\"ticks\":\"\"}}}],\"histogram\":[{\"marker\":{\"pattern\":{\"fillmode\":\"overlay\",\"size\":10,\"solidity\":0.2}},\"type\":\"histogram\"}],\"scattergl\":[{\"type\":\"scattergl\",\"marker\":{\"colorbar\":{\"outlinewidth\":0,\"ticks\":\"\"}}}],\"scatter3d\":[{\"type\":\"scatter3d\",\"line\":{\"colorbar\":{\"outlinewidth\":0,\"ticks\":\"\"}},\"marker\":{\"colorbar\":{\"outlinewidth\":0,\"ticks\":\"\"}}}],\"scattermapbox\":[{\"type\":\"scattermapbox\",\"marker\":{\"colorbar\":{\"outlinewidth\":0,\"ticks\":\"\"}}}],\"scatterternary\":[{\"type\":\"scatterternary\",\"marker\":{\"colorbar\":{\"outlinewidth\":0,\"ticks\":\"\"}}}],\"scattercarpet\":[{\"type\":\"scattercarpet\",\"marker\":{\"colorbar\":{\"outlinewidth\":0,\"ticks\":\"\"}}}],\"carpet\":[{\"aaxis\":{\"endlinecolor\":\"#2a3f5f\",\"gridcolor\":\"white\",\"linecolor\":\"white\",\"minorgridcolor\":\"white\",\"startlinecolor\":\"#2a3f5f\"},\"baxis\":{\"endlinecolor\":\"#2a3f5f\",\"gridcolor\":\"white\",\"linecolor\":\"white\",\"minorgridcolor\":\"white\",\"startlinecolor\":\"#2a3f5f\"},\"type\":\"carpet\"}],\"table\":[{\"cells\":{\"fill\":{\"color\":\"#EBF0F8\"},\"line\":{\"color\":\"white\"}},\"header\":{\"fill\":{\"color\":\"#C8D4E3\"},\"line\":{\"color\":\"white\"}},\"type\":\"table\"}],\"barpolar\":[{\"marker\":{\"line\":{\"color\":\"#E5ECF6\",\"width\":0.5},\"pattern\":{\"fillmode\":\"overlay\",\"size\":10,\"solidity\":0.2}},\"type\":\"barpolar\"}],\"pie\":[{\"automargin\":true,\"type\":\"pie\"}]},\"layout\":{\"autotypenumbers\":\"strict\",\"colorway\":[\"#636efa\",\"#EF553B\",\"#00cc96\",\"#ab63fa\",\"#FFA15A\",\"#19d3f3\",\"#FF6692\",\"#B6E880\",\"#FF97FF\",\"#FECB52\"],\"font\":{\"color\":\"#2a3f5f\"},\"hovermode\":\"closest\",\"hoverlabel\":{\"align\":\"left\"},\"paper_bgcolor\":\"white\",\"plot_bgcolor\":\"#E5ECF6\",\"polar\":{\"bgcolor\":\"#E5ECF6\",\"angularaxis\":{\"gridcolor\":\"white\",\"linecolor\":\"white\",\"ticks\":\"\"},\"radialaxis\":{\"gridcolor\":\"white\",\"linecolor\":\"white\",\"ticks\":\"\"}},\"ternary\":{\"bgcolor\":\"#E5ECF6\",\"aaxis\":{\"gridcolor\":\"white\",\"linecolor\":\"white\",\"ticks\":\"\"},\"baxis\":{\"gridcolor\":\"white\",\"linecolor\":\"white\",\"ticks\":\"\"},\"caxis\":{\"gridcolor\":\"white\",\"linecolor\":\"white\",\"ticks\":\"\"}},\"coloraxis\":{\"colorbar\":{\"outlinewidth\":0,\"ticks\":\"\"}},\"colorscale\":{\"sequential\":[[0.0,\"#0d0887\"],[0.1111111111111111,\"#46039f\"],[0.2222222222222222,\"#7201a8\"],[0.3333333333333333,\"#9c179e\"],[0.4444444444444444,\"#bd3786\"],[0.5555555555555556,\"#d8576b\"],[0.6666666666666666,\"#ed7953\"],[0.7777777777777778,\"#fb9f3a\"],[0.8888888888888888,\"#fdca26\"],[1.0,\"#f0f921\"]],\"sequentialminus\":[[0.0,\"#0d0887\"],[0.1111111111111111,\"#46039f\"],[0.2222222222222222,\"#7201a8\"],[0.3333333333333333,\"#9c179e\"],[0.4444444444444444,\"#bd3786\"],[0.5555555555555556,\"#d8576b\"],[0.6666666666666666,\"#ed7953\"],[0.7777777777777778,\"#fb9f3a\"],[0.8888888888888888,\"#fdca26\"],[1.0,\"#f0f921\"]],\"diverging\":[[0,\"#8e0152\"],[0.1,\"#c51b7d\"],[0.2,\"#de77ae\"],[0.3,\"#f1b6da\"],[0.4,\"#fde0ef\"],[0.5,\"#f7f7f7\"],[0.6,\"#e6f5d0\"],[0.7,\"#b8e186\"],[0.8,\"#7fbc41\"],[0.9,\"#4d9221\"],[1,\"#276419\"]]},\"xaxis\":{\"gridcolor\":\"white\",\"linecolor\":\"white\",\"ticks\":\"\",\"title\":{\"standoff\":15},\"zerolinecolor\":\"white\",\"automargin\":true,\"zerolinewidth\":2},\"yaxis\":{\"gridcolor\":\"white\",\"linecolor\":\"white\",\"ticks\":\"\",\"title\":{\"standoff\":15},\"zerolinecolor\":\"white\",\"automargin\":true,\"zerolinewidth\":2},\"scene\":{\"xaxis\":{\"backgroundcolor\":\"#E5ECF6\",\"gridcolor\":\"white\",\"linecolor\":\"white\",\"showbackground\":true,\"ticks\":\"\",\"zerolinecolor\":\"white\",\"gridwidth\":2},\"yaxis\":{\"backgroundcolor\":\"#E5ECF6\",\"gridcolor\":\"white\",\"linecolor\":\"white\",\"showbackground\":true,\"ticks\":\"\",\"zerolinecolor\":\"white\",\"gridwidth\":2},\"zaxis\":{\"backgroundcolor\":\"#E5ECF6\",\"gridcolor\":\"white\",\"linecolor\":\"white\",\"showbackground\":true,\"ticks\":\"\",\"zerolinecolor\":\"white\",\"gridwidth\":2}},\"shapedefaults\":{\"line\":{\"color\":\"#2a3f5f\"}},\"annotationdefaults\":{\"arrowcolor\":\"#2a3f5f\",\"arrowhead\":0,\"arrowwidth\":1},\"geo\":{\"bgcolor\":\"white\",\"landcolor\":\"#E5ECF6\",\"subunitcolor\":\"white\",\"showland\":true,\"showlakes\":true,\"lakecolor\":\"white\"},\"title\":{\"x\":0.05},\"mapbox\":{\"style\":\"light\"}}}},                        {\"responsive\": true}                    ).then(function(){\n",
       "                            \n",
       "var gd = document.getElementById('0021e51b-9d11-493f-a441-995d7def3285');\n",
       "var x = new MutationObserver(function (mutations, observer) {{\n",
       "        var display = window.getComputedStyle(gd).display;\n",
       "        if (!display || display === 'none') {{\n",
       "            console.log([gd, 'removed!']);\n",
       "            Plotly.purge(gd);\n",
       "            observer.disconnect();\n",
       "        }}\n",
       "}});\n",
       "\n",
       "// Listen for the removal of the full notebook cells\n",
       "var notebookContainer = gd.closest('#notebook-container');\n",
       "if (notebookContainer) {{\n",
       "    x.observe(notebookContainer, {childList: true});\n",
       "}}\n",
       "\n",
       "// Listen for the clearing of the current output cell\n",
       "var outputEl = gd.closest('.output');\n",
       "if (outputEl) {{\n",
       "    x.observe(outputEl, {childList: true});\n",
       "}}\n",
       "\n",
       "                        })                };                });            </script>        </div>"
      ]
     },
     "metadata": {},
     "output_type": "display_data"
    }
   ],
   "source": [
    "display(opt_vis.plot_optimization_history(study),\n",
    "        opt_vis.plot_slice(study),\n",
    "        opt_vis.plot_parallel_coordinate(study),\n",
    "        opt_vis.plot_param_importances(study),\n",
    "       )"
   ]
  },
  {
   "cell_type": "code",
   "execution_count": null,
   "metadata": {},
   "outputs": [],
   "source": []
  },
  {
   "cell_type": "code",
   "execution_count": null,
   "metadata": {},
   "outputs": [],
   "source": []
  },
  {
   "cell_type": "code",
   "execution_count": 223,
   "metadata": {},
   "outputs": [],
   "source": [
    "output_df = pd.DataFrame({'ID': ext_pred.index, 'Target Pressure (bar)': ext_pred.values})\n",
    "output_df.to_csv('predictions.csv', index=False)"
   ]
  },
  {
   "cell_type": "code",
   "execution_count": null,
   "metadata": {},
   "outputs": [],
   "source": []
  },
  {
   "cell_type": "code",
   "execution_count": null,
   "metadata": {},
   "outputs": [],
   "source": []
  },
  {
   "cell_type": "code",
   "execution_count": null,
   "metadata": {},
   "outputs": [],
   "source": []
  }
 ],
 "metadata": {
  "colab": {
   "authorship_tag": "ABX9TyNfG3FBYs+RR4dcNrZ4B0J3",
   "include_colab_link": true,
   "provenance": []
  },
  "kernelspec": {
   "display_name": "Python 3 (ipykernel)",
   "language": "python",
   "name": "python3"
  },
  "language_info": {
   "codemirror_mode": {
    "name": "ipython",
    "version": 3
   },
   "file_extension": ".py",
   "mimetype": "text/x-python",
   "name": "python",
   "nbconvert_exporter": "python",
   "pygments_lexer": "ipython3",
   "version": "3.12.3"
  }
 },
 "nbformat": 4,
 "nbformat_minor": 4
}
